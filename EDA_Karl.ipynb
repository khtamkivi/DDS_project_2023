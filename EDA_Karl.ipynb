{
 "cells": [
  {
   "cell_type": "markdown",
   "id": "0ae7e6bb",
   "metadata": {},
   "source": [
    "## World Happiness Report 2021 - EDA"
   ]
  },
  {
   "cell_type": "markdown",
   "id": "51c0fb88",
   "metadata": {},
   "source": [
    "In this notebook I mainly focus on the .csv file that contains historical metric data of the countries previous to 2021."
   ]
  },
  {
   "cell_type": "code",
   "execution_count": 29,
   "id": "e6f5fb64",
   "metadata": {},
   "outputs": [],
   "source": [
    "import numpy as np\n",
    "import pandas as pd\n",
    "import matplotlib.pyplot as plt\n",
    "import geopandas as gpd\n",
    "import folium\n",
    "import ipywidgets as widgets\n",
    "from IPython.display import display"
   ]
  },
  {
   "cell_type": "code",
   "execution_count": 30,
   "id": "81df82ef",
   "metadata": {},
   "outputs": [],
   "source": [
    "data = pd.read_csv(\"world-happiness-report.csv\")"
   ]
  },
  {
   "cell_type": "code",
   "execution_count": 31,
   "id": "4fab5136",
   "metadata": {},
   "outputs": [
    {
     "data": {
      "text/html": [
       "<div>\n",
       "<style scoped>\n",
       "    .dataframe tbody tr th:only-of-type {\n",
       "        vertical-align: middle;\n",
       "    }\n",
       "\n",
       "    .dataframe tbody tr th {\n",
       "        vertical-align: top;\n",
       "    }\n",
       "\n",
       "    .dataframe thead th {\n",
       "        text-align: right;\n",
       "    }\n",
       "</style>\n",
       "<table border=\"1\" class=\"dataframe\">\n",
       "  <thead>\n",
       "    <tr style=\"text-align: right;\">\n",
       "      <th></th>\n",
       "      <th>Country name</th>\n",
       "      <th>year</th>\n",
       "      <th>Life Ladder</th>\n",
       "      <th>Log GDP per capita</th>\n",
       "      <th>Social support</th>\n",
       "      <th>Healthy life expectancy at birth</th>\n",
       "      <th>Freedom to make life choices</th>\n",
       "      <th>Generosity</th>\n",
       "      <th>Perceptions of corruption</th>\n",
       "      <th>Positive affect</th>\n",
       "      <th>Negative affect</th>\n",
       "    </tr>\n",
       "  </thead>\n",
       "  <tbody>\n",
       "    <tr>\n",
       "      <th>0</th>\n",
       "      <td>Afghanistan</td>\n",
       "      <td>2008</td>\n",
       "      <td>3.724</td>\n",
       "      <td>7.370</td>\n",
       "      <td>0.451</td>\n",
       "      <td>50.80</td>\n",
       "      <td>0.718</td>\n",
       "      <td>0.168</td>\n",
       "      <td>0.882</td>\n",
       "      <td>0.518</td>\n",
       "      <td>0.258</td>\n",
       "    </tr>\n",
       "    <tr>\n",
       "      <th>1</th>\n",
       "      <td>Afghanistan</td>\n",
       "      <td>2009</td>\n",
       "      <td>4.402</td>\n",
       "      <td>7.540</td>\n",
       "      <td>0.552</td>\n",
       "      <td>51.20</td>\n",
       "      <td>0.679</td>\n",
       "      <td>0.190</td>\n",
       "      <td>0.850</td>\n",
       "      <td>0.584</td>\n",
       "      <td>0.237</td>\n",
       "    </tr>\n",
       "    <tr>\n",
       "      <th>2</th>\n",
       "      <td>Afghanistan</td>\n",
       "      <td>2010</td>\n",
       "      <td>4.758</td>\n",
       "      <td>7.647</td>\n",
       "      <td>0.539</td>\n",
       "      <td>51.60</td>\n",
       "      <td>0.600</td>\n",
       "      <td>0.121</td>\n",
       "      <td>0.707</td>\n",
       "      <td>0.618</td>\n",
       "      <td>0.275</td>\n",
       "    </tr>\n",
       "    <tr>\n",
       "      <th>3</th>\n",
       "      <td>Afghanistan</td>\n",
       "      <td>2011</td>\n",
       "      <td>3.832</td>\n",
       "      <td>7.620</td>\n",
       "      <td>0.521</td>\n",
       "      <td>51.92</td>\n",
       "      <td>0.496</td>\n",
       "      <td>0.162</td>\n",
       "      <td>0.731</td>\n",
       "      <td>0.611</td>\n",
       "      <td>0.267</td>\n",
       "    </tr>\n",
       "    <tr>\n",
       "      <th>4</th>\n",
       "      <td>Afghanistan</td>\n",
       "      <td>2012</td>\n",
       "      <td>3.783</td>\n",
       "      <td>7.705</td>\n",
       "      <td>0.521</td>\n",
       "      <td>52.24</td>\n",
       "      <td>0.531</td>\n",
       "      <td>0.236</td>\n",
       "      <td>0.776</td>\n",
       "      <td>0.710</td>\n",
       "      <td>0.268</td>\n",
       "    </tr>\n",
       "  </tbody>\n",
       "</table>\n",
       "</div>"
      ],
      "text/plain": [
       "  Country name  year  Life Ladder  Log GDP per capita  Social support  \\\n",
       "0  Afghanistan  2008        3.724               7.370           0.451   \n",
       "1  Afghanistan  2009        4.402               7.540           0.552   \n",
       "2  Afghanistan  2010        4.758               7.647           0.539   \n",
       "3  Afghanistan  2011        3.832               7.620           0.521   \n",
       "4  Afghanistan  2012        3.783               7.705           0.521   \n",
       "\n",
       "   Healthy life expectancy at birth  Freedom to make life choices  Generosity  \\\n",
       "0                             50.80                         0.718       0.168   \n",
       "1                             51.20                         0.679       0.190   \n",
       "2                             51.60                         0.600       0.121   \n",
       "3                             51.92                         0.496       0.162   \n",
       "4                             52.24                         0.531       0.236   \n",
       "\n",
       "   Perceptions of corruption  Positive affect  Negative affect  \n",
       "0                      0.882            0.518            0.258  \n",
       "1                      0.850            0.584            0.237  \n",
       "2                      0.707            0.618            0.275  \n",
       "3                      0.731            0.611            0.267  \n",
       "4                      0.776            0.710            0.268  "
      ]
     },
     "execution_count": 31,
     "metadata": {},
     "output_type": "execute_result"
    }
   ],
   "source": [
    "data.head()"
   ]
  },
  {
   "cell_type": "code",
   "execution_count": 32,
   "id": "fd1283a6",
   "metadata": {},
   "outputs": [
    {
     "data": {
      "text/plain": [
       "Country name                          0\n",
       "year                                  0\n",
       "Life Ladder                           0\n",
       "Log GDP per capita                   36\n",
       "Social support                       13\n",
       "Healthy life expectancy at birth     55\n",
       "Freedom to make life choices         32\n",
       "Generosity                           89\n",
       "Perceptions of corruption           110\n",
       "Positive affect                      22\n",
       "Negative affect                      16\n",
       "dtype: int64"
      ]
     },
     "execution_count": 32,
     "metadata": {},
     "output_type": "execute_result"
    }
   ],
   "source": [
    "data.isna().sum()"
   ]
  },
  {
   "cell_type": "code",
   "execution_count": 33,
   "id": "fa000766",
   "metadata": {},
   "outputs": [],
   "source": [
    "data = data.rename(columns={\"Country name\": \"country\"})"
   ]
  },
  {
   "cell_type": "markdown",
   "id": "62b3b78d",
   "metadata": {},
   "source": [
    "Reading in the geodata for plotting."
   ]
  },
  {
   "cell_type": "code",
   "execution_count": 34,
   "id": "e04f7913",
   "metadata": {},
   "outputs": [],
   "source": [
    "countries = gpd.read_file('ne_50m_admin_0_countries/ne_50m_admin_0_countries.shp')"
   ]
  },
  {
   "cell_type": "code",
   "execution_count": 35,
   "id": "910a7e04",
   "metadata": {},
   "outputs": [
    {
     "data": {
      "text/html": [
       "<div>\n",
       "<style scoped>\n",
       "    .dataframe tbody tr th:only-of-type {\n",
       "        vertical-align: middle;\n",
       "    }\n",
       "\n",
       "    .dataframe tbody tr th {\n",
       "        vertical-align: top;\n",
       "    }\n",
       "\n",
       "    .dataframe thead th {\n",
       "        text-align: right;\n",
       "    }\n",
       "</style>\n",
       "<table border=\"1\" class=\"dataframe\">\n",
       "  <thead>\n",
       "    <tr style=\"text-align: right;\">\n",
       "      <th></th>\n",
       "      <th>featurecla</th>\n",
       "      <th>scalerank</th>\n",
       "      <th>LABELRANK</th>\n",
       "      <th>SOVEREIGNT</th>\n",
       "      <th>SOV_A3</th>\n",
       "      <th>ADM0_DIF</th>\n",
       "      <th>LEVEL</th>\n",
       "      <th>TYPE</th>\n",
       "      <th>TLC</th>\n",
       "      <th>ADMIN</th>\n",
       "      <th>...</th>\n",
       "      <th>FCLASS_TR</th>\n",
       "      <th>FCLASS_ID</th>\n",
       "      <th>FCLASS_PL</th>\n",
       "      <th>FCLASS_GR</th>\n",
       "      <th>FCLASS_IT</th>\n",
       "      <th>FCLASS_NL</th>\n",
       "      <th>FCLASS_SE</th>\n",
       "      <th>FCLASS_BD</th>\n",
       "      <th>FCLASS_UA</th>\n",
       "      <th>geometry</th>\n",
       "    </tr>\n",
       "  </thead>\n",
       "  <tbody>\n",
       "    <tr>\n",
       "      <th>0</th>\n",
       "      <td>Admin-0 country</td>\n",
       "      <td>1</td>\n",
       "      <td>3</td>\n",
       "      <td>Zimbabwe</td>\n",
       "      <td>ZWE</td>\n",
       "      <td>0</td>\n",
       "      <td>2</td>\n",
       "      <td>Sovereign country</td>\n",
       "      <td>1</td>\n",
       "      <td>Zimbabwe</td>\n",
       "      <td>...</td>\n",
       "      <td>None</td>\n",
       "      <td>None</td>\n",
       "      <td>None</td>\n",
       "      <td>None</td>\n",
       "      <td>None</td>\n",
       "      <td>None</td>\n",
       "      <td>None</td>\n",
       "      <td>None</td>\n",
       "      <td>None</td>\n",
       "      <td>POLYGON ((31.28789 -22.40205, 31.19727 -22.344...</td>\n",
       "    </tr>\n",
       "    <tr>\n",
       "      <th>1</th>\n",
       "      <td>Admin-0 country</td>\n",
       "      <td>1</td>\n",
       "      <td>3</td>\n",
       "      <td>Zambia</td>\n",
       "      <td>ZMB</td>\n",
       "      <td>0</td>\n",
       "      <td>2</td>\n",
       "      <td>Sovereign country</td>\n",
       "      <td>1</td>\n",
       "      <td>Zambia</td>\n",
       "      <td>...</td>\n",
       "      <td>None</td>\n",
       "      <td>None</td>\n",
       "      <td>None</td>\n",
       "      <td>None</td>\n",
       "      <td>None</td>\n",
       "      <td>None</td>\n",
       "      <td>None</td>\n",
       "      <td>None</td>\n",
       "      <td>None</td>\n",
       "      <td>POLYGON ((30.39609 -15.64307, 30.25068 -15.643...</td>\n",
       "    </tr>\n",
       "    <tr>\n",
       "      <th>2</th>\n",
       "      <td>Admin-0 country</td>\n",
       "      <td>1</td>\n",
       "      <td>3</td>\n",
       "      <td>Yemen</td>\n",
       "      <td>YEM</td>\n",
       "      <td>0</td>\n",
       "      <td>2</td>\n",
       "      <td>Sovereign country</td>\n",
       "      <td>1</td>\n",
       "      <td>Yemen</td>\n",
       "      <td>...</td>\n",
       "      <td>None</td>\n",
       "      <td>None</td>\n",
       "      <td>None</td>\n",
       "      <td>None</td>\n",
       "      <td>None</td>\n",
       "      <td>None</td>\n",
       "      <td>None</td>\n",
       "      <td>None</td>\n",
       "      <td>None</td>\n",
       "      <td>MULTIPOLYGON (((53.08564 16.64839, 52.58145 16...</td>\n",
       "    </tr>\n",
       "    <tr>\n",
       "      <th>3</th>\n",
       "      <td>Admin-0 country</td>\n",
       "      <td>3</td>\n",
       "      <td>2</td>\n",
       "      <td>Vietnam</td>\n",
       "      <td>VNM</td>\n",
       "      <td>0</td>\n",
       "      <td>2</td>\n",
       "      <td>Sovereign country</td>\n",
       "      <td>1</td>\n",
       "      <td>Vietnam</td>\n",
       "      <td>...</td>\n",
       "      <td>None</td>\n",
       "      <td>None</td>\n",
       "      <td>None</td>\n",
       "      <td>None</td>\n",
       "      <td>None</td>\n",
       "      <td>None</td>\n",
       "      <td>None</td>\n",
       "      <td>None</td>\n",
       "      <td>None</td>\n",
       "      <td>MULTIPOLYGON (((104.06396 10.39082, 104.08301 ...</td>\n",
       "    </tr>\n",
       "    <tr>\n",
       "      <th>4</th>\n",
       "      <td>Admin-0 country</td>\n",
       "      <td>5</td>\n",
       "      <td>3</td>\n",
       "      <td>Venezuela</td>\n",
       "      <td>VEN</td>\n",
       "      <td>0</td>\n",
       "      <td>2</td>\n",
       "      <td>Sovereign country</td>\n",
       "      <td>1</td>\n",
       "      <td>Venezuela</td>\n",
       "      <td>...</td>\n",
       "      <td>None</td>\n",
       "      <td>None</td>\n",
       "      <td>None</td>\n",
       "      <td>None</td>\n",
       "      <td>None</td>\n",
       "      <td>None</td>\n",
       "      <td>None</td>\n",
       "      <td>None</td>\n",
       "      <td>None</td>\n",
       "      <td>MULTIPOLYGON (((-60.82119 9.13838, -60.94141 9...</td>\n",
       "    </tr>\n",
       "  </tbody>\n",
       "</table>\n",
       "<p>5 rows × 169 columns</p>\n",
       "</div>"
      ],
      "text/plain": [
       "        featurecla  scalerank  LABELRANK SOVEREIGNT SOV_A3  ADM0_DIF  LEVEL  \\\n",
       "0  Admin-0 country          1          3   Zimbabwe    ZWE         0      2   \n",
       "1  Admin-0 country          1          3     Zambia    ZMB         0      2   \n",
       "2  Admin-0 country          1          3      Yemen    YEM         0      2   \n",
       "3  Admin-0 country          3          2    Vietnam    VNM         0      2   \n",
       "4  Admin-0 country          5          3  Venezuela    VEN         0      2   \n",
       "\n",
       "                TYPE TLC      ADMIN  ... FCLASS_TR  FCLASS_ID FCLASS_PL  \\\n",
       "0  Sovereign country   1   Zimbabwe  ...      None       None      None   \n",
       "1  Sovereign country   1     Zambia  ...      None       None      None   \n",
       "2  Sovereign country   1      Yemen  ...      None       None      None   \n",
       "3  Sovereign country   1    Vietnam  ...      None       None      None   \n",
       "4  Sovereign country   1  Venezuela  ...      None       None      None   \n",
       "\n",
       "  FCLASS_GR  FCLASS_IT FCLASS_NL FCLASS_SE  FCLASS_BD FCLASS_UA  \\\n",
       "0      None       None      None      None       None      None   \n",
       "1      None       None      None      None       None      None   \n",
       "2      None       None      None      None       None      None   \n",
       "3      None       None      None      None       None      None   \n",
       "4      None       None      None      None       None      None   \n",
       "\n",
       "                                            geometry  \n",
       "0  POLYGON ((31.28789 -22.40205, 31.19727 -22.344...  \n",
       "1  POLYGON ((30.39609 -15.64307, 30.25068 -15.643...  \n",
       "2  MULTIPOLYGON (((53.08564 16.64839, 52.58145 16...  \n",
       "3  MULTIPOLYGON (((104.06396 10.39082, 104.08301 ...  \n",
       "4  MULTIPOLYGON (((-60.82119 9.13838, -60.94141 9...  \n",
       "\n",
       "[5 rows x 169 columns]"
      ]
     },
     "execution_count": 35,
     "metadata": {},
     "output_type": "execute_result"
    }
   ],
   "source": [
    "countries.head()"
   ]
  },
  {
   "cell_type": "markdown",
   "id": "52994da0",
   "metadata": {},
   "source": [
    "### Creating an interactive map"
   ]
  },
  {
   "cell_type": "markdown",
   "id": "17166f3a",
   "metadata": {},
   "source": [
    "Making the country names match between two datasets."
   ]
  },
  {
   "cell_type": "code",
   "execution_count": 36,
   "id": "827de600",
   "metadata": {},
   "outputs": [],
   "source": [
    "countries = countries.sort_values(by = \"SOVEREIGNT\")\n",
    "\n",
    "data = data.sort_values(by = \"country\")"
   ]
  },
  {
   "cell_type": "code",
   "execution_count": 37,
   "id": "faec6c7e",
   "metadata": {},
   "outputs": [],
   "source": [
    "data_countries = data['country'].unique()"
   ]
  },
  {
   "cell_type": "code",
   "execution_count": 38,
   "id": "c4a1cac1",
   "metadata": {},
   "outputs": [
    {
     "name": "stdout",
     "output_type": "stream",
     "text": [
      "Geometries exist for 242 countries (areas).\n",
      "Metric data exists for 166 countries.\n"
     ]
    }
   ],
   "source": [
    "print(f\"Geometries exist for {len(countries['SOVEREIGNT'])} countries (areas).\")\n",
    "\n",
    "print(f\"Metric data exists for {len(data_countries)} countries.\")"
   ]
  },
  {
   "cell_type": "markdown",
   "id": "dad70e5b",
   "metadata": {},
   "source": [
    "Manually editing the country names to get rid of mismatches."
   ]
  },
  {
   "cell_type": "code",
   "execution_count": 39,
   "id": "6e23a6db",
   "metadata": {},
   "outputs": [
    {
     "name": "stdout",
     "output_type": "stream",
     "text": [
      "Countries in metric data not in geo data: {'Somaliland region', 'United States', 'Czech Republic', 'Palestinian Territories', 'Serbia', 'Swaziland', 'Tanzania', 'Taiwan Province of China', 'Congo (Kinshasa)', 'Hong Kong S.A.R. of China', 'North Cyprus', 'Congo (Brazzaville)'}\n",
      "\n",
      "Countries in geo data not in metric data: {'North Korea', 'San Marino', 'Czechia', 'Samoa', 'Cabo Verde', 'Taiwan', 'Saint Lucia', 'Monaco', 'Seychelles', 'eSwatini', 'Republic of the Congo', 'Tonga', 'Democratic Republic of the Congo', 'Guinea-Bissau', 'Papua New Guinea', 'Brunei', 'Equatorial Guinea', 'Saint Vincent and the Grenadines', 'Northern Cyprus', 'Kashmir', 'Grenada', 'Solomon Islands', 'The Bahamas', 'Andorra', 'Nauru', 'Tuvalu', 'Fiji', 'Antigua and Barbuda', 'Federated States of Micronesia', 'Saint Kitts and Nevis', 'United States of America', 'Vanuatu', 'Somaliland', 'Liechtenstein', 'São Tomé and Principe', 'Vatican', 'United Republic of Tanzania', 'Dominica', 'Eritrea', 'Kiribati', 'Barbados', 'Republic of Serbia', 'Marshall Islands', 'Antarctica', 'Western Sahara', 'Palau', 'East Timor'}\n"
     ]
    }
   ],
   "source": [
    "metric_countries = set(data['country'].unique())\n",
    "\n",
    "geo_countries = set(countries['SOVEREIGNT'].unique())\n",
    "\n",
    "#Find mismatches\n",
    "mismatch_metric_to_geo = metric_countries - geo_countries\n",
    "mismatch_geo_to_metric = geo_countries - metric_countries\n",
    "\n",
    "print(\"Countries in metric data not in geo data:\", mismatch_metric_to_geo)\n",
    "print()\n",
    "print(\"Countries in geo data not in metric data:\", mismatch_geo_to_metric)"
   ]
  },
  {
   "cell_type": "code",
   "execution_count": 40,
   "id": "beaa0995",
   "metadata": {},
   "outputs": [],
   "source": [
    "rename_dict = {\n",
    "    'North Cyprus': 'Northern Cyprus',\n",
    "    'Tanzania': 'United Republic of Tanzania',\n",
    "    'United States': 'United States of America',\n",
    "    'Czech Republic': 'Czechia',\n",
    "    'Somaliland region': 'Somaliland',\n",
    "    'Taiwan Province of China': 'Taiwan',\n",
    "    'Swaziland': 'eSwatini',\n",
    "    'Congo (Kinshasa)': 'Democratic Republic of the Congo',\n",
    "    'Congo (Brazzaville)': 'Republic of the Congo',\n",
    "    'Serbia': 'Republic of Serbia'\n",
    "}"
   ]
  },
  {
   "cell_type": "code",
   "execution_count": 41,
   "id": "8a110290",
   "metadata": {},
   "outputs": [],
   "source": [
    "data['country'] = data['country'].replace(rename_dict)"
   ]
  },
  {
   "cell_type": "markdown",
   "id": "ccc70f11",
   "metadata": {},
   "source": [
    "Defining the map."
   ]
  },
  {
   "cell_type": "code",
   "execution_count": 48,
   "id": "a851e236",
   "metadata": {},
   "outputs": [],
   "source": [
    "#Defining the interactive widgets\n",
    "years = data['year'].unique()\n",
    "metrics = [col for col in data.columns if col not in ['year', 'country']]\n",
    "\n",
    "year_slider = IntSlider(\n",
    "    value=max(years),\n",
    "    min=min(years),\n",
    "    max=max(years),\n",
    "    step=1,\n",
    "    description='Year:',\n",
    "    continuous_update=False\n",
    ")\n",
    "\n",
    "metric_dropdown = Dropdown(\n",
    "    options=metrics,\n",
    "    description='Metric:'\n",
    ")"
   ]
  },
  {
   "cell_type": "code",
   "execution_count": 52,
   "id": "ea8f33c5",
   "metadata": {},
   "outputs": [],
   "source": [
    "def create_map(year, metric):\n",
    "    \n",
    "    #Merge data with the GeoDataFrame\n",
    "    merged = countries.merge(data[data['year'] == year][['country', metric]], \n",
    "                             left_on='SOVEREIGNT', right_on='country', how='left')\n",
    "\n",
    "\n",
    "    m = folium.Map(location=[0, 0], zoom_start=2)\n",
    "\n",
    "    #Defining a function to return the tooltip text\n",
    "    def tooltip_text(feature):\n",
    "        country = feature['properties']['SOVEREIGNT']\n",
    "        value = merged.loc[merged['SOVEREIGNT'] == country, metric].values[0]\n",
    "        return f'{country}: {value}'\n",
    "\n",
    "    # Add the countries to the map with tooltips\n",
    "    folium.Choropleth(\n",
    "        geo_data=merged.__geo_interface__,\n",
    "        name='choropleth',\n",
    "        data=merged,\n",
    "        columns=['SOVEREIGNT', metric],\n",
    "        key_on='feature.properties.SOVEREIGNT',\n",
    "        fill_color='YlOrRd',\n",
    "        fill_opacity=0.7,\n",
    "        line_opacity=0.2,\n",
    "        legend_name=metric\n",
    "    ).add_to(m)\n",
    "\n",
    "    #Adding a GeoJson tooltip\n",
    "    folium.GeoJson(\n",
    "        data=merged.__geo_interface__,style_function=lambda x: {'color':'transparent', 'fillColor':'transparent', 'weight':0},\n",
    "        tooltip=folium.GeoJsonTooltip(fields=['SOVEREIGNT', metric])\n",
    "    ).add_to(m)\n",
    "\n",
    "    folium.LayerControl().add_to(m)\n",
    "\n",
    "    display(m)"
   ]
  },
  {
   "cell_type": "code",
   "execution_count": 53,
   "id": "41cafd66",
   "metadata": {
    "scrolled": false
   },
   "outputs": [
    {
     "data": {
      "application/vnd.jupyter.widget-view+json": {
       "model_id": "0e262db74d9d49dbbe3b3a58c0d5aeec",
       "version_major": 2,
       "version_minor": 0
      },
      "text/plain": [
       "interactive(children=(IntSlider(value=2010, continuous_update=False, description='Year:', max=2020, min=2005),…"
      ]
     },
     "metadata": {},
     "output_type": "display_data"
    }
   ],
   "source": [
    "interactive_map = interactive(create_map, year=year_slider, metric=metric_dropdown)\n",
    "\n",
    "display(interactive_map)"
   ]
  },
  {
   "cell_type": "code",
   "execution_count": null,
   "id": "cec67fcb",
   "metadata": {},
   "outputs": [],
   "source": []
  }
 ],
 "metadata": {
  "kernelspec": {
   "display_name": "Python 3 (ipykernel)",
   "language": "python",
   "name": "python3"
  },
  "language_info": {
   "codemirror_mode": {
    "name": "ipython",
    "version": 3
   },
   "file_extension": ".py",
   "mimetype": "text/x-python",
   "name": "python",
   "nbconvert_exporter": "python",
   "pygments_lexer": "ipython3",
   "version": "3.11.5"
  }
 },
 "nbformat": 4,
 "nbformat_minor": 5
}
