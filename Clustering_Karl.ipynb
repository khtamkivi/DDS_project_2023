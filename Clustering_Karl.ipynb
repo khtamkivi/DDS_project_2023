{
 "cells": [
  {
   "cell_type": "code",
   "execution_count": 7,
   "id": "ad78e283-e2b1-4003-abf5-69077743682b",
   "metadata": {},
   "outputs": [],
   "source": [
    "import numpy as np\n",
    "import pandas as pd\n",
    "import matplotlib.pyplot as plt\n",
    "import plotly.express as px\n",
    "from ipywidgets import interact, widgets\n",
    "from IPython.display import display, clear_output\n",
    "import plotly.graph_objects as go\n",
    "import folium"
   ]
  },
  {
   "cell_type": "code",
   "execution_count": 12,
   "id": "75933314-56c9-4d57-a5b9-edbf78ff2c75",
   "metadata": {},
   "outputs": [],
   "source": [
    "final_data = pd.read_csv('data/final_data.csv')"
   ]
  },
  {
   "cell_type": "code",
   "execution_count": 13,
   "id": "a5edf758-0bb6-48fe-9e51-b500b5111ed3",
   "metadata": {},
   "outputs": [
    {
     "data": {
      "text/html": [
       "<div>\n",
       "<style scoped>\n",
       "    .dataframe tbody tr th:only-of-type {\n",
       "        vertical-align: middle;\n",
       "    }\n",
       "\n",
       "    .dataframe tbody tr th {\n",
       "        vertical-align: top;\n",
       "    }\n",
       "\n",
       "    .dataframe thead th {\n",
       "        text-align: right;\n",
       "    }\n",
       "</style>\n",
       "<table border=\"1\" class=\"dataframe\">\n",
       "  <thead>\n",
       "    <tr style=\"text-align: right;\">\n",
       "      <th></th>\n",
       "      <th>year</th>\n",
       "      <th>life_ladder</th>\n",
       "      <th>log_gdp_per_capita</th>\n",
       "      <th>social_suppoprt</th>\n",
       "      <th>healthy_life_exp_at_birth</th>\n",
       "      <th>freedom_to_make_life_choices</th>\n",
       "      <th>generosity</th>\n",
       "      <th>perceptions_of_corruption</th>\n",
       "      <th>positive_affect</th>\n",
       "      <th>negative_affect</th>\n",
       "      <th>pop_density</th>\n",
       "      <th>suicide_rate</th>\n",
       "      <th>country</th>\n",
       "      <th>region</th>\n",
       "      <th>continent</th>\n",
       "      <th>PC1</th>\n",
       "      <th>PC2</th>\n",
       "      <th>PC3</th>\n",
       "    </tr>\n",
       "  </thead>\n",
       "  <tbody>\n",
       "    <tr>\n",
       "      <th>0</th>\n",
       "      <td>2008.0</td>\n",
       "      <td>3.724</td>\n",
       "      <td>7.370</td>\n",
       "      <td>0.451</td>\n",
       "      <td>50.80</td>\n",
       "      <td>0.718</td>\n",
       "      <td>0.168</td>\n",
       "      <td>0.882</td>\n",
       "      <td>0.518</td>\n",
       "      <td>0.258</td>\n",
       "      <td>40.518221</td>\n",
       "      <td>4.6</td>\n",
       "      <td>Afghanistan</td>\n",
       "      <td>Southern Asia</td>\n",
       "      <td>Asia</td>\n",
       "      <td>-3.906165</td>\n",
       "      <td>1.520131</td>\n",
       "      <td>-0.403055</td>\n",
       "    </tr>\n",
       "    <tr>\n",
       "      <th>1</th>\n",
       "      <td>2009.0</td>\n",
       "      <td>4.402</td>\n",
       "      <td>7.540</td>\n",
       "      <td>0.552</td>\n",
       "      <td>51.20</td>\n",
       "      <td>0.679</td>\n",
       "      <td>0.190</td>\n",
       "      <td>0.850</td>\n",
       "      <td>0.584</td>\n",
       "      <td>0.237</td>\n",
       "      <td>41.987193</td>\n",
       "      <td>4.4</td>\n",
       "      <td>Afghanistan</td>\n",
       "      <td>Southern Asia</td>\n",
       "      <td>Asia</td>\n",
       "      <td>-3.044270</td>\n",
       "      <td>1.529720</td>\n",
       "      <td>-0.043639</td>\n",
       "    </tr>\n",
       "    <tr>\n",
       "      <th>2</th>\n",
       "      <td>2010.0</td>\n",
       "      <td>4.758</td>\n",
       "      <td>7.647</td>\n",
       "      <td>0.539</td>\n",
       "      <td>51.60</td>\n",
       "      <td>0.600</td>\n",
       "      <td>0.121</td>\n",
       "      <td>0.707</td>\n",
       "      <td>0.618</td>\n",
       "      <td>0.275</td>\n",
       "      <td>43.220447</td>\n",
       "      <td>4.3</td>\n",
       "      <td>Afghanistan</td>\n",
       "      <td>Southern Asia</td>\n",
       "      <td>Asia</td>\n",
       "      <td>-2.923549</td>\n",
       "      <td>1.409665</td>\n",
       "      <td>-0.416828</td>\n",
       "    </tr>\n",
       "    <tr>\n",
       "      <th>3</th>\n",
       "      <td>2011.0</td>\n",
       "      <td>3.832</td>\n",
       "      <td>7.620</td>\n",
       "      <td>0.521</td>\n",
       "      <td>51.92</td>\n",
       "      <td>0.496</td>\n",
       "      <td>0.162</td>\n",
       "      <td>0.731</td>\n",
       "      <td>0.611</td>\n",
       "      <td>0.267</td>\n",
       "      <td>44.844851</td>\n",
       "      <td>4.1</td>\n",
       "      <td>Afghanistan</td>\n",
       "      <td>Southern Asia</td>\n",
       "      <td>Asia</td>\n",
       "      <td>-3.564866</td>\n",
       "      <td>1.328797</td>\n",
       "      <td>-0.505837</td>\n",
       "    </tr>\n",
       "    <tr>\n",
       "      <th>4</th>\n",
       "      <td>2012.0</td>\n",
       "      <td>3.783</td>\n",
       "      <td>7.705</td>\n",
       "      <td>0.521</td>\n",
       "      <td>52.24</td>\n",
       "      <td>0.531</td>\n",
       "      <td>0.236</td>\n",
       "      <td>0.776</td>\n",
       "      <td>0.710</td>\n",
       "      <td>0.268</td>\n",
       "      <td>46.711251</td>\n",
       "      <td>4.0</td>\n",
       "      <td>Afghanistan</td>\n",
       "      <td>Southern Asia</td>\n",
       "      <td>Asia</td>\n",
       "      <td>-3.196211</td>\n",
       "      <td>1.868501</td>\n",
       "      <td>-0.106653</td>\n",
       "    </tr>\n",
       "  </tbody>\n",
       "</table>\n",
       "</div>"
      ],
      "text/plain": [
       "     year  life_ladder  log_gdp_per_capita  social_suppoprt  \\\n",
       "0  2008.0        3.724               7.370            0.451   \n",
       "1  2009.0        4.402               7.540            0.552   \n",
       "2  2010.0        4.758               7.647            0.539   \n",
       "3  2011.0        3.832               7.620            0.521   \n",
       "4  2012.0        3.783               7.705            0.521   \n",
       "\n",
       "   healthy_life_exp_at_birth  freedom_to_make_life_choices  generosity  \\\n",
       "0                      50.80                         0.718       0.168   \n",
       "1                      51.20                         0.679       0.190   \n",
       "2                      51.60                         0.600       0.121   \n",
       "3                      51.92                         0.496       0.162   \n",
       "4                      52.24                         0.531       0.236   \n",
       "\n",
       "   perceptions_of_corruption  positive_affect  negative_affect  pop_density  \\\n",
       "0                      0.882            0.518            0.258    40.518221   \n",
       "1                      0.850            0.584            0.237    41.987193   \n",
       "2                      0.707            0.618            0.275    43.220447   \n",
       "3                      0.731            0.611            0.267    44.844851   \n",
       "4                      0.776            0.710            0.268    46.711251   \n",
       "\n",
       "   suicide_rate      country         region continent       PC1       PC2  \\\n",
       "0           4.6  Afghanistan  Southern Asia      Asia -3.906165  1.520131   \n",
       "1           4.4  Afghanistan  Southern Asia      Asia -3.044270  1.529720   \n",
       "2           4.3  Afghanistan  Southern Asia      Asia -2.923549  1.409665   \n",
       "3           4.1  Afghanistan  Southern Asia      Asia -3.564866  1.328797   \n",
       "4           4.0  Afghanistan  Southern Asia      Asia -3.196211  1.868501   \n",
       "\n",
       "        PC3  \n",
       "0 -0.403055  \n",
       "1 -0.043639  \n",
       "2 -0.416828  \n",
       "3 -0.505837  \n",
       "4 -0.106653  "
      ]
     },
     "execution_count": 13,
     "metadata": {},
     "output_type": "execute_result"
    }
   ],
   "source": [
    "final_data.head()"
   ]
  },
  {
   "cell_type": "code",
   "execution_count": 14,
   "id": "191cf580-3bc5-4320-b33f-cd85e1b2da0e",
   "metadata": {},
   "outputs": [
    {
     "data": {
      "text/plain": [
       "(1910, 18)"
      ]
     },
     "execution_count": 14,
     "metadata": {},
     "output_type": "execute_result"
    }
   ],
   "source": [
    "final_data.shape"
   ]
  },
  {
   "cell_type": "markdown",
   "id": "5ca02d73-7cb1-4363-9528-56dd6a442290",
   "metadata": {},
   "source": [
    "### Clustering"
   ]
  },
  {
   "cell_type": "markdown",
   "id": "3b83f1f0-c9d3-45f2-a618-2c3a252975c6",
   "metadata": {},
   "source": [
    "Since we want to cluster all of the points at once, before filtering by year, in order to see the countries 'progress' between clusters throughout the years, we have a lot of points to cluster at once. To make the clustering more efficient we will use **Bisecting K-means** technique, which is based on hierarchical tree structure and top-down separation approach and this should be more efficient in dealing with large datasets that are difficult to cluster.\n",
    "\n"
   ]
  },
  {
   "cell_type": "code",
   "execution_count": 15,
   "id": "fe193559-b864-4e1d-b85d-465dd312daa3",
   "metadata": {},
   "outputs": [],
   "source": [
    "from sklearn.cluster import BisectingKMeans\n",
    "from sklearn.metrics import silhouette_score"
   ]
  },
  {
   "cell_type": "code",
   "execution_count": 16,
   "id": "6744b6ee-89d8-4dd9-abdb-bf0d0d423d29",
   "metadata": {},
   "outputs": [],
   "source": [
    "X = np.array([final_data['PC1'],final_data['PC2'],final_data['PC3']]).T"
   ]
  },
  {
   "cell_type": "code",
   "execution_count": 17,
   "id": "481cdac9-ae3f-4d11-ac4a-882d0f656cbc",
   "metadata": {},
   "outputs": [
    {
     "data": {
      "text/plain": [
       "(1910, 3)"
      ]
     },
     "execution_count": 17,
     "metadata": {},
     "output_type": "execute_result"
    }
   ],
   "source": [
    "X.shape"
   ]
  },
  {
   "cell_type": "code",
   "execution_count": 18,
   "id": "b8b34f0a-a191-4b1c-8c7c-4bf618cbf240",
   "metadata": {},
   "outputs": [],
   "source": [
    "range_n_clusters = list(range(2, 15))\n",
    "\n",
    "wcss = [] #Within cluster sum of squares\n",
    "\n",
    "#Calculating silhouette scores for different numbers of clusters\n",
    "for n_clusters in range_n_clusters:\n",
    "    kmeans = BisectingKMeans(n_clusters=n_clusters, random_state=42)\n",
    "    cluster_labels = kmeans.fit_predict(X)\n",
    "    wcss.append(kmeans.inertia_)"
   ]
  },
  {
   "cell_type": "code",
   "execution_count": 19,
   "id": "01a24184-1d7b-4fac-b750-edc790bc8b19",
   "metadata": {},
   "outputs": [
    {
     "data": {
      "image/png": "[encoded data removed]",
      "text/plain": [
       "<Figure size 1000x600 with 1 Axes>"
      ]
     },
     "metadata": {},
     "output_type": "display_data"
    }
   ],
   "source": [
    "#Plotting the elbow plot\n",
    "plt.figure(figsize=(10, 6))\n",
    "plt.plot(range_n_clusters, wcss, marker='o')\n",
    "plt.title(\"Elbow Plot\")\n",
    "plt.xlabel(\"Number of Clusters\")\n",
    "plt.ylabel(\"WCSS\")\n",
    "plt.grid(True)\n",
    "plt.show()"
   ]
  },
  {
   "cell_type": "code",
   "execution_count": 20,
   "id": "378438c7-42d0-4a98-bdb3-d42708f0bb43",
   "metadata": {},
   "outputs": [],
   "source": [
    "bisect_means = BisectingKMeans(n_clusters=5, random_state=42).fit(X)"
   ]
  },
  {
   "cell_type": "code",
   "execution_count": 21,
   "id": "a43b6e8f-9e18-4277-980a-a3e1dd9a9099",
   "metadata": {},
   "outputs": [],
   "source": [
    "cluster_data = final_data.copy()\n",
    "\n",
    "cluster_data['cluster'] = bisect_means.labels_.astype(str)"
   ]
  },
  {
   "cell_type": "code",
   "execution_count": 38,
   "id": "979fa7e7-0f9c-48b6-b54f-e8d30618eea1",
   "metadata": {},
   "outputs": [
    {
     "data": {
      "text/html": [
       "<div>\n",
       "<style scoped>\n",
       "    .dataframe tbody tr th:only-of-type {\n",
       "        vertical-align: middle;\n",
       "    }\n",
       "\n",
       "    .dataframe tbody tr th {\n",
       "        vertical-align: top;\n",
       "    }\n",
       "\n",
       "    .dataframe thead th {\n",
       "        text-align: right;\n",
       "    }\n",
       "</style>\n",
       "<table border=\"1\" class=\"dataframe\">\n",
       "  <thead>\n",
       "    <tr style=\"text-align: right;\">\n",
       "      <th></th>\n",
       "      <th>year</th>\n",
       "      <th>life_ladder</th>\n",
       "      <th>log_gdp_per_capita</th>\n",
       "      <th>social_suppoprt</th>\n",
       "      <th>healthy_life_exp_at_birth</th>\n",
       "      <th>freedom_to_make_life_choices</th>\n",
       "      <th>generosity</th>\n",
       "      <th>perceptions_of_corruption</th>\n",
       "      <th>positive_affect</th>\n",
       "      <th>negative_affect</th>\n",
       "      <th>pop_density</th>\n",
       "      <th>suicide_rate</th>\n",
       "      <th>country</th>\n",
       "      <th>region</th>\n",
       "      <th>continent</th>\n",
       "      <th>PC1</th>\n",
       "      <th>PC2</th>\n",
       "      <th>PC3</th>\n",
       "      <th>cluster</th>\n",
       "    </tr>\n",
       "  </thead>\n",
       "  <tbody>\n",
       "    <tr>\n",
       "      <th>0</th>\n",
       "      <td>2008.0</td>\n",
       "      <td>3.724</td>\n",
       "      <td>7.370</td>\n",
       "      <td>0.451</td>\n",
       "      <td>50.80</td>\n",
       "      <td>0.718</td>\n",
       "      <td>0.168</td>\n",
       "      <td>0.882</td>\n",
       "      <td>0.518</td>\n",
       "      <td>0.258</td>\n",
       "      <td>40.518221</td>\n",
       "      <td>4.600</td>\n",
       "      <td>Afghanistan</td>\n",
       "      <td>Southern Asia</td>\n",
       "      <td>Asia</td>\n",
       "      <td>-3.906165</td>\n",
       "      <td>1.520131</td>\n",
       "      <td>-0.403055</td>\n",
       "      <td>0</td>\n",
       "    </tr>\n",
       "    <tr>\n",
       "      <th>1</th>\n",
       "      <td>2009.0</td>\n",
       "      <td>4.402</td>\n",
       "      <td>7.540</td>\n",
       "      <td>0.552</td>\n",
       "      <td>51.20</td>\n",
       "      <td>0.679</td>\n",
       "      <td>0.190</td>\n",
       "      <td>0.850</td>\n",
       "      <td>0.584</td>\n",
       "      <td>0.237</td>\n",
       "      <td>41.987193</td>\n",
       "      <td>4.400</td>\n",
       "      <td>Afghanistan</td>\n",
       "      <td>Southern Asia</td>\n",
       "      <td>Asia</td>\n",
       "      <td>-3.044270</td>\n",
       "      <td>1.529720</td>\n",
       "      <td>-0.043639</td>\n",
       "      <td>0</td>\n",
       "    </tr>\n",
       "    <tr>\n",
       "      <th>2</th>\n",
       "      <td>2010.0</td>\n",
       "      <td>4.758</td>\n",
       "      <td>7.647</td>\n",
       "      <td>0.539</td>\n",
       "      <td>51.60</td>\n",
       "      <td>0.600</td>\n",
       "      <td>0.121</td>\n",
       "      <td>0.707</td>\n",
       "      <td>0.618</td>\n",
       "      <td>0.275</td>\n",
       "      <td>43.220447</td>\n",
       "      <td>4.300</td>\n",
       "      <td>Afghanistan</td>\n",
       "      <td>Southern Asia</td>\n",
       "      <td>Asia</td>\n",
       "      <td>-2.923549</td>\n",
       "      <td>1.409665</td>\n",
       "      <td>-0.416828</td>\n",
       "      <td>0</td>\n",
       "    </tr>\n",
       "    <tr>\n",
       "      <th>3</th>\n",
       "      <td>2011.0</td>\n",
       "      <td>3.832</td>\n",
       "      <td>7.620</td>\n",
       "      <td>0.521</td>\n",
       "      <td>51.92</td>\n",
       "      <td>0.496</td>\n",
       "      <td>0.162</td>\n",
       "      <td>0.731</td>\n",
       "      <td>0.611</td>\n",
       "      <td>0.267</td>\n",
       "      <td>44.844851</td>\n",
       "      <td>4.100</td>\n",
       "      <td>Afghanistan</td>\n",
       "      <td>Southern Asia</td>\n",
       "      <td>Asia</td>\n",
       "      <td>-3.564866</td>\n",
       "      <td>1.328797</td>\n",
       "      <td>-0.505837</td>\n",
       "      <td>0</td>\n",
       "    </tr>\n",
       "    <tr>\n",
       "      <th>4</th>\n",
       "      <td>2012.0</td>\n",
       "      <td>3.783</td>\n",
       "      <td>7.705</td>\n",
       "      <td>0.521</td>\n",
       "      <td>52.24</td>\n",
       "      <td>0.531</td>\n",
       "      <td>0.236</td>\n",
       "      <td>0.776</td>\n",
       "      <td>0.710</td>\n",
       "      <td>0.268</td>\n",
       "      <td>46.711251</td>\n",
       "      <td>4.000</td>\n",
       "      <td>Afghanistan</td>\n",
       "      <td>Southern Asia</td>\n",
       "      <td>Asia</td>\n",
       "      <td>-3.196211</td>\n",
       "      <td>1.868501</td>\n",
       "      <td>-0.106653</td>\n",
       "      <td>0</td>\n",
       "    </tr>\n",
       "    <tr>\n",
       "      <th>...</th>\n",
       "      <td>...</td>\n",
       "      <td>...</td>\n",
       "      <td>...</td>\n",
       "      <td>...</td>\n",
       "      <td>...</td>\n",
       "      <td>...</td>\n",
       "      <td>...</td>\n",
       "      <td>...</td>\n",
       "      <td>...</td>\n",
       "      <td>...</td>\n",
       "      <td>...</td>\n",
       "      <td>...</td>\n",
       "      <td>...</td>\n",
       "      <td>...</td>\n",
       "      <td>...</td>\n",
       "      <td>...</td>\n",
       "      <td>...</td>\n",
       "      <td>...</td>\n",
       "      <td>...</td>\n",
       "    </tr>\n",
       "    <tr>\n",
       "      <th>1905</th>\n",
       "      <td>2016.0</td>\n",
       "      <td>3.735</td>\n",
       "      <td>7.984</td>\n",
       "      <td>0.768</td>\n",
       "      <td>54.40</td>\n",
       "      <td>0.733</td>\n",
       "      <td>-0.095</td>\n",
       "      <td>0.724</td>\n",
       "      <td>0.738</td>\n",
       "      <td>0.209</td>\n",
       "      <td>37.359969</td>\n",
       "      <td>16.800</td>\n",
       "      <td>Zimbabwe</td>\n",
       "      <td>Eastern Africa</td>\n",
       "      <td>Africa</td>\n",
       "      <td>-1.659972</td>\n",
       "      <td>0.250552</td>\n",
       "      <td>1.197564</td>\n",
       "      <td>0</td>\n",
       "    </tr>\n",
       "    <tr>\n",
       "      <th>1906</th>\n",
       "      <td>2017.0</td>\n",
       "      <td>3.638</td>\n",
       "      <td>8.016</td>\n",
       "      <td>0.754</td>\n",
       "      <td>55.00</td>\n",
       "      <td>0.753</td>\n",
       "      <td>-0.098</td>\n",
       "      <td>0.751</td>\n",
       "      <td>0.806</td>\n",
       "      <td>0.224</td>\n",
       "      <td>38.131320</td>\n",
       "      <td>15.000</td>\n",
       "      <td>Zimbabwe</td>\n",
       "      <td>Eastern Africa</td>\n",
       "      <td>Africa</td>\n",
       "      <td>-1.570403</td>\n",
       "      <td>0.560314</td>\n",
       "      <td>1.334534</td>\n",
       "      <td>0</td>\n",
       "    </tr>\n",
       "    <tr>\n",
       "      <th>1907</th>\n",
       "      <td>2018.0</td>\n",
       "      <td>3.616</td>\n",
       "      <td>8.049</td>\n",
       "      <td>0.775</td>\n",
       "      <td>55.60</td>\n",
       "      <td>0.763</td>\n",
       "      <td>-0.068</td>\n",
       "      <td>0.844</td>\n",
       "      <td>0.710</td>\n",
       "      <td>0.212</td>\n",
       "      <td>38.909614</td>\n",
       "      <td>14.000</td>\n",
       "      <td>Zimbabwe</td>\n",
       "      <td>Eastern Africa</td>\n",
       "      <td>Africa</td>\n",
       "      <td>-1.809034</td>\n",
       "      <td>0.244640</td>\n",
       "      <td>1.185525</td>\n",
       "      <td>0</td>\n",
       "    </tr>\n",
       "    <tr>\n",
       "      <th>1908</th>\n",
       "      <td>2019.0</td>\n",
       "      <td>2.694</td>\n",
       "      <td>7.950</td>\n",
       "      <td>0.759</td>\n",
       "      <td>56.20</td>\n",
       "      <td>0.632</td>\n",
       "      <td>-0.064</td>\n",
       "      <td>0.831</td>\n",
       "      <td>0.716</td>\n",
       "      <td>0.235</td>\n",
       "      <td>39.691374</td>\n",
       "      <td>14.100</td>\n",
       "      <td>Zimbabwe</td>\n",
       "      <td>Eastern Africa</td>\n",
       "      <td>Africa</td>\n",
       "      <td>-2.526906</td>\n",
       "      <td>0.056943</td>\n",
       "      <td>0.943198</td>\n",
       "      <td>0</td>\n",
       "    </tr>\n",
       "    <tr>\n",
       "      <th>1909</th>\n",
       "      <td>2020.0</td>\n",
       "      <td>3.160</td>\n",
       "      <td>7.829</td>\n",
       "      <td>0.717</td>\n",
       "      <td>56.80</td>\n",
       "      <td>0.643</td>\n",
       "      <td>-0.009</td>\n",
       "      <td>0.789</td>\n",
       "      <td>0.703</td>\n",
       "      <td>0.346</td>\n",
       "      <td>40.505793</td>\n",
       "      <td>14.804</td>\n",
       "      <td>Zimbabwe</td>\n",
       "      <td>Eastern Africa</td>\n",
       "      <td>Africa</td>\n",
       "      <td>-2.674685</td>\n",
       "      <td>0.265309</td>\n",
       "      <td>0.303039</td>\n",
       "      <td>0</td>\n",
       "    </tr>\n",
       "  </tbody>\n",
       "</table>\n",
       "<p>1910 rows × 19 columns</p>\n",
       "</div>"
      ],
      "text/plain": [
       "        year  life_ladder  log_gdp_per_capita  social_suppoprt  \\\n",
       "0     2008.0        3.724               7.370            0.451   \n",
       "1     2009.0        4.402               7.540            0.552   \n",
       "2     2010.0        4.758               7.647            0.539   \n",
       "3     2011.0        3.832               7.620            0.521   \n",
       "4     2012.0        3.783               7.705            0.521   \n",
       "...      ...          ...                 ...              ...   \n",
       "1905  2016.0        3.735               7.984            0.768   \n",
       "1906  2017.0        3.638               8.016            0.754   \n",
       "1907  2018.0        3.616               8.049            0.775   \n",
       "1908  2019.0        2.694               7.950            0.759   \n",
       "1909  2020.0        3.160               7.829            0.717   \n",
       "\n",
       "      healthy_life_exp_at_birth  freedom_to_make_life_choices  generosity  \\\n",
       "0                         50.80                         0.718       0.168   \n",
       "1                         51.20                         0.679       0.190   \n",
       "2                         51.60                         0.600       0.121   \n",
       "3                         51.92                         0.496       0.162   \n",
       "4                         52.24                         0.531       0.236   \n",
       "...                         ...                           ...         ...   \n",
       "1905                      54.40                         0.733      -0.095   \n",
       "1906                      55.00                         0.753      -0.098   \n",
       "1907                      55.60                         0.763      -0.068   \n",
       "1908                      56.20                         0.632      -0.064   \n",
       "1909                      56.80                         0.643      -0.009   \n",
       "\n",
       "      perceptions_of_corruption  positive_affect  negative_affect  \\\n",
       "0                         0.882            0.518            0.258   \n",
       "1                         0.850            0.584            0.237   \n",
       "2                         0.707            0.618            0.275   \n",
       "3                         0.731            0.611            0.267   \n",
       "4                         0.776            0.710            0.268   \n",
       "...                         ...              ...              ...   \n",
       "1905                      0.724            0.738            0.209   \n",
       "1906                      0.751            0.806            0.224   \n",
       "1907                      0.844            0.710            0.212   \n",
       "1908                      0.831            0.716            0.235   \n",
       "1909                      0.789            0.703            0.346   \n",
       "\n",
       "      pop_density  suicide_rate      country          region continent  \\\n",
       "0       40.518221         4.600  Afghanistan   Southern Asia      Asia   \n",
       "1       41.987193         4.400  Afghanistan   Southern Asia      Asia   \n",
       "2       43.220447         4.300  Afghanistan   Southern Asia      Asia   \n",
       "3       44.844851         4.100  Afghanistan   Southern Asia      Asia   \n",
       "4       46.711251         4.000  Afghanistan   Southern Asia      Asia   \n",
       "...           ...           ...          ...             ...       ...   \n",
       "1905    37.359969        16.800     Zimbabwe  Eastern Africa    Africa   \n",
       "1906    38.131320        15.000     Zimbabwe  Eastern Africa    Africa   \n",
       "1907    38.909614        14.000     Zimbabwe  Eastern Africa    Africa   \n",
       "1908    39.691374        14.100     Zimbabwe  Eastern Africa    Africa   \n",
       "1909    40.505793        14.804     Zimbabwe  Eastern Africa    Africa   \n",
       "\n",
       "           PC1       PC2       PC3 cluster  \n",
       "0    -3.906165  1.520131 -0.403055       0  \n",
       "1    -3.044270  1.529720 -0.043639       0  \n",
       "2    -2.923549  1.409665 -0.416828       0  \n",
       "3    -3.564866  1.328797 -0.505837       0  \n",
       "4    -3.196211  1.868501 -0.106653       0  \n",
       "...        ...       ...       ...     ...  \n",
       "1905 -1.659972  0.250552  1.197564       0  \n",
       "1906 -1.570403  0.560314  1.334534       0  \n",
       "1907 -1.809034  0.244640  1.185525       0  \n",
       "1908 -2.526906  0.056943  0.943198       0  \n",
       "1909 -2.674685  0.265309  0.303039       0  \n",
       "\n",
       "[1910 rows x 19 columns]"
      ]
     },
     "execution_count": 38,
     "metadata": {},
     "output_type": "execute_result"
    }
   ],
   "source": [
    "cluster_data.head()"
   ]
  },
  {
   "cell_type": "code",
   "execution_count": 27,
   "id": "1c8a4111-92ab-4d55-bb04-47abb78797bb",
   "metadata": {},
   "outputs": [],
   "source": [
    "def interactive_plot_scatter1(year, x_axis, y_axis, ignore_year):\n",
    "    \n",
    "    if ignore_year:\n",
    "        filtered_data = cluster_data\n",
    "        print(f\"All data points\")\n",
    "    else:\n",
    "        # Filter the data for the selected year\n",
    "        filtered_data = cluster_data[cluster_data['year'] == year]\n",
    "        print(f\"{filtered_data.shape[0]} countries for the year {year}\")\n",
    "\n",
    "    filtered_data = filtered_data.sort_values(by=['cluster'])\n",
    "\n",
    "    #Define a fixed color scheme for clusters\n",
    "    color_map = {\n",
    "        '0': '#228B22', \n",
    "        '1': '#00BFFF',    \n",
    "        '2': '#FFD700',  \n",
    "        '3': '#DC143C',\n",
    "        '4': '#7851A9'\n",
    "    }\n",
    "\n",
    "    #Create the plot\n",
    "    fig = px.scatter(filtered_data, x=x_axis, y=y_axis, color='cluster', \n",
    "                     range_x = [np.min(cluster_data[x_axis]-0.5), np.max(cluster_data[x_axis])+0.5],\n",
    "                     range_y = [np.min(cluster_data[y_axis]-0.5), np.max(cluster_data[y_axis])+0.5],\n",
    "                     hover_name='country', color_discrete_map=color_map)\n",
    "\n",
    "    fig.update_layout(\n",
    "        plot_bgcolor='white', \n",
    "        width=1000,  \n",
    "        height=700,  \n",
    "        legend=dict(\n",
    "            orientation=\"h\", \n",
    "            yanchor=\"bottom\",\n",
    "            y=-0.15,  \n",
    "            xanchor=\"center\",\n",
    "            x=0.5\n",
    "        ),\n",
    "        xaxis=dict(\n",
    "            showgrid=True,  # Enable x-axis gridlines\n",
    "            gridcolor='LightGrey',\n",
    "            zeroline=True,  # Show the zero line for the y-axis\n",
    "            zerolinecolor='LightGrey', \n",
    "            zerolinewidth=1\n",
    "        ),\n",
    "        yaxis=dict(\n",
    "            showgrid=True,  # Enable y-axis gridlines\n",
    "            gridcolor='LightGrey',\n",
    "            zeroline=True,  # Show the zero line for the y-axis\n",
    "            zerolinecolor='LightGrey',  \n",
    "            zerolinewidth=1\n",
    "        )\n",
    "    )\n",
    "    \n",
    "    fig.show()"
   ]
  },
  {
   "cell_type": "code",
   "execution_count": 28,
   "id": "997a513b-1635-44f8-af8c-d306613f58af",
   "metadata": {},
   "outputs": [],
   "source": [
    "index_life_ladder = cluster_data.columns.get_loc('life_ladder')\n",
    "index_country = cluster_data.columns.get_loc('country')\n",
    "index_PC1 = cluster_data.columns.get_loc('PC1')\n",
    "index_PC3 = cluster_data.columns.get_loc('PC3')\n",
    "\n",
    "plotting_variables = cluster_data.columns[index_life_ladder:index_country].tolist() + cluster_data.columns[index_PC1:index_PC3+1].tolist()"
   ]
  },
  {
   "cell_type": "code",
   "execution_count": 29,
   "id": "73a399d1-8bee-4774-aca1-a47e90b1437e",
   "metadata": {},
   "outputs": [
    {
     "data": {
      "application/vnd.plotly.v1+json": {
       "config": {
        "plotlyServerURL": "https://plot.ly"
       },
       "data": [
        {
         "hovertemplate": "<b>%{hovertext}</b><br><br>cluster=0<br>PC1=%{x}<br>PC2=%{y}<extra></extra>",
         "hovertext": [
          "Afghanistan",
          "Gambia",
          "Ghana",
          "Guinea",
          "India",
          "Ivory Coast",
          "Kenya",
          "Zambia",
          "Madagascar",
          "Malawi",
          "Mali",
          "Mauritania",
          "Mozambique",
          "Myanmar",
          "Niger",
          "Nigeria",
          "Pakistan",
          "Rwanda",
          "Senegal",
          "Sierra Leone",
          "Swaziland",
          "Tanzania",
          "Togo",
          "Uganda",
          "Ethiopia",
          "Congo (Brazzaville)",
          "Liberia",
          "Zimbabwe",
          "Cameroon",
          "Comoros",
          "Cambodia",
          "Benin",
          "Burkina Faso",
          "Chad"
         ],
         "legendgroup": "0",
         "marker": {
          "color": "#228B22",
          "symbol": "circle"
         },
         "mode": "markers",
         "name": "0",
         "orientation": "v",
         "showlegend": true,
         "type": "scatter",
         "x": [
          -6.406702637701201,
          -1.8124877603740448,
          -1.2610939548837874,
          -2.583432987940917,
          -2.24068327682486,
          -2.222678171969952,
          -0.9904037839513512,
          -2.5475120741843704,
          -2.3774424041319118,
          -3.3028248156254603,
          -2.342878916674997,
          -1.8089562638715664,
          -1.945973425036985,
          -0.2318229588341293,
          -1.6912137148765611,
          -2.026285362374027,
          -2.433769571307973,
          -1.8656472725721287,
          -1.2374738210404366,
          -4.0274821767487765,
          -1.7597648646902797,
          -1.5005884201402075,
          -3.672732839133224,
          -1.8640737058269008,
          -1.945814817464503,
          -2.2983625418134186,
          -2.463037948631744,
          -2.5269058428622326,
          -2.1735603344661123,
          -2.401487434923717,
          -0.4188704155748652,
          -2.929959158678589,
          -2.3817847102992675,
          -4.057711187468753
         ],
         "xaxis": "x",
         "y": [
          -0.7639552643577446,
          2.3954300608784047,
          1.0073422997577426,
          1.174942013570259,
          1.0701420919654887,
          0.6275297509206226,
          2.151621882891138,
          1.4768916600259607,
          0.7614905103269449,
          1.2077578412915162,
          0.7774802012967397,
          0.2970694772490278,
          0.994090206550904,
          3.3468730253776555,
          2.037122405692219,
          1.1432851292740946,
          0.6156763981787693,
          2.9134219891946183,
          1.05242945378715,
          0.7953234373003176,
          -0.0661656718500107,
          2.0998535014911424,
          0.8910775863300371,
          1.2305282021527626,
          1.036181844719282,
          0.4883621471111148,
          0.9633635079163908,
          0.0569425148270723,
          0.378132080510309,
          1.0539784230658154,
          1.5535077602550431,
          1.2659009478440706,
          0.9112201825760936,
          0.6007661994269194
         ],
         "yaxis": "y"
        },
        {
         "hovertemplate": "<b>%{hovertext}</b><br><br>cluster=1<br>PC1=%{x}<br>PC2=%{y}<extra></extra>",
         "hovertext": [
          "Iran",
          "North Macedonia",
          "Bangladesh",
          "Nepal",
          "Namibia",
          "Morocco",
          "Lebanon",
          "Lesotho",
          "Libya",
          "Bolivia",
          "Jordan",
          "South Africa",
          "Botswana",
          "Armenia",
          "Yemen",
          "Venezuela",
          "Georgia",
          "Albania",
          "Gabon",
          "Egypt",
          "Turkey",
          "Tunisia",
          "Algeria"
         ],
         "legendgroup": "1",
         "marker": {
          "color": "#00BFFF",
          "symbol": "circle"
         },
         "mode": "markers",
         "name": "1",
         "orientation": "v",
         "showlegend": true,
         "type": "scatter",
         "x": [
          -1.3938610540842835,
          -0.6398881824674393,
          -1.108652942549512,
          -0.9860224603599874,
          -1.2684764403666728,
          -2.114279131879953,
          -2.7669436235224785,
          -1.6330740697609178,
          -0.4969485739985096,
          -0.3226021137892882,
          -1.2813029660993138,
          -0.429620304921422,
          -1.054880063157221,
          -0.3768744642110869,
          -1.7332896099379522,
          -0.4868596948285066,
          -0.7177653360598879,
          -0.6007422367935574,
          -1.385489543367744,
          -1.643522055869076,
          -1.3825744396410626,
          -2.6230701633506746,
          -1.477789266089464
         ],
         "xaxis": "x",
         "y": [
          0.4129144733104578,
          -1.010564588909998,
          0.7765638191525508,
          0.5828368081732795,
          -0.606894549162851,
          -0.4848675446972661,
          -2.1333273899504577,
          -3.361203548205862,
          0.1679913075905653,
          0.262843581665888,
          -0.5195077957252523,
          -0.118494476767084,
          -0.7821043804867446,
          -0.1664236430150674,
          -0.5616902609518751,
          -0.4314552699989468,
          -0.6368849806830338,
          -0.4871965853213705,
          -0.6424008039930653,
          -0.5871969469978232,
          -1.444983555892658,
          -0.9349798458237182,
          -0.7069034654455372
         ],
         "yaxis": "y"
        },
        {
         "hovertemplate": "<b>%{hovertext}</b><br><br>cluster=2<br>PC1=%{x}<br>PC2=%{y}<extra></extra>",
         "hovertext": [
          "Vietnam",
          "Mauritius",
          "Uruguay",
          "Mexico",
          "Turkmenistan",
          "Thailand",
          "Nicaragua",
          "Argentina",
          "Tajikistan",
          "Panama",
          "Paraguay",
          "Taiwan Province of China",
          "Peru",
          "Malaysia",
          "Azerbaijan",
          "Saudi Arabia",
          "Sri Lanka",
          "Philippines",
          "Colombia",
          "Mongolia",
          "China",
          "Estonia",
          "Guatemala",
          "El Salvador",
          "Ecuador",
          "Dominican Republic",
          "Brazil",
          "Honduras",
          "Jamaica",
          "Cyprus",
          "Kazakhstan",
          "Indonesia",
          "Kuwait",
          "Kyrgyzstan",
          "Costa Rica",
          "Laos"
         ],
         "legendgroup": "2",
         "marker": {
          "color": "#FFD700",
          "symbol": "circle"
         },
         "mode": "markers",
         "name": "2",
         "orientation": "v",
         "showlegend": true,
         "type": "scatter",
         "x": [
          0.8196638094477936,
          1.6575464010940164,
          2.587559850172444,
          1.5009853982600578,
          0.6563604131959498,
          1.728444356796268,
          1.0038606556035758,
          1.057897475859197,
          0.4962483179919335,
          1.5415247426892376,
          0.9378154453610342,
          2.717601813080506,
          0.2879895523235133,
          1.4894743426790418,
          0.765404691741546,
          1.9964907121611235,
          0.0366022390499614,
          0.4541459830581589,
          0.8209112029422899,
          0.6138308997474109,
          1.2828629354533534,
          2.4594325448192493,
          0.6915795206448813,
          0.9996182146368998,
          0.3404067043047851,
          1.0824541389412374,
          0.9343128685729178,
          0.5153026020021341,
          0.9075219580096816,
          0.8594099545921611,
          1.976003297944632,
          0.6386362604696675,
          1.2429464099782228,
          0.4540514547322138,
          1.9156689237020028,
          0.1355232168214099
         ],
         "xaxis": "x",
         "y": [
          0.3371709254864435,
          0.2022917850101457,
          -0.333153193914917,
          0.2267771177181045,
          0.5870352716474458,
          1.3738216229892075,
          1.2593644611258972,
          -0.6662215947043517,
          1.0322777827444585,
          -0.0936734185813363,
          0.6607119769633063,
          -0.7057535747537195,
          0.1018214260206567,
          1.1427097632573957,
          -0.0309357618556393,
          -0.0391382662523937,
          0.2670805980921708,
          0.9081368956678616,
          -0.1658192879080456,
          -0.4244955411870837,
          0.2516763858314583,
          -0.5287344211304136,
          0.9017891892813428,
          0.8623060395345552,
          -0.0321833688570053,
          0.1572994423817991,
          -0.029254452349937,
          1.3232509262918226,
          0.1130579701493392,
          -0.2112503328475419,
          -0.5054771012354001,
          3.007011029362693,
          0.1389044731195155,
          0.7783383115870707,
          -0.1893257259015614,
          1.984946760465596
         ],
         "yaxis": "y"
        },
        {
         "hovertemplate": "<b>%{hovertext}</b><br><br>cluster=3<br>PC1=%{x}<br>PC2=%{y}<extra></extra>",
         "hovertext": [
          "Japan",
          "Serbia",
          "Moldova",
          "Latvia",
          "Slovakia",
          "Slovenia",
          "South Korea",
          "Spain",
          "Lithuania",
          "Greece",
          "Bosnia and Herzegovina",
          "Bulgaria",
          "Montenegro",
          "Ukraine",
          "Russia",
          "Croatia",
          "Belarus",
          "Italy",
          "Belgium",
          "Chile",
          "France",
          "Hungary",
          "Poland",
          "Portugal",
          "Romania"
         ],
         "legendgroup": "3",
         "marker": {
          "color": "#DC143C",
          "symbol": "circle"
         },
         "mode": "markers",
         "name": "3",
         "orientation": "v",
         "showlegend": true,
         "type": "scatter",
         "x": [
          1.897342606706316,
          0.4659668769387325,
          0.0114155073680448,
          0.7893055820081415,
          1.267162640381854,
          2.23620520157427,
          1.2716935072079345,
          1.6365916294902814,
          0.9264371144972317,
          0.5100481075490317,
          0.3429977949361354,
          0.6080075005114485,
          -0.1608722541003811,
          -0.1040770015587104,
          0.7376731346188614,
          0.45171883731287,
          0.8121815211320191,
          0.7519407946550151,
          2.0889335327774825,
          0.598551126034374,
          2.5305234099468765,
          1.456827083402009,
          1.7583298656832114,
          1.1701835639891025,
          0.7183089898573842
         ],
         "xaxis": "x",
         "y": [
          -1.3556872813638683,
          -1.5965813965582438,
          -1.3043553501691054,
          -2.5538055763255687,
          -1.524521786091545,
          -1.6101654644657457,
          -1.8544648836532265,
          -1.2108467628698945,
          -2.9758044150008214,
          -2.111731473575708,
          -0.9768002637489468,
          -1.318555203932178,
          -2.1881333003118004,
          -1.8440894882490968,
          -2.186208515602542,
          -2.4849963972532407,
          -2.155349425679753,
          -1.5196730706844872,
          -1.6881685680461993,
          -0.8177631174466072,
          -1.1955599316162968,
          -1.849571415588782,
          -1.1753872765554836,
          -1.690175018344405,
          -1.4965917632530394
         ],
         "yaxis": "y"
        },
        {
         "hovertemplate": "<b>%{hovertext}</b><br><br>cluster=4<br>PC1=%{x}<br>PC2=%{y}<extra></extra>",
         "hovertext": [
          "United Kingdom",
          "Denmark",
          "Uzbekistan",
          "Finland",
          "United Arab Emirates",
          "United States",
          "Luxembourg",
          "Switzerland",
          "Sweden",
          "Canada",
          "Singapore",
          "Australia",
          "Hong Kong S.A.R. of China",
          "Iceland",
          "Ireland",
          "Bahrain",
          "Norway",
          "Israel",
          "New Zealand",
          "Netherlands",
          "Malta",
          "Germany",
          "Austria"
         ],
         "legendgroup": "4",
         "marker": {
          "color": "#7851A9",
          "symbol": "circle"
         },
         "mode": "markers",
         "name": "4",
         "orientation": "v",
         "showlegend": true,
         "type": "scatter",
         "x": [
          3.116820213992121,
          4.393141653438649,
          2.0124731126994484,
          3.906223430888195,
          2.4740752322689525,
          2.522300533576934,
          3.670843707110946,
          4.145264703858312,
          3.969829183186323,
          3.193667760912251,
          4.846999457076257,
          3.394674017300083,
          2.166456051698547,
          3.684684734738753,
          3.6582278255850977,
          2.570254872708959,
          4.08094187752408,
          2.055360640967031,
          3.722383997269607,
          3.786831977759909,
          2.216007677595077,
          2.930459330060897,
          3.479620571571008
         ],
         "xaxis": "x",
         "y": [
          0.8212876808687659,
          0.7429715664477613,
          2.3259410044740894,
          -0.0892039659582981,
          1.1441819602727403,
          -0.0306743147401757,
          -0.1948755012032337,
          0.0279128477001329,
          0.509276197513423,
          0.5930531036573828,
          1.7551183259012515,
          0.4131441973310323,
          0.2315852348516287,
          0.1162738440360835,
          0.0868831398903528,
          0.799336880940162,
          0.6554876422842317,
          -0.2754813754660696,
          1.1084453431723738,
          0.8679821327175139,
          0.1518009966080112,
          -0.0179268457110095,
          -0.1986874516331266
         ],
         "yaxis": "y"
        }
       ],
       "layout": {
        "height": 700,
        "legend": {
         "orientation": "h",
         "title": {
          "text": "cluster"
         },
         "tracegroupgap": 0,
         "x": 0.5,
         "xanchor": "center",
         "y": -0.15,
         "yanchor": "bottom"
        },
        "margin": {
         "t": 60
        },
        "plot_bgcolor": "white",
        "template": {
         "data": {
          "bar": [
           {
            "error_x": {
             "color": "#2a3f5f"
            },
            "error_y": {
             "color": "#2a3f5f"
            },
            "marker": {
             "line": {
              "color": "#E5ECF6",
              "width": 0.5
             },
             "pattern": {
              "fillmode": "overlay",
              "size": 10,
              "solidity": 0.2
             }
            },
            "type": "bar"
           }
          ],
          "barpolar": [
           {
            "marker": {
             "line": {
              "color": "#E5ECF6",
              "width": 0.5
             },
             "pattern": {
              "fillmode": "overlay",
              "size": 10,
              "solidity": 0.2
             }
            },
            "type": "barpolar"
           }
          ],
          "carpet": [
           {
            "aaxis": {
             "endlinecolor": "#2a3f5f",
             "gridcolor": "white",
             "linecolor": "white",
             "minorgridcolor": "white",
             "startlinecolor": "#2a3f5f"
            },
            "baxis": {
             "endlinecolor": "#2a3f5f",
             "gridcolor": "white",
             "linecolor": "white",
             "minorgridcolor": "white",
             "startlinecolor": "#2a3f5f"
            },
            "type": "carpet"
           }
          ],
          "choropleth": [
           {
            "colorbar": {
             "outlinewidth": 0,
             "ticks": ""
            },
            "type": "choropleth"
           }
          ],
          "contour": [
           {
            "colorbar": {
             "outlinewidth": 0,
             "ticks": ""
            },
            "colorscale": [
             [
              0,
              "#0d0887"
             ],
             [
              0.1111111111111111,
              "#46039f"
             ],
             [
              0.2222222222222222,
              "#7201a8"
             ],
             [
              0.3333333333333333,
              "#9c179e"
             ],
             [
              0.4444444444444444,
              "#bd3786"
             ],
             [
              0.5555555555555556,
              "#d8576b"
             ],
             [
              0.6666666666666666,
              "#ed7953"
             ],
             [
              0.7777777777777778,
              "#fb9f3a"
             ],
             [
              0.8888888888888888,
              "#fdca26"
             ],
             [
              1,
              "#f0f921"
             ]
            ],
            "type": "contour"
           }
          ],
          "contourcarpet": [
           {
            "colorbar": {
             "outlinewidth": 0,
             "ticks": ""
            },
            "type": "contourcarpet"
           }
          ],
          "heatmap": [
           {
            "colorbar": {
             "outlinewidth": 0,
             "ticks": ""
            },
            "colorscale": [
             [
              0,
              "#0d0887"
             ],
             [
              0.1111111111111111,
              "#46039f"
             ],
             [
              0.2222222222222222,
              "#7201a8"
             ],
             [
              0.3333333333333333,
              "#9c179e"
             ],
             [
              0.4444444444444444,
              "#bd3786"
             ],
             [
              0.5555555555555556,
              "#d8576b"
             ],
             [
              0.6666666666666666,
              "#ed7953"
             ],
             [
              0.7777777777777778,
              "#fb9f3a"
             ],
             [
              0.8888888888888888,
              "#fdca26"
             ],
             [
              1,
              "#f0f921"
             ]
            ],
            "type": "heatmap"
           }
          ],
          "heatmapgl": [
           {
            "colorbar": {
             "outlinewidth": 0,
             "ticks": ""
            },
            "colorscale": [
             [
              0,
              "#0d0887"
             ],
             [
              0.1111111111111111,
              "#46039f"
             ],
             [
              0.2222222222222222,
              "#7201a8"
             ],
             [
              0.3333333333333333,
              "#9c179e"
             ],
             [
              0.4444444444444444,
              "#bd3786"
             ],
             [
              0.5555555555555556,
              "#d8576b"
             ],
             [
              0.6666666666666666,
              "#ed7953"
             ],
             [
              0.7777777777777778,
              "#fb9f3a"
             ],
             [
              0.8888888888888888,
              "#fdca26"
             ],
             [
              1,
              "#f0f921"
             ]
            ],
            "type": "heatmapgl"
           }
          ],
          "histogram": [
           {
            "marker": {
             "pattern": {
              "fillmode": "overlay",
              "size": 10,
              "solidity": 0.2
             }
            },
            "type": "histogram"
           }
          ],
          "histogram2d": [
           {
            "colorbar": {
             "outlinewidth": 0,
             "ticks": ""
            },
            "colorscale": [
             [
              0,
              "#0d0887"
             ],
             [
              0.1111111111111111,
              "#46039f"
             ],
             [
              0.2222222222222222,
              "#7201a8"
             ],
             [
              0.3333333333333333,
              "#9c179e"
             ],
             [
              0.4444444444444444,
              "#bd3786"
             ],
             [
              0.5555555555555556,
              "#d8576b"
             ],
             [
              0.6666666666666666,
              "#ed7953"
             ],
             [
              0.7777777777777778,
              "#fb9f3a"
             ],
             [
              0.8888888888888888,
              "#fdca26"
             ],
             [
              1,
              "#f0f921"
             ]
            ],
            "type": "histogram2d"
           }
          ],
          "histogram2dcontour": [
           {
            "colorbar": {
             "outlinewidth": 0,
             "ticks": ""
            },
            "colorscale": [
             [
              0,
              "#0d0887"
             ],
             [
              0.1111111111111111,
              "#46039f"
             ],
             [
              0.2222222222222222,
              "#7201a8"
             ],
             [
              0.3333333333333333,
              "#9c179e"
             ],
             [
              0.4444444444444444,
              "#bd3786"
             ],
             [
              0.5555555555555556,
              "#d8576b"
             ],
             [
              0.6666666666666666,
              "#ed7953"
             ],
             [
              0.7777777777777778,
              "#fb9f3a"
             ],
             [
              0.8888888888888888,
              "#fdca26"
             ],
             [
              1,
              "#f0f921"
             ]
            ],
            "type": "histogram2dcontour"
           }
          ],
          "mesh3d": [
           {
            "colorbar": {
             "outlinewidth": 0,
             "ticks": ""
            },
            "type": "mesh3d"
           }
          ],
          "parcoords": [
           {
            "line": {
             "colorbar": {
              "outlinewidth": 0,
              "ticks": ""
             }
            },
            "type": "parcoords"
           }
          ],
          "pie": [
           {
            "automargin": true,
            "type": "pie"
           }
          ],
          "scatter": [
           {
            "fillpattern": {
             "fillmode": "overlay",
             "size": 10,
             "solidity": 0.2
            },
            "type": "scatter"
           }
          ],
          "scatter3d": [
           {
            "line": {
             "colorbar": {
              "outlinewidth": 0,
              "ticks": ""
             }
            },
            "marker": {
             "colorbar": {
              "outlinewidth": 0,
              "ticks": ""
             }
            },
            "type": "scatter3d"
           }
          ],
          "scattercarpet": [
           {
            "marker": {
             "colorbar": {
              "outlinewidth": 0,
              "ticks": ""
             }
            },
            "type": "scattercarpet"
           }
          ],
          "scattergeo": [
           {
            "marker": {
             "colorbar": {
              "outlinewidth": 0,
              "ticks": ""
             }
            },
            "type": "scattergeo"
           }
          ],
          "scattergl": [
           {
            "marker": {
             "colorbar": {
              "outlinewidth": 0,
              "ticks": ""
             }
            },
            "type": "scattergl"
           }
          ],
          "scattermapbox": [
           {
            "marker": {
             "colorbar": {
              "outlinewidth": 0,
              "ticks": ""
             }
            },
            "type": "scattermapbox"
           }
          ],
          "scatterpolar": [
           {
            "marker": {
             "colorbar": {
              "outlinewidth": 0,
              "ticks": ""
             }
            },
            "type": "scatterpolar"
           }
          ],
          "scatterpolargl": [
           {
            "marker": {
             "colorbar": {
              "outlinewidth": 0,
              "ticks": ""
             }
            },
            "type": "scatterpolargl"
           }
          ],
          "scatterternary": [
           {
            "marker": {
             "colorbar": {
              "outlinewidth": 0,
              "ticks": ""
             }
            },
            "type": "scatterternary"
           }
          ],
          "surface": [
           {
            "colorbar": {
             "outlinewidth": 0,
             "ticks": ""
            },
            "colorscale": [
             [
              0,
              "#0d0887"
             ],
             [
              0.1111111111111111,
              "#46039f"
             ],
             [
              0.2222222222222222,
              "#7201a8"
             ],
             [
              0.3333333333333333,
              "#9c179e"
             ],
             [
              0.4444444444444444,
              "#bd3786"
             ],
             [
              0.5555555555555556,
              "#d8576b"
             ],
             [
              0.6666666666666666,
              "#ed7953"
             ],
             [
              0.7777777777777778,
              "#fb9f3a"
             ],
             [
              0.8888888888888888,
              "#fdca26"
             ],
             [
              1,
              "#f0f921"
             ]
            ],
            "type": "surface"
           }
          ],
          "table": [
           {
            "cells": {
             "fill": {
              "color": "#EBF0F8"
             },
             "line": {
              "color": "white"
             }
            },
            "header": {
             "fill": {
              "color": "#C8D4E3"
             },
             "line": {
              "color": "white"
             }
            },
            "type": "table"
           }
          ]
         },
         "layout": {
          "annotationdefaults": {
           "arrowcolor": "#2a3f5f",
           "arrowhead": 0,
           "arrowwidth": 1
          },
          "autotypenumbers": "strict",
          "coloraxis": {
           "colorbar": {
            "outlinewidth": 0,
            "ticks": ""
           }
          },
          "colorscale": {
           "diverging": [
            [
             0,
             "#8e0152"
            ],
            [
             0.1,
             "#c51b7d"
            ],
            [
             0.2,
             "#de77ae"
            ],
            [
             0.3,
             "#f1b6da"
            ],
            [
             0.4,
             "#fde0ef"
            ],
            [
             0.5,
             "#f7f7f7"
            ],
            [
             0.6,
             "#e6f5d0"
            ],
            [
             0.7,
             "#b8e186"
            ],
            [
             0.8,
             "#7fbc41"
            ],
            [
             0.9,
             "#4d9221"
            ],
            [
             1,
             "#276419"
            ]
           ],
           "sequential": [
            [
             0,
             "#0d0887"
            ],
            [
             0.1111111111111111,
             "#46039f"
            ],
            [
             0.2222222222222222,
             "#7201a8"
            ],
            [
             0.3333333333333333,
             "#9c179e"
            ],
            [
             0.4444444444444444,
             "#bd3786"
            ],
            [
             0.5555555555555556,
             "#d8576b"
            ],
            [
             0.6666666666666666,
             "#ed7953"
            ],
            [
             0.7777777777777778,
             "#fb9f3a"
            ],
            [
             0.8888888888888888,
             "#fdca26"
            ],
            [
             1,
             "#f0f921"
            ]
           ],
           "sequentialminus": [
            [
             0,
             "#0d0887"
            ],
            [
             0.1111111111111111,
             "#46039f"
            ],
            [
             0.2222222222222222,
             "#7201a8"
            ],
            [
             0.3333333333333333,
             "#9c179e"
            ],
            [
             0.4444444444444444,
             "#bd3786"
            ],
            [
             0.5555555555555556,
             "#d8576b"
            ],
            [
             0.6666666666666666,
             "#ed7953"
            ],
            [
             0.7777777777777778,
             "#fb9f3a"
            ],
            [
             0.8888888888888888,
             "#fdca26"
            ],
            [
             1,
             "#f0f921"
            ]
           ]
          },
          "colorway": [
           "#636efa",
           "#EF553B",
           "#00cc96",
           "#ab63fa",
           "#FFA15A",
           "#19d3f3",
           "#FF6692",
           "#B6E880",
           "#FF97FF",
           "#FECB52"
          ],
          "font": {
           "color": "#2a3f5f"
          },
          "geo": {
           "bgcolor": "white",
           "lakecolor": "white",
           "landcolor": "#E5ECF6",
           "showlakes": true,
           "showland": true,
           "subunitcolor": "white"
          },
          "hoverlabel": {
           "align": "left"
          },
          "hovermode": "closest",
          "mapbox": {
           "style": "light"
          },
          "paper_bgcolor": "white",
          "plot_bgcolor": "#E5ECF6",
          "polar": {
           "angularaxis": {
            "gridcolor": "white",
            "linecolor": "white",
            "ticks": ""
           },
           "bgcolor": "#E5ECF6",
           "radialaxis": {
            "gridcolor": "white",
            "linecolor": "white",
            "ticks": ""
           }
          },
          "scene": {
           "xaxis": {
            "backgroundcolor": "#E5ECF6",
            "gridcolor": "white",
            "gridwidth": 2,
            "linecolor": "white",
            "showbackground": true,
            "ticks": "",
            "zerolinecolor": "white"
           },
           "yaxis": {
            "backgroundcolor": "#E5ECF6",
            "gridcolor": "white",
            "gridwidth": 2,
            "linecolor": "white",
            "showbackground": true,
            "ticks": "",
            "zerolinecolor": "white"
           },
           "zaxis": {
            "backgroundcolor": "#E5ECF6",
            "gridcolor": "white",
            "gridwidth": 2,
            "linecolor": "white",
            "showbackground": true,
            "ticks": "",
            "zerolinecolor": "white"
           }
          },
          "shapedefaults": {
           "line": {
            "color": "#2a3f5f"
           }
          },
          "ternary": {
           "aaxis": {
            "gridcolor": "white",
            "linecolor": "white",
            "ticks": ""
           },
           "baxis": {
            "gridcolor": "white",
            "linecolor": "white",
            "ticks": ""
           },
           "bgcolor": "#E5ECF6",
           "caxis": {
            "gridcolor": "white",
            "linecolor": "white",
            "ticks": ""
           }
          },
          "title": {
           "x": 0.05
          },
          "xaxis": {
           "automargin": true,
           "gridcolor": "white",
           "linecolor": "white",
           "ticks": "",
           "title": {
            "standoff": 15
           },
           "zerolinecolor": "white",
           "zerolinewidth": 2
          },
          "yaxis": {
           "automargin": true,
           "gridcolor": "white",
           "linecolor": "white",
           "ticks": "",
           "title": {
            "standoff": 15
           },
           "zerolinecolor": "white",
           "zerolinewidth": 2
          }
         }
        },
        "width": 1000,
        "xaxis": {
         "anchor": "y",
         "domain": [
          0,
          1
         ],
         "gridcolor": "LightGrey",
         "range": [
          -7.395968383003183,
          5.501185400759708
         ],
         "showgrid": true,
         "title": {
          "text": "PC1"
         },
         "zeroline": true,
         "zerolinecolor": "LightGrey",
         "zerolinewidth": 1
        },
        "yaxis": {
         "anchor": "x",
         "domain": [
          0,
          1
         ],
         "gridcolor": "LightGrey",
         "range": [
          -5.263632334069526,
          4.702932447997484
         ],
         "showgrid": true,
         "title": {
          "text": "PC2"
         },
         "zeroline": true,
         "zerolinecolor": "LightGrey",
         "zerolinewidth": 1
        }
       }
      }
     },
     "metadata": {},
     "output_type": "display_data"
    },
    {
     "data": {
      "application/vnd.jupyter.widget-view+json": {
       "model_id": "7ae62a58702d4fa5a3923c547957015b",
       "version_major": 2,
       "version_minor": 0
      },
      "text/plain": [
       "interactive(children=(IntSlider(value=2019, description='Year:', max=2020, min=2005), Dropdown(description='X …"
      ]
     },
     "metadata": {},
     "output_type": "display_data"
    },
    {
     "data": {
      "application/vnd.plotly.v1+json": {
       "config": {
        "plotlyServerURL": "https://plot.ly"
       },
       "data": [
        {
         "hovertemplate": "<b>%{hovertext}</b><br><br>cluster=0<br>PC1=%{x}<br>PC2=%{y}<extra></extra>",
         "hovertext": [
          "Afghanistan",
          "Madagascar",
          "Madagascar",
          "Madagascar",
          "Madagascar",
          "Madagascar",
          "Madagascar",
          "Madagascar",
          "Madagascar",
          "Madagascar",
          "Malawi",
          "Malawi",
          "Malawi",
          "Malawi",
          "Malawi",
          "Malawi",
          "Malawi",
          "Malawi",
          "Malawi",
          "Malawi",
          "Malawi",
          "Malawi",
          "Madagascar",
          "Madagascar",
          "Liberia",
          "Liberia",
          "Kenya",
          "Kenya",
          "Kenya",
          "Kenya",
          "Kenya",
          "Kenya",
          "Kenya",
          "Kenya",
          "Kyrgyzstan",
          "Laos",
          "Mali",
          "Laos",
          "Laos",
          "Laos",
          "Zimbabwe",
          "Liberia",
          "Liberia",
          "Liberia",
          "Liberia",
          "Liberia",
          "Liberia",
          "Liberia",
          "Laos",
          "Kenya",
          "Mali",
          "Mali",
          "Mozambique",
          "Mozambique",
          "Mozambique",
          "Mozambique",
          "Myanmar",
          "Myanmar",
          "Myanmar",
          "Myanmar",
          "Myanmar",
          "Myanmar",
          "Myanmar",
          "Myanmar",
          "Namibia",
          "Namibia",
          "Nepal",
          "Nepal",
          "Nepal",
          "Nepal",
          "Nepal",
          "Nepal",
          "Nepal",
          "Mozambique",
          "Mozambique",
          "Mozambique",
          "Mozambique",
          "Mali",
          "Mali",
          "Mali",
          "Mali",
          "Mali",
          "Mali",
          "Mali",
          "Mali",
          "Mali",
          "Mauritania",
          "Mali",
          "Mauritania",
          "Mauritania",
          "Mauritania",
          "Mauritania",
          "Mauritania",
          "Mauritania",
          "Mauritania",
          "Mauritania",
          "Mauritania",
          "Mauritania",
          "Mauritania",
          "Mauritania",
          "Kenya",
          "Kenya",
          "Kenya",
          "Ghana",
          "Ghana",
          "Ghana",
          "Ghana",
          "Ghana",
          "Ghana",
          "Guatemala",
          "Guinea",
          "Guinea",
          "Guinea",
          "Guinea",
          "Guinea",
          "Guinea",
          "Guinea",
          "Guinea",
          "Guinea",
          "Haiti",
          "Haiti",
          "Haiti",
          "Haiti",
          "Haiti",
          "Ghana",
          "Ghana",
          "Ghana",
          "Ghana",
          "Djibouti",
          "Djibouti",
          "Egypt",
          "El Salvador",
          "El Salvador",
          "Ethiopia",
          "Ethiopia",
          "Ethiopia",
          "Ethiopia",
          "Ethiopia",
          "Haiti",
          "Ethiopia",
          "Ethiopia",
          "Ethiopia",
          "Gambia",
          "Gambia",
          "Gambia",
          "Ghana",
          "Ghana",
          "Ghana",
          "Ghana",
          "Ghana",
          "Ethiopia",
          "Haiti",
          "Haiti",
          "Haiti",
          "Indonesia",
          "Indonesia",
          "Indonesia",
          "Iran",
          "Iran",
          "Iran",
          "Iran",
          "Iran",
          "Iran",
          "Iran",
          "Indonesia",
          "Ivory Coast",
          "Ivory Coast",
          "Ivory Coast",
          "Ivory Coast",
          "Ivory Coast",
          "Ivory Coast",
          "Ivory Coast",
          "Ivory Coast",
          "Kenya",
          "Kenya",
          "Kenya",
          "Ivory Coast",
          "Nepal",
          "Indonesia",
          "India",
          "Haiti",
          "Haiti",
          "Honduras",
          "Honduras",
          "Honduras",
          "Honduras",
          "Honduras",
          "Honduras",
          "Honduras",
          "Honduras",
          "India",
          "India",
          "India",
          "India",
          "India",
          "India",
          "India",
          "India",
          "India",
          "India",
          "India",
          "India",
          "India",
          "Djibouti",
          "Nepal",
          "Nepal",
          "Tanzania",
          "Tanzania",
          "Tanzania",
          "Tanzania",
          "Tanzania",
          "Tanzania",
          "Tanzania",
          "Tanzania",
          "Tanzania",
          "Tanzania",
          "Tanzania",
          "Tanzania",
          "Tanzania",
          "Tanzania",
          "Tanzania",
          "Togo",
          "Togo",
          "Togo",
          "Togo",
          "Togo",
          "Togo",
          "Tajikistan",
          "Tajikistan",
          "Tajikistan",
          "Tajikistan",
          "South Sudan",
          "Sudan",
          "Sudan",
          "Sudan",
          "Sudan",
          "Swaziland",
          "Swaziland",
          "Swaziland",
          "Syria",
          "Syria",
          "Togo",
          "Syria",
          "Syria",
          "Tajikistan",
          "Tajikistan",
          "Tajikistan",
          "Tajikistan",
          "Tajikistan",
          "Tajikistan",
          "Tajikistan",
          "Tajikistan",
          "Tajikistan",
          "Syria",
          "South Sudan",
          "Togo",
          "Uganda",
          "Zambia",
          "Zambia",
          "Zambia",
          "Zambia",
          "Zambia",
          "Zambia",
          "Zambia",
          "Zambia",
          "Zambia",
          "Zimbabwe",
          "Zimbabwe",
          "Zimbabwe",
          "Zimbabwe",
          "Zimbabwe",
          "Zimbabwe",
          "Zimbabwe",
          "Zimbabwe",
          "Zimbabwe",
          "Zimbabwe",
          "Zimbabwe",
          "Zimbabwe",
          "Zambia",
          "Zambia",
          "Zambia",
          "Zambia",
          "Uganda",
          "Uganda",
          "Uganda",
          "Uganda",
          "Uganda",
          "Uganda",
          "Uganda",
          "Uganda",
          "Uganda",
          "Uganda",
          "Togo",
          "Uganda",
          "Uganda",
          "Uganda",
          "Yemen",
          "Yemen",
          "Yemen",
          "Yemen",
          "Yemen",
          "Yemen",
          "Yemen",
          "Zambia",
          "Uganda",
          "South Sudan",
          "South Sudan",
          "South Africa",
          "Nigeria",
          "Nigeria",
          "Nigeria",
          "Nigeria",
          "Nigeria",
          "Nigeria",
          "Pakistan",
          "Pakistan",
          "Pakistan",
          "Pakistan",
          "Pakistan",
          "Pakistan",
          "Pakistan",
          "Pakistan",
          "Pakistan",
          "Pakistan",
          "Pakistan",
          "Pakistan",
          "Pakistan",
          "Pakistan",
          "Paraguay",
          "Nigeria",
          "Nigeria",
          "Nigeria",
          "Nigeria",
          "Nepal",
          "Nicaragua",
          "Nicaragua",
          "Nicaragua",
          "Nicaragua",
          "Niger",
          "Niger",
          "Niger",
          "Niger",
          "Niger",
          "Philippines",
          "Niger",
          "Niger",
          "Niger",
          "Niger",
          "Niger",
          "Niger",
          "Niger",
          "Niger",
          "Nigeria",
          "Nigeria",
          "Nigeria",
          "Niger",
          "Philippines",
          "Philippines",
          "Philippines",
          "Senegal",
          "Senegal",
          "Senegal",
          "Senegal",
          "Senegal",
          "Senegal",
          "Sierra Leone",
          "Sierra Leone",
          "Sierra Leone",
          "Sierra Leone",
          "Senegal",
          "Sierra Leone",
          "Sierra Leone",
          "Sierra Leone",
          "Sierra Leone",
          "Sierra Leone",
          "Sierra Leone",
          "Sierra Leone",
          "Somalia",
          "Somalia",
          "Somalia",
          "South Africa",
          "Sierra Leone",
          "Nepal",
          "Senegal",
          "Senegal",
          "Philippines",
          "Philippines",
          "Philippines",
          "Philippines",
          "Philippines",
          "Philippines",
          "Rwanda",
          "Rwanda",
          "Rwanda",
          "Rwanda",
          "Senegal",
          "Rwanda",
          "Rwanda",
          "Rwanda",
          "Rwanda",
          "Rwanda",
          "Rwanda",
          "Rwanda",
          "Senegal",
          "Senegal",
          "Senegal",
          "Senegal",
          "Rwanda",
          "Djibouti",
          "Zimbabwe",
          "Congo (Kinshasa)",
          "Chad",
          "Congo (Brazzaville)",
          "Congo (Brazzaville)",
          "Congo (Brazzaville)",
          "Congo (Brazzaville)",
          "Congo (Brazzaville)",
          "Congo (Brazzaville)",
          "Congo (Brazzaville)",
          "Congo (Brazzaville)",
          "Congo (Brazzaville)",
          "Congo (Brazzaville)",
          "Comoros",
          "Comoros",
          "Comoros",
          "Bolivia",
          "Bolivia",
          "Comoros",
          "Comoros",
          "Comoros",
          "Burkina Faso",
          "Burkina Faso",
          "Burkina Faso",
          "Burkina Faso",
          "Burkina Faso",
          "Burkina Faso",
          "Congo (Kinshasa)",
          "Burkina Faso",
          "Benin",
          "Benin",
          "Congo (Kinshasa)",
          "Bangladesh",
          "Bangladesh",
          "Bangladesh",
          "Bangladesh",
          "Bangladesh",
          "Bangladesh",
          "Bangladesh",
          "Bangladesh",
          "Bangladesh",
          "Bangladesh",
          "Bangladesh",
          "Bangladesh",
          "Congo (Kinshasa)",
          "Congo (Kinshasa)",
          "Congo (Kinshasa)",
          "Benin",
          "Benin",
          "Benin",
          "Benin",
          "Benin",
          "Benin",
          "Benin",
          "Benin",
          "Benin",
          "Benin",
          "Burkina Faso",
          "Burkina Faso",
          "Burkina Faso",
          "Chad",
          "Chad",
          "Chad",
          "Chad",
          "Chad",
          "Cameroon",
          "Cameroon",
          "Cameroon",
          "Cameroon",
          "Cameroon",
          "Cameroon",
          "Cameroon",
          "Cameroon",
          "Cameroon",
          "Cameroon",
          "Central African Republic",
          "Central African Republic",
          "Central African Republic",
          "Central African Republic",
          "Central African Republic",
          "Chad",
          "Chad",
          "Chad",
          "Chad",
          "Chad",
          "Chad",
          "Chad",
          "Cameroon",
          "Cameroon",
          "Burkina Faso",
          "Burkina Faso",
          "Burkina Faso",
          "Burundi",
          "Burundi",
          "Burundi",
          "Burundi",
          "Burundi",
          "Cambodia",
          "Cambodia",
          "Cambodia",
          "Cambodia",
          "Congo (Kinshasa)",
          "Cambodia",
          "Cambodia",
          "Cambodia",
          "Cambodia",
          "Cambodia",
          "Cambodia",
          "Cambodia",
          "Cambodia",
          "Cambodia",
          "Cambodia",
          "Cameroon",
          "Cameroon",
          "Cameroon",
          "Cambodia",
          "Congo (Kinshasa)",
          "Chad",
          "Afghanistan",
          "Afghanistan",
          "Afghanistan",
          "Afghanistan",
          "Afghanistan",
          "Afghanistan",
          "Afghanistan",
          "Angola",
          "Afghanistan",
          "Afghanistan",
          "Angola",
          "Afghanistan",
          "Afghanistan"
         ],
         "legendgroup": "0",
         "marker": {
          "color": "#228B22",
          "symbol": "circle"
         },
         "mode": "markers",
         "name": "0",
         "showlegend": true,
         "type": "scattergl",
         "x": [
          -3.90616517437055,
          -2.895901939512473,
          -3.111284360307644,
          -2.996662866360518,
          -2.7027540113624395,
          -2.750823438576493,
          -2.2688620814018505,
          -3.0170045270524986,
          -2.909950050588165,
          -2.3774424041319118,
          -3.2132591496187923,
          -1.9909490698975365,
          -1.2084152728837958,
          -2.978089480711179,
          -2.593527691367556,
          -2.671168658614002,
          -2.788044912582574,
          -3.230562330602601,
          -3.455620046177255,
          -3.110448167469405,
          -3.510878433151998,
          -3.3028248156254603,
          -2.958440359977024,
          -2.6123110158340976,
          -2.463037948631744,
          -2.7881760109005804,
          -1.2269574280744462,
          -0.7389070330163725,
          -1.087270454300639,
          -1.286122274147352,
          -0.9198062044424452,
          -0.9413979118434772,
          -0.9904037839513512,
          -1.5354376547591355,
          0.0123005466329575,
          0.1065560147426154,
          -2.6959504994632835,
          -0.3902022547586232,
          -0.1916903808271374,
          -0.4199228699043918,
          -2.5269058428622326,
          -3.65409268059251,
          -3.3200963881501018,
          -2.1908928432272283,
          -3.594997244896382,
          -4.371425684624863,
          -3.741970524576638,
          -2.830484500406279,
          -0.309554660543921,
          -1.568982415161015,
          -3.070106751136888,
          -2.0768050105026514,
          -2.533637119420024,
          -2.434814776806744,
          -1.9688272220769676,
          -1.945973425036985,
          -1.1483798589187353,
          -0.3633072393545449,
          -0.1642328012200201,
          0.0871438844382064,
          -0.1813626641028874,
          -0.1900902367843461,
          -0.2318229588341293,
          -0.1710394711968143,
          -0.6047897447148016,
          -0.8949869955202755,
          -1.0567937593823893,
          -1.9231267372685632,
          -1.1815150933673375,
          -1.8793805337142395,
          -2.0312722863100308,
          -2.305777558751328,
          -1.7085186346355696,
          -2.354624246980747,
          -3.318928876540309,
          -2.8509739896451745,
          -2.623203433984508,
          -1.3719601156669674,
          -1.917737043688611,
          -2.261041629944728,
          -1.8594064798123693,
          -2.142632847525792,
          -2.1383237340182504,
          -2.407039252194354,
          -2.4293619153634127,
          -2.342878916674997,
          -1.916449908057384,
          -2.406959127903507,
          -2.200600412865652,
          -0.7570796384343434,
          -1.49479076377359,
          -1.5689659282741713,
          -1.5843773859118928,
          -1.287313687091827,
          -1.4499949686132954,
          -2.131920717878133,
          -2.207477221461565,
          -2.20861374842788,
          -1.8089562638715664,
          -1.2428174126056637,
          -1.4150102107238924,
          -1.3730367606080016,
          -1.8340973918643524,
          -1.999671061372292,
          -2.126386677504564,
          -1.2701243705053415,
          -0.959918161201712,
          -1.2610939548837874,
          -1.1442729086471497,
          -0.0718551632235191,
          -2.6038525188488792,
          -3.479099313827061,
          -3.514864518489649,
          -3.316805702221716,
          -3.257265002592745,
          -3.017360261047435,
          -2.488802754789578,
          -2.2431233316650743,
          -2.583432987940917,
          -3.388268838208908,
          -3.629336609339881,
          -4.997610742862968,
          -3.652167858852676,
          -3.050500375693461,
          -2.520611839981511,
          -1.6189779988412922,
          -1.4573676742689818,
          -0.831690560915763,
          -1.0928502646000429,
          -2.0117450944494686,
          -1.691810572820562,
          -0.2811165824573477,
          -0.3733248147936585,
          -1.9494906453966383,
          -2.528996691610748,
          -2.192078498751632,
          -1.5925046931417774,
          -1.745067144686666,
          -2.9543773434351914,
          -2.315583340440217,
          -1.945814817464503,
          -1.2687266748714308,
          -1.36090194820685,
          -1.5558292505636748,
          -1.8124877603740448,
          -1.5006170506735983,
          -1.1097886971361828,
          -1.5645884851759104,
          -2.003284529570698,
          -1.0334634103219686,
          -1.939111974901188,
          -3.425682223816488,
          -3.559948225046553,
          -4.152613674580402,
          -1.4035331025498474,
          0.0201722944967605,
          0.0696279939064873,
          -1.2146089912281377,
          -1.6643790817680564,
          -1.2612678974858764,
          -1.3219461692367158,
          -1.5723917088732575,
          -1.5026027653929954,
          -0.8246401576605027,
          -0.9897076041828692,
          -2.809390965550464,
          -2.503096243488121,
          -2.301054960127507,
          -2.5479811097849585,
          -2.299265320173191,
          -2.44111909169032,
          -2.222678171969952,
          -2.056478697631276,
          -1.8455404442415333,
          -1.2500427647546657,
          -1.7867906220812655,
          -2.3307891491378543,
          -1.6859933932482525,
          -0.5438056309143237,
          -2.24068327682486,
          -2.8483016771560785,
          -3.154624406930997,
          -0.2445006128008253,
          -0.0419879892029924,
          -0.055806014814571,
          -0.1734742922807562,
          -0.4708072378380596,
          -0.6496212931229456,
          -0.6269920986049891,
          -0.441998937747917,
          -1.2241919101134542,
          -1.1166649005047102,
          -1.8054409434554712,
          -1.5098144065091932,
          -1.8368638684158607,
          -2.4548115890868702,
          -2.0480711774730644,
          -1.5373176380774016,
          -1.6703196064663868,
          -1.603713934836663,
          -1.541619090504159,
          -1.5812597778984985,
          -1.9623644343920903,
          -1.2368357523931597,
          -1.4286892697042852,
          -0.9614664371495146,
          -1.863341572498341,
          -2.1324089480880537,
          -2.2272234475233845,
          -2.0312468075261028,
          -2.3533962942956617,
          -1.3783184448623558,
          -2.163002959207575,
          -1.992282092708076,
          -2.2602173295975434,
          -2.102004334248347,
          -2.4632020751578563,
          -1.8790115108019128,
          -1.5836569156068467,
          -1.5005884201402075,
          -1.2263415249873235,
          -4.62014001448613,
          -6.895968383003183,
          -5.619413689218025,
          -4.719793903052964,
          -3.768753887068034,
          -3.927976199769845,
          -0.2338630794652791,
          -0.8878565932204209,
          -0.573192924431938,
          -0.2753246523746959,
          -4.83810927502529,
          -1.0878651397205568,
          -1.6684195368306742,
          -2.1029552601200856,
          -2.507405678275608,
          -1.8579346331088795,
          -1.3024530236082763,
          -1.7597648646902797,
          -1.2226221536936093,
          -2.99482935014664,
          -3.4836068938904257,
          -4.242812744329963,
          -5.205961197625819,
          -1.9080397285849928,
          -0.9281519602136146,
          -1.1233206166557088,
          -1.7430612727695396,
          -1.0851414781952875,
          -1.0549923696518106,
          -1.1368565917282152,
          -1.1485223578574917,
          -0.5194743717027074,
          -4.662950341297631,
          -4.988030438190412,
          -3.705463905134208,
          -2.9655401350149275,
          -1.4009957574026148,
          -1.475301891803786,
          -2.0600992143769736,
          -2.260911606646863,
          -1.6605618527944164,
          -1.9462630856941452,
          -2.065918697205439,
          -2.5475120741843704,
          -1.6839348475610303,
          -3.4488128677955814,
          -3.620750087274708,
          -3.9065828156945344,
          -2.978893456691368,
          -1.4824975193629724,
          -1.4994277093540638,
          -1.867566960719986,
          -2.015210899610384,
          -2.0645471254246965,
          -1.6599718436877242,
          -1.5704031961896945,
          -1.8090337378695256,
          -1.1611940518938928,
          -1.6094633832729812,
          -2.371663327049524,
          -3.0404156693224693,
          -2.1475253954250806,
          -2.655727509549145,
          -2.1654514566143948,
          -2.118996634811404,
          -1.6605618201395784,
          -1.7928682762934556,
          -2.163872479060517,
          -2.3777888754715835,
          -2.259020337414019,
          -2.412406719453976,
          -3.672732839133224,
          -2.391070124036001,
          -1.8640737058269008,
          -2.1624654659310285,
          -2.254675341247779,
          -2.398374066600641,
          -2.4622642864239386,
          -3.0542144292642983,
          -2.7547953073570124,
          -2.9153660912149646,
          -3.7129093136704014,
          -1.996311176278614,
          -2.406010993506917,
          -3.93692807204166,
          -3.938554841884526,
          -0.9444476233728988,
          -1.863848286978019,
          -1.3762384848266511,
          -1.3076796614027837,
          -1.345830310708588,
          -2.026285362374027,
          -1.6877563017067403,
          -2.05947181761575,
          -2.80344549567129,
          -3.909356089053732,
          -3.1667088621414607,
          -2.655594087732824,
          -3.242814515044817,
          -2.9045795584197958,
          -2.509434244649402,
          -2.2308735387629146,
          -2.5213558178990474,
          -1.806631330368752,
          -1.325704385139192,
          -1.6412473120404298,
          -2.433769571307973,
          -0.1874250295306389,
          -2.777759240808527,
          -1.3059642649782048,
          -1.8670661042936696,
          -2.407204431862404,
          -1.199151827923095,
          -0.5531507129891089,
          -0.0960449439169534,
          -0.1762173290650845,
          -0.1536872375870155,
          -2.672057853298386,
          -2.8230334042868246,
          -3.265316188403937,
          -1.342770353315001,
          -1.924216912511955,
          -0.6183078763760027,
          -1.5760151421503688,
          -2.589241842919921,
          -2.2488724332683594,
          -2.602512068205357,
          -2.949099896380022,
          -3.197445550079061,
          -2.4681973642606323,
          -1.6912137148765611,
          -2.043725479979688,
          -1.8316554684258168,
          -2.16828743461904,
          -2.8316220541211736,
          -0.7767198279492279,
          -0.7165651410016383,
          -0.3790293648034483,
          -1.0461030856852234,
          -1.662043920624495,
          -1.0647726041929348,
          -1.6620753785932585,
          -1.7178452182174733,
          -1.2374738210404366,
          -4.737616468129985,
          -3.641285298943817,
          -4.661803061539364,
          -3.333817525877347,
          -1.9414403819174348,
          -3.300850247454428,
          -2.683283588116058,
          -3.636801720290978,
          -3.5622054884953256,
          -3.716161241851888,
          -3.598707819035813,
          -4.0274821767487765,
          -0.8449338628901849,
          -0.3776600925460442,
          -0.956719570513122,
          -0.725665368550128,
          -3.666318175007176,
          -1.7482857776388996,
          -2.118993277005346,
          -1.3553471118341278,
          -0.0487715641490064,
          -0.239793544395046,
          -0.0086479447669333,
          -0.0398536129211272,
          -0.0410742640657045,
          -0.0667561961163917,
          -1.052955116487451,
          -2.2774278961759804,
          -1.8724482051135207,
          -1.3501431508158095,
          -2.579206804460488,
          -1.068047295052413,
          -0.244088724579877,
          -0.711623665865854,
          -0.9643464376913606,
          -1.7056088459998553,
          -0.8455039120533091,
          -1.8656472725721287,
          -1.7791097902227222,
          -1.862260542675292,
          -2.237793143488,
          -2.0582580374911905,
          -0.4599452725234409,
          -0.834797250790771,
          -2.674684599679655,
          -3.857839356434509,
          -4.4146969977861215,
          -2.2983625418134186,
          -2.492383641028564,
          -2.3280129494954838,
          -2.506552859564164,
          -2.0697561236947304,
          -2.944825468014496,
          -2.4594527433066444,
          -2.864606818577133,
          -2.481531764051128,
          -3.824221451520865,
          -2.401487434923717,
          -2.6528443053122857,
          -2.538272480610596,
          -0.6233485435494228,
          -0.2434004287719122,
          -2.501191982701417,
          -2.259866642120729,
          -3.0822218697979684,
          -2.836150710067422,
          -3.1391374744785305,
          -3.750204701853887,
          -2.869417642038188,
          -2.4015617664311475,
          -3.1315024648418963,
          -2.888261563665224,
          -2.806162510371901,
          -2.4953923011645287,
          -2.7341463090722864,
          -3.3787263499909064,
          -2.3991312675350454,
          -2.6978178727603046,
          -2.2429434483296897,
          -2.063666386424516,
          -2.225350945652258,
          -1.272252209814712,
          -1.5694286600925371,
          -1.9328881266497664,
          -1.7516817286858894,
          -1.3865724944050868,
          -1.2805364626907705,
          -0.8450914227935674,
          -3.0616281328186967,
          -2.975141677606487,
          -2.8420070726615845,
          -4.27264145801904,
          -4.038167339163691,
          -3.2678618248258657,
          -3.4345678886886435,
          -2.7784574281843497,
          -3.5061901770263773,
          -3.905020584881774,
          -3.622840891833356,
          -3.4577303093265246,
          -2.929959158678589,
          -2.808150109329591,
          -2.852952114201233,
          -2.63145152310384,
          -3.803882468418664,
          -4.313254832016037,
          -3.692973433552357,
          -4.018956472700622,
          -4.41394317252122,
          -2.3527267313908533,
          -2.517454600195255,
          -2.1032092609568447,
          -2.0757066870328944,
          -2.355719440948246,
          -2.6097258904866494,
          -2.312405861930223,
          -2.075692714151719,
          -2.1735603344661123,
          -2.220670065857022,
          -4.175254065577294,
          -4.477988311505271,
          -4.528441797867841,
          -6.004698491291714,
          -5.71312194755923,
          -4.615819320176377,
          -4.887694443941054,
          -4.015222118334272,
          -3.1953483801924523,
          -3.8964144051829854,
          -4.166828845587115,
          -4.057711187468753,
          -2.289195823494015,
          -2.614591682812469,
          -2.617659314857192,
          -2.2395466269869875,
          -2.3817847102992675,
          -6.186534157336457,
          -4.592379473216782,
          -4.024860052420567,
          -4.373029466138495,
          -3.714446684339927,
          -1.6673694773132983,
          -1.9126169543389,
          -1.800619259367917,
          -0.7184731337634866,
          -2.3160452585319904,
          -1.4338969039963827,
          -1.4685413755913364,
          -1.6581202937907993,
          -1.5359838481850732,
          -0.941635976161609,
          -0.7787266358626703,
          -0.7216524159013257,
          -0.3362622955335266,
          -0.4188704155748652,
          -0.6632694394123797,
          -3.2491395771249105,
          -2.847673467233488,
          -3.383831368167421,
          -0.7790918881701443,
          -3.397017039541188,
          -3.983673033356944,
          -3.666304276451943,
          -3.04427044203004,
          -2.9235488763078914,
          -3.564865665549579,
          -3.196210636054098,
          -3.720982658898816,
          -4.43958288608637,
          -3.044498575820484,
          -5.297567108036261,
          -4.247598068428662,
          -2.1068023525785056,
          -5.592101938499551,
          -6.406702637701201
         ],
         "xaxis": "x",
         "y": [
          1.5201308211059517,
          -0.4189262104638652,
          0.373736501897207,
          0.5522473349230257,
          0.8524617929019358,
          0.8915090242521976,
          0.7193446110529979,
          0.7754805685335419,
          0.7097454682153636,
          0.7614905103269449,
          2.604918230771592,
          2.9182273137706414,
          2.589634641846284,
          1.7334776578541464,
          2.035803178655806,
          2.077526245280596,
          1.8516857589120976,
          1.679659855817926,
          1.586496984217427,
          1.6432304821816135,
          1.5949398791884333,
          1.2077578412915162,
          -0.4463576512604987,
          0.6510097790539207,
          0.9633635079163908,
          1.1345216849239494,
          1.49836375799405,
          1.810741278974889,
          1.5664945560891737,
          1.957337278495895,
          2.0372327883615235,
          2.027213593952224,
          2.151621882891138,
          1.623819797831189,
          1.4336109966965505,
          3.5957961135310623,
          0.9720357748925244,
          2.7620813796611845,
          2.196348178506936,
          1.9734326391547805,
          0.0569425148270723,
          1.813771083197994,
          0.9606205381622062,
          0.8577729628467373,
          0.1388180386411532,
          0.2905189294478016,
          1.1286416830097086,
          0.9653752115780948,
          2.093772658233346,
          0.549942710823499,
          0.5137729352162265,
          1.5438678413732303,
          1.1673132108382775,
          0.950228423524945,
          1.1760368647424746,
          0.994090206550904,
          3.547332190171779,
          3.840651064220656,
          4.060925301347861,
          3.923127538563579,
          3.666186271148476,
          3.246759744445921,
          3.3468730253776555,
          2.981634982295749,
          0.0382787865495486,
          0.0851393381556897,
          1.1167367403971065,
          0.697773362955084,
          1.3120836212533031,
          -0.1839007093609743,
          0.1681849179856859,
          -0.0332513660339227,
          0.6479901699446571,
          0.1569455155681285,
          0.1320029686892575,
          0.7981726012475393,
          0.6996773294874333,
          1.3713826560176292,
          0.7861506842862619,
          0.9911673857481048,
          1.1524772193665276,
          0.65638684504212,
          0.9859632238058192,
          0.9931653547442156,
          1.3485366554839209,
          0.7774802012967397,
          0.9482558267616176,
          1.3066031990964675,
          0.796831302798172,
          1.208965862940288,
          1.0344950171665164,
          0.706939792149956,
          0.903415775070766,
          0.4936409212446003,
          0.7811228413613426,
          -0.2721065749447167,
          -0.3006941350254498,
          -0.1519464463946193,
          0.2970694772490278,
          1.066788053632324,
          0.7311959235451462,
          0.8666784557362435,
          0.926495605880949,
          0.7263350662272597,
          0.9373407785514752,
          1.0945783242559255,
          1.1216503236317654,
          1.0073422997577426,
          1.6177963040462904,
          0.7323920789737016,
          1.7115397533418204,
          1.161009827360599,
          1.1953309980656834,
          1.0676601147722304,
          1.1641109263913254,
          0.861984566225162,
          1.278654521667458,
          1.4713210795473062,
          1.174942013570259,
          1.355355678508318,
          1.220562247243708,
          1.016394740638715,
          1.5268852938931352,
          1.2764745481429267,
          0.5738623588388847,
          0.5948348161575446,
          0.8741426040506969,
          1.2119742184858775,
          0.9763274340298708,
          0.9161740484798034,
          -0.0473596240782682,
          0.626892453781337,
          0.5711554026466648,
          1.2077254807252278,
          1.1347410251219177,
          1.6449632084983372,
          2.143068473488768,
          1.426177972929657,
          1.4886319510604007,
          0.735719106886584,
          1.036181844719282,
          1.411719150976244,
          2.4187933098139167,
          2.928114093688391,
          2.3954300608784047,
          1.807074774534029,
          1.7044908826516132,
          1.6368405388086371,
          1.2005041444285156,
          1.5640926393972,
          0.976055002216498,
          1.408586007940989,
          1.0710201376519046,
          0.4788334621150292,
          1.0183172165556744,
          2.132983970691817,
          2.619863961007176,
          1.028839111934045,
          0.9783897209663583,
          0.9565273522764652,
          1.1221202196170554,
          1.0569479520202505,
          1.166146445513512,
          0.9778655291399344,
          1.5894241696495486,
          0.0971935940018215,
          0.749447547414804,
          0.7814283851745816,
          0.9690871300127756,
          0.5326164107610434,
          0.6364320536966437,
          0.6275297509206226,
          1.0508352886831651,
          0.3979366269333515,
          1.14499751455965,
          0.6393172723415493,
          1.058014079112493,
          0.7331385606290804,
          1.975441642724832,
          1.0701420919654887,
          1.4344358319759338,
          1.9045199971666715,
          1.3070843776355956,
          1.3038959698415908,
          0.9296218588077388,
          0.9192488565886878,
          1.2459605491255872,
          0.7612845149875188,
          0.5651563550324925,
          0.7198253861439101,
          1.24974470870805,
          0.2420956372452231,
          0.2914007726654613,
          0.6559508453226468,
          0.3394481916245392,
          0.2610290068757979,
          0.7241243788751601,
          0.5593101506427877,
          0.6232523502848344,
          0.864260137664276,
          0.6748937601798733,
          0.8728498804163843,
          0.1752553743698472,
          0.5580956083979861,
          0.519402836583365,
          0.8857811091321991,
          1.649177801992038,
          1.5239442557693716,
          1.5175648729106472,
          1.8747434439186044,
          1.2190017779947946,
          0.9947989396706448,
          1.1663850747322024,
          1.075828221398794,
          1.2133169997843274,
          1.1693897700522695,
          2.03244858036793,
          1.9278354978991907,
          2.310833389157721,
          2.0998535014911424,
          2.505402007113029,
          0.9273017688792266,
          -0.6946726928662046,
          0.3955730068717442,
          0.6244006401531738,
          0.9850247831417012,
          0.910120032551328,
          1.1158196136995295,
          1.2108237149618826,
          0.5576528022624344,
          0.9581284580699718,
          0.535660369762982,
          1.1660696744289487,
          0.4898604207127274,
          0.2583438178043669,
          -0.4028193891912466,
          0.2958933379998926,
          0.4261924665282206,
          -0.0661656718500107,
          0.8111902765504422,
          0.6605657880491842,
          0.934524108085189,
          0.8320860177297313,
          -0.0344843501214078,
          0.2507070620411523,
          1.3623828593355685,
          1.0166946915535988,
          0.7142910224397291,
          1.1472878610117694,
          0.7350330033820396,
          0.7954580452781579,
          0.9427939234434386,
          0.9489076443139216,
          0.4143344215573799,
          0.6059967876991726,
          0.5296303473597207,
          0.6731334563435403,
          0.9280807627320178,
          0.6584213769173011,
          0.911541437979835,
          0.578387897747654,
          1.4039376387760558,
          1.4283775420718232,
          1.0597148129615432,
          1.4768916600259607,
          0.8442753219074025,
          -0.3020485608272806,
          -0.6546352216582122,
          -1.2278698814539242,
          -0.8084288548712109,
          -0.1898688993201623,
          -0.2173158420090646,
          -0.4821891014711605,
          -0.1342011675046102,
          -0.187894040990308,
          0.2505522300064099,
          0.5603138651042765,
          0.2446398267645762,
          0.700000299032067,
          0.3310967257656665,
          1.274384007769014,
          0.4623066400991325,
          0.8497034127820144,
          0.2726496518658261,
          0.6598588135777278,
          0.895109711872719,
          0.8731679658826983,
          1.0906890433009315,
          1.0661981311377822,
          1.0535741521707132,
          1.486223595396716,
          1.376179138534226,
          0.8910775863300371,
          1.364138581077267,
          1.2305282021527626,
          1.138778585627111,
          0.1383411222946075,
          -0.0789562156616397,
          -0.1963603829627559,
          -0.3911564607517599,
          -0.3103690909087238,
          -0.0629932537597934,
          -0.3131386407590048,
          0.8049978034233269,
          1.1828027442038953,
          0.6843428409663784,
          0.9914101422357084,
          0.1064912722105981,
          0.5956975755706247,
          1.1969759739201873,
          1.7256650795165105,
          1.391304258249345,
          1.1432851292740946,
          1.1530547326174314,
          0.8036563586098535,
          0.4566081257308707,
          0.4044742685751134,
          0.0768081078144034,
          0.694182680696913,
          -0.1071449846209673,
          0.39751647335617,
          0.1389032210873623,
          0.6789772483220146,
          0.4938106570258983,
          0.5827628390503854,
          0.4052069685385785,
          0.4271286458648261,
          0.6156763981787693,
          0.5694581879823866,
          0.7684137737504645,
          1.1928031491797129,
          0.9401881586207242,
          0.9191383087360434,
          0.6785294584865642,
          0.5853554267763694,
          0.902523739265245,
          0.8365208043751318,
          0.6929513272863133,
          2.1463697215913213,
          1.0719563244734995,
          1.2067750360110672,
          2.2834168615998167,
          2.2291951363023053,
          1.5594138218304066,
          1.556849291765667,
          1.3552755727477064,
          1.2569769183005577,
          1.3322619970392249,
          1.1078240095298797,
          1.345339447027207,
          1.9392555804937688,
          2.037122405692219,
          1.478021973085946,
          1.6883848749087944,
          1.134464278593804,
          0.969530322130919,
          1.0710915748925445,
          1.6029628598215515,
          1.548881982737921,
          0.6648445497779012,
          0.5783730558596519,
          0.6537533405856221,
          0.6113251598889059,
          0.3169257230272838,
          1.05242945378715,
          1.3256686285486827,
          1.9468245563491275,
          1.4357580236291754,
          0.5217584225671945,
          0.2693226409341577,
          0.4976432302525682,
          0.6385759493317227,
          1.106854182065133,
          1.0852936000969111,
          1.1112809717751266,
          0.9522200865660864,
          0.7953234373003176,
          3.1659620840322686,
          3.886002332013751,
          3.601564870630909,
          0.0244770988061218,
          0.3677223021457425,
          0.8187296309244677,
          0.8307281960978581,
          0.8768856489901231,
          1.700849429963731,
          1.7491173933946251,
          1.7821864514539796,
          1.4176044842477162,
          1.3128527723580663,
          1.0730203529617033,
          2.831371326258483,
          2.25735050790033,
          2.0648624569700305,
          2.3591104643035834,
          0.4757885943795139,
          2.6186498853090527,
          2.687106020695938,
          2.7886213251855634,
          2.7741083860079487,
          3.0115380617963536,
          3.0493874631560445,
          2.9134219891946183,
          0.8753644274479958,
          0.8899393419650329,
          0.2879030705141694,
          0.2705790420965767,
          2.640439472144702,
          1.977786704364757,
          0.2653087381346355,
          0.1135421159635133,
          0.0706981954057204,
          0.4883621471111148,
          0.1832054895038776,
          0.2382708361397996,
          0.566772494323282,
          0.4620690886587619,
          -0.0917954333746922,
          0.32156032132104,
          0.1590731273321483,
          0.2161333604761842,
          -0.1917682771788096,
          1.0539784230658154,
          1.1775173308182354,
          0.1892380635440902,
          0.6389400234315978,
          0.6851855740656289,
          0.3363295079840106,
          0.8225626423595578,
          0.4084220986142824,
          0.923013761493686,
          0.3701768040179298,
          -0.1247035623099733,
          0.3140303122907291,
          0.5193642264256213,
          0.1677378152106004,
          0.5712312146085359,
          0.8340250571177865,
          1.126864787928122,
          0.9465954132649445,
          0.164236673606159,
          0.7638925495329509,
          0.9615980640397044,
          1.0502164657327984,
          0.765886529533149,
          0.842901423015527,
          1.2070801324051263,
          1.070757444971466,
          1.0944663611344203,
          0.7715657113617066,
          1.034889331284113,
          0.820048667110339,
          1.189254824729128,
          0.1940029690149105,
          0.0126536032787991,
          0.4328211991283097,
          0.7228593171881973,
          1.058215543110753,
          0.6750343032816738,
          0.6514923924836725,
          0.9505336801656168,
          0.6431526466914848,
          0.8525059952029607,
          0.7599104513210243,
          0.802543504656549,
          1.2659009478440706,
          0.7044775015626601,
          0.6340244117360188,
          0.5721501384007616,
          0.7514414386604092,
          0.6197172969546137,
          0.0024479784829724,
          -0.0565292113671837,
          -0.3571355563688513,
          0.4330307373607963,
          0.3190456285773014,
          0.6055363740275785,
          0.3059972675579978,
          0.8985377164022942,
          0.5417707421502619,
          0.4599026762763973,
          0.7591841494969098,
          0.378132080510309,
          0.3999739518282878,
          0.9918826495479164,
          0.4720747719284258,
          0.9117436991757806,
          1.1047075903898274,
          1.1747147555975426,
          -0.1838900940637725,
          0.2457706698598124,
          0.0939996328161595,
          0.2358783502307874,
          0.1884536567674012,
          0.8249877341106112,
          0.6007661994269194,
          0.4669798095706561,
          0.118831505008046,
          0.1190909219565853,
          1.0418708012334443,
          0.9112201825760936,
          0.0356598958656681,
          1.2222386458915773,
          1.2694566465567476,
          0.6340360795009808,
          1.666927174006724,
          2.034578384433722,
          1.599267689753947,
          1.6238270110980786,
          1.8224115438435136,
          0.3898243624000982,
          2.59270489257205,
          2.594695673966356,
          2.2088545204955627,
          2.261758917657168,
          2.264260223732053,
          1.8284250156530564,
          1.7288571845617846,
          1.584430463499079,
          1.5535077602550431,
          1.8191361833266888,
          0.2233271651791128,
          0.1545140912766201,
          -0.2701149216431182,
          3.035294774657203,
          0.8973399367367006,
          0.6085308783078661,
          0.617298784309103,
          1.5297203243106932,
          1.4096645606367744,
          1.3287967563322531,
          1.8685007391581776,
          1.1145158671533146,
          0.662622531330994,
          -0.6082238250519635,
          -0.4194550639565155,
          0.3184800215553498,
          0.1603948471041102,
          -0.6719700350412583,
          -0.7639552643577446
         ],
         "yaxis": "y"
        },
        {
         "hovertemplate": "<b>%{hovertext}</b><br><br>cluster=1<br>PC1=%{x}<br>PC2=%{y}<extra></extra>",
         "hovertext": [
          "Ukraine",
          "Ukraine",
          "Ukraine",
          "Ukraine",
          "Ukraine",
          "Ukraine",
          "Ukraine",
          "Ukraine",
          "Ukraine",
          "Ukraine",
          "Angola",
          "Ukraine",
          "Ukraine",
          "Azerbaijan",
          "Venezuela",
          "Algeria",
          "Algeria",
          "Algeria",
          "Algeria",
          "Vietnam",
          "Vietnam",
          "Vietnam",
          "Vietnam",
          "Vietnam",
          "Vietnam",
          "Venezuela",
          "Venezuela",
          "Venezuela",
          "Bulgaria",
          "Venezuela",
          "Ukraine",
          "Bulgaria",
          "Moldova",
          "Bulgaria",
          "Montenegro",
          "Montenegro",
          "Montenegro",
          "Montenegro",
          "Montenegro",
          "Montenegro",
          "Mongolia",
          "Montenegro",
          "Montenegro",
          "Morocco",
          "Morocco",
          "Morocco",
          "Morocco",
          "Morocco",
          "Montenegro",
          "Bulgaria",
          "Mongolia",
          "Moldova",
          "Bulgaria",
          "Bulgaria",
          "Bulgaria",
          "Yemen",
          "Moldova",
          "Moldova",
          "Mongolia",
          "Moldova",
          "Moldova",
          "Moldova",
          "Moldova",
          "Moldova",
          "Moldova",
          "Moldova",
          "Moldova",
          "Algeria",
          "Libya",
          "Yemen",
          "Kyrgyzstan",
          "Kyrgyzstan",
          "Kyrgyzstan",
          "Kyrgyzstan",
          "Albania",
          "Latvia",
          "Kyrgyzstan",
          "Latvia",
          "Latvia",
          "Albania",
          "Lebanon",
          "Lebanon",
          "Lebanon",
          "Lebanon",
          "Latvia",
          "Lebanon",
          "Kyrgyzstan",
          "Kyrgyzstan",
          "Zimbabwe",
          "Jordan",
          "Jordan",
          "Jordan",
          "Jordan",
          "Jordan",
          "Kyrgyzstan",
          "Jordan",
          "Jordan",
          "Jordan",
          "Jordan",
          "Jordan",
          "Jordan",
          "Jordan",
          "Jordan",
          "Algeria",
          "Lebanon",
          "Lebanon",
          "Albania",
          "Albania",
          "Algeria",
          "Algeria",
          "Yemen",
          "Yemen",
          "Albania",
          "Yemen",
          "Libya",
          "Libya",
          "Morocco",
          "Libya",
          "Libya",
          "Lithuania",
          "Libya",
          "Lebanon",
          "Albania",
          "Albania",
          "Lebanon",
          "Lebanon",
          "Lebanon",
          "Lebanon",
          "Lebanon",
          "Lesotho",
          "Albania",
          "Lesotho",
          "Lesotho",
          "Albania",
          "Albania",
          "Albania",
          "Albania",
          "Albania",
          "Lesotho",
          "Morocco",
          "Morocco",
          "Morocco",
          "Romania",
          "Romania",
          "Romania",
          "Romania",
          "Romania",
          "Bangladesh",
          "Bangladesh",
          "Bangladesh",
          "Armenia",
          "Armenia",
          "Armenia",
          "Armenia",
          "Armenia",
          "Armenia",
          "Armenia",
          "Romania",
          "Armenia",
          "Romania",
          "Peru",
          "Tunisia",
          "Tunisia",
          "Armenia",
          "Armenia",
          "Peru",
          "Peru",
          "Peru",
          "Peru",
          "Peru",
          "Peru",
          "Armenia",
          "Armenia",
          "Armenia",
          "Peru",
          "Peru",
          "Romania",
          "Armenia",
          "Syria",
          "Syria",
          "South Africa",
          "South Africa",
          "South Africa",
          "Azerbaijan",
          "South Africa",
          "South Africa",
          "South Africa",
          "South Africa",
          "South Africa",
          "South Africa",
          "Azerbaijan",
          "Azerbaijan",
          "Azerbaijan",
          "Azerbaijan",
          "Sri Lanka",
          "South Africa",
          "Azerbaijan",
          "South Africa",
          "South Africa",
          "Serbia",
          "Serbia",
          "Serbia",
          "Serbia",
          "Serbia",
          "Serbia",
          "Serbia",
          "Tunisia",
          "Serbia",
          "Serbia",
          "Azerbaijan",
          "Azerbaijan",
          "Sudan",
          "Azerbaijan",
          "Azerbaijan",
          "Azerbaijan",
          "Serbia",
          "Tunisia",
          "Tunisia",
          "North Macedonia",
          "Nepal",
          "Nepal",
          "Bosnia and Herzegovina",
          "Turkmenistan",
          "Bosnia and Herzegovina",
          "Bosnia and Herzegovina",
          "Bosnia and Herzegovina",
          "Bosnia and Herzegovina",
          "Bosnia and Herzegovina",
          "Bosnia and Herzegovina",
          "Bosnia and Herzegovina",
          "Bolivia",
          "Bolivia",
          "Bolivia",
          "Bolivia",
          "Bosnia and Herzegovina",
          "Bosnia and Herzegovina",
          "Botswana",
          "Botswana",
          "Botswana",
          "Botswana",
          "Botswana",
          "Botswana",
          "Botswana",
          "Namibia",
          "Namibia",
          "Bolivia",
          "Namibia",
          "Botswana",
          "Botswana",
          "Botswana",
          "Botswana",
          "Angola",
          "Turkmenistan",
          "Botswana",
          "Namibia",
          "Azerbaijan",
          "Turkey",
          "Bolivia",
          "Tunisia",
          "Tunisia",
          "Tunisia",
          "Tunisia",
          "North Macedonia",
          "North Macedonia",
          "North Macedonia",
          "North Macedonia",
          "North Macedonia",
          "North Macedonia",
          "North Macedonia",
          "North Macedonia",
          "North Macedonia",
          "North Macedonia",
          "North Macedonia",
          "Tunisia",
          "Tunisia",
          "Tunisia",
          "Turkey",
          "Bolivia",
          "Bolivia",
          "Turkey",
          "Bolivia",
          "Turkey",
          "Turkey",
          "Turkey",
          "Bolivia",
          "Turkey",
          "Turkey",
          "Turkey",
          "Turkey",
          "Turkey",
          "Turkey",
          "Turkey",
          "Turkey",
          "Turkey",
          "Morocco",
          "Lebanon",
          "Iran",
          "Iraq",
          "Iraq",
          "Iraq",
          "Iraq",
          "Iraq",
          "Iraq",
          "Iran",
          "Iran",
          "Iran",
          "Iran",
          "Iraq",
          "Iran",
          "Ecuador",
          "Egypt",
          "Egypt",
          "Egypt",
          "Hungary",
          "Georgia",
          "Georgia",
          "Georgia",
          "Georgia",
          "Georgia",
          "Greece",
          "Gabon",
          "Ecuador",
          "Iraq",
          "Greece",
          "Greece",
          "Greece",
          "Greece",
          "Greece",
          "Greece",
          "India",
          "China",
          "Georgia",
          "Georgia",
          "Iraq",
          "Greece",
          "Georgia",
          "Georgia",
          "Georgia",
          "Georgia",
          "Georgia",
          "Georgia",
          "Greece",
          "Iraq",
          "Iraq",
          "Iraq",
          "Georgia",
          "Gabon",
          "Georgia",
          "Gabon",
          "Gabon",
          "Gabon",
          "Gabon",
          "Gabon",
          "Gabon",
          "El Salvador",
          "Cyprus",
          "Croatia",
          "Egypt",
          "El Salvador",
          "Croatia",
          "Croatia",
          "Croatia",
          "Cuba",
          "Croatia",
          "Egypt",
          "Croatia",
          "Gabon",
          "Egypt",
          "Hungary",
          "Egypt",
          "Hungary",
          "Egypt",
          "Croatia",
          "Dominican Republic",
          "Egypt",
          "Egypt",
          "Egypt",
          "Honduras",
          "Egypt",
          "Egypt",
          "Egypt",
          "Croatia"
         ],
         "legendgroup": "1",
         "marker": {
          "color": "#00BFFF",
          "symbol": "circle"
         },
         "mode": "markers",
         "name": "1",
         "showlegend": true,
         "type": "scattergl",
         "x": [
          -1.3768114859572564,
          -0.9028844955223282,
          -0.6808754599817515,
          -0.8891017807396229,
          -0.8026549815469675,
          -1.1931417039959835,
          -1.1040669003464512,
          -1.0298370881663188,
          -0.9151123468681706,
          -0.8512049207413442,
          -2.985609669853121,
          -0.6457994865082856,
          -0.8687554549402916,
          -2.2442694825450107,
          -1.697001496181164,
          -1.308367215465602,
          -1.2698849394090992,
          -1.254295976220248,
          -1.477789266089464,
          -0.1432643878087399,
          -0.0557738830549029,
          -0.0674102939710437,
          -0.2903330660135699,
          -0.0659965046411139,
          -0.3901983778542294,
          -1.0869643321104507,
          -0.4868596948285066,
          -0.6061117783480424,
          -0.2808422871796002,
          -0.657665040581649,
          -0.4036655980504943,
          -0.6705100182946969,
          -1.264166399693015,
          -0.9660522802812984,
          -0.8491725598569255,
          -1.0138126890690369,
          -0.803588257332808,
          -0.7551720582746857,
          -1.3559582898135214,
          -1.0837491572930018,
          -0.3346808827207855,
          -0.4463606003411197,
          -0.4004069128379081,
          -1.9489105621406984,
          -0.8826040430460208,
          -1.3109459544901965,
          -1.4391043305585585,
          -1.5610684372762875,
          -0.8331031357051911,
          -1.20167491219948,
          -1.1782997902364976,
          -0.8908154030351143,
          -1.2560968503093786,
          -1.370742865021206,
          -1.311322999414252,
          -3.013549067962402,
          -1.3925646472833912,
          -0.7685520279347806,
          -0.6932993606003525,
          -1.154139709956959,
          -0.8079356373625429,
          -0.9329624354771032,
          -0.7451365609525782,
          -0.726051035897002,
          -0.6798468028675593,
          -0.7955952933245892,
          -0.8832167808254933,
          -0.1187363680268064,
          -0.301980841950151,
          -3.1247300879298145,
          -0.7021020935116465,
          -0.6643680164395762,
          -0.6930314777279853,
          -0.2714197729052138,
          -1.2773496073334696,
          -0.3114647961487076,
          -1.063861079889834,
          -1.3011131576169233,
          -0.3664078624913848,
          -0.802707547909028,
          -1.0757457038310805,
          -2.011960397623809,
          -1.4386325463231715,
          -1.3718370376905744,
          -0.5118339002900931,
          -1.1271783615491853,
          -1.275259813879269,
          -1.2300119779010166,
          -1.9030350510674583,
          -0.2108508728717371,
          -0.9822328056171704,
          -0.0661050200653888,
          -0.2059647047425847,
          -1.0596596353107683,
          -1.1511601388741934,
          -0.4972619496997941,
          -0.2357797253237379,
          -0.447029493092558,
          -0.9352149175128934,
          -1.0593561975269985,
          -1.2813029660993138,
          -1.3497542003651082,
          -0.5175323007224367,
          -0.6938901506868927,
          -1.7100848209736743,
          -1.0103811046945743,
          -0.6007422367935574,
          -0.2877151002729485,
          -0.889952907992696,
          -1.18103250224818,
          -1.7332896099379522,
          -3.073897459746525,
          -0.4409068660051961,
          -3.3520467975011536,
          -0.2688586428790722,
          -0.2508742919853303,
          -0.6149223673764669,
          -0.3528217320503133,
          -0.4969485739985096,
          -0.8335210955520204,
          -0.1948713630295415,
          -1.7613041366028117,
          -1.0742165436500328,
          -1.280986827462768,
          -1.0110472492843687,
          -0.6195820055269963,
          -1.1358038833066706,
          -1.1524090336940578,
          -2.7669436235224785,
          -0.8049069751811494,
          -1.1765540659521794,
          -1.0798252314610963,
          -1.6330740697609178,
          -0.9262336666539416,
          -0.9651403083064471,
          -0.8030034540505205,
          -1.244250587623955,
          -1.1191755371040844,
          -1.248269552094918,
          -1.5569728269428882,
          -2.091481823062596,
          -2.114279131879953,
          -1.5250411997303326,
          -1.1335044194093118,
          -1.1639945147927546,
          -0.7685954132819202,
          -0.3220861753372248,
          -0.9527408724499656,
          -1.108652942549512,
          -1.3176310591691596,
          -2.971814270477781,
          -2.828508804706957,
          -2.5260085525633977,
          -2.264160779939801,
          -2.248146515436252,
          -2.1590811938680834,
          -2.0191497610661497,
          -0.9062873929590012,
          -0.8129684748734677,
          -0.7275656380433455,
          -0.1939379216038883,
          -0.4580517728538295,
          -0.4910299774920993,
          -2.9389670437946465,
          -2.012712640713853,
          -1.045426747821986,
          -1.0397237970501851,
          -0.8749976573898878,
          -0.4027620352369888,
          -0.0596359322369332,
          -0.0948041781825107,
          -2.519319892872334,
          -2.8949220063855323,
          -2.916438843728451,
          -0.4893528182905605,
          -0.2929905310798602,
          -0.4980778586551252,
          -0.3768744642110869,
          -0.8687498479696963,
          -0.7604356760748981,
          -0.3259752858117206,
          -0.4927660077391263,
          -0.6777150185697941,
          -0.2394808684746279,
          -0.3299160958083327,
          -0.4927755460465913,
          -0.5937314066632412,
          -0.4672055976139952,
          -0.429620304921422,
          -0.3756524178165983,
          -0.3613457413522076,
          -0.5521895561949232,
          -1.2954792661924548,
          -1.703631441728858,
          -0.1718566641597863,
          -0.8581932763497605,
          -0.3034663762347614,
          -1.1706052896128252,
          -0.7315257116906799,
          -1.3730320496958954,
          -2.317455157157527,
          -2.224912520445673,
          -1.9444869148980808,
          -1.5233526623163292,
          -1.290836134098693,
          -1.2093004705426595,
          -1.756866468409202,
          -0.9610182278479434,
          -0.6952596916625282,
          -1.1381355937542843,
          -0.1478077009029313,
          -3.026681996629504,
          -2.100860615916253,
          -1.3449640582733915,
          -0.3917731402648007,
          -0.3041835985598549,
          -2.640637290447263,
          -2.0895251746172927,
          -0.6112250052118725,
          -1.4729524213142264,
          -0.9860224603599874,
          -1.4977233171569926,
          -0.4502091386017444,
          -1.3013885354138883,
          -1.707970321071652,
          -1.817119268931536,
          -1.9161406139146573,
          -2.335442903854097,
          -2.3605673711645,
          -1.693872674965007,
          -0.1164562116237134,
          -0.3226021137892882,
          -0.5362657463601105,
          -0.0747792489944419,
          -0.5635338556028003,
          -0.8545670269217925,
          -0.5813671867243712,
          -0.2173751855074134,
          -1.054880063157221,
          -1.0122739390023716,
          -1.242047677824644,
          -1.054297432276298,
          -0.7577849734410703,
          -1.0182850255871323,
          -0.7482049703022393,
          -0.3362989351095152,
          -1.2684764403666728,
          -0.674045402493583,
          -0.696789896493064,
          -0.2109302498971395,
          -0.7577083422882531,
          -3.326108477120541,
          -0.7375734484824225,
          -0.8099227833191264,
          -1.6588997436340855,
          -1.6749427603022622,
          -1.6861012065469432,
          -0.5202713015853744,
          -2.9705572589513887,
          -1.926334153538308,
          -1.7988189896231022,
          -2.1536642237946797,
          -1.3426187066049835,
          -1.7510712445269698,
          -2.0143895486295347,
          -1.302653109622754,
          -1.3729116162336992,
          -0.7661715148906187,
          -0.6300337491679677,
          -0.7874620049296023,
          -0.7340540254476404,
          -0.3938472080273766,
          -0.6398881824674393,
          -1.707284206407854,
          -2.6230701633506746,
          -1.9633432558848107,
          -1.4371432940597253,
          -0.1102366367258885,
          -0.8960229703374398,
          -1.3825744396410626,
          -0.8605630756707394,
          -1.355982963920464,
          -0.5863977037789987,
          -0.8766150309601581,
          -0.3626289056344304,
          -0.919494270899213,
          -1.1821070392015052,
          -1.2192410245923075,
          -1.5855295027642609,
          -1.0306081891725765,
          -1.6493610087217472,
          -2.027406951598586,
          -1.3235468127000334,
          -0.7620497206127147,
          -1.6880525970150533,
          -0.7860296323737362,
          -1.369345945705939,
          -2.522081798190559,
          -3.2625061957975943,
          -3.235991780043753,
          -2.308509361404658,
          -2.4464881283742845,
          -3.112862576334247,
          -1.3938610540842835,
          -2.028149867407326,
          -1.6793596350205529,
          -1.5372986598614182,
          -2.361949052036117,
          -1.0803155505975264,
          -0.0802276204015011,
          -0.6848374809067242,
          -1.7648653609038247,
          -1.68768122654949,
          -0.296581857928796,
          -1.8609272389275928,
          -2.1588294836447752,
          -2.539823940597956,
          -2.067210812081938,
          -2.7604475326687283,
          -0.2375997450906351,
          -1.385489543367744,
          -0.1388735310930654,
          -2.724858616111659,
          -0.4429480837155871,
          -0.3370258814557872,
          -0.6697295707205487,
          -1.385760040951852,
          -1.783983629638808,
          -1.1630245809787567,
          -1.5230986601446517,
          -0.0887634081039178,
          -0.648785495612314,
          -0.7177653360598879,
          -2.944397466664658,
          -0.5795060575492174,
          -1.0238773863214712,
          -1.7247868661204606,
          -1.779626152164981,
          -1.1827189433958691,
          -1.0178363863791438,
          -1.5016671472237149,
          -1.124336748829977,
          -2.006508241961608,
          -2.120896431278118,
          -2.76654021839414,
          -1.2955247870761617,
          -1.5489387539896196,
          -3.0815191539328364,
          -1.8255031301970013,
          -1.825861391440901,
          -1.9782022478164965,
          -2.2348411287115177,
          -2.5965540157547053,
          -2.037331905934228,
          -0.3065338930910025,
          -0.0697842473412561,
          -0.7926248882024756,
          -2.093533889174183,
          -0.1591238965511943,
          -0.3947124769398243,
          -0.4723676417916534,
          -0.9312317551674564,
          -0.4738565127124534,
          -0.2508264111228322,
          -2.1074169939839584,
          -0.2198903462251036,
          -1.6545727825601697,
          -1.8737864494876613,
          -0.3833787071285738,
          -2.490264812004168,
          -0.4024490046653612,
          -2.9717834009784627,
          -0.3794561912249624,
          -0.0526618434366544,
          -1.643522055869076,
          -2.366078911611365,
          -1.5982281873160449,
          -0.9332160635101652,
          -1.7042301948645775,
          -3.551190455347629,
          -2.9368177874077004,
          -0.5273816395984968
         ],
         "xaxis": "x",
         "y": [
          -2.5891695741545653,
          -2.0184192473050517,
          -2.704908491810823,
          -3.648200511966726,
          -2.839684320935193,
          -3.310791246483477,
          -3.3387967536058585,
          -2.1007978131349567,
          -3.3778429041214224,
          -3.0848229051723424,
          -1.0809537602245367,
          -2.930317564112268,
          -1.9103859367584013,
          -1.1573927514088624,
          -1.0962516371422455,
          -0.5123083729330088,
          -0.9523466582793296,
          -0.7795957075098906,
          -0.7069034654455372,
          -0.3607798611977945,
          0.3857258824740038,
          0.5206350907473063,
          -0.0703206492147553,
          0.5836266989044784,
          -0.0687857962825308,
          -0.4083978219993869,
          -0.4314552699989468,
          -0.4606500050617018,
          -1.9732570219980312,
          -0.5918841559555418,
          -2.141923359959865,
          -1.68498554488403,
          -2.1613687802865003,
          -2.081347354184554,
          -2.5805466160006896,
          -2.265218281127524,
          -2.566340849863914,
          -2.673732233145908,
          -2.656835058482998,
          -2.533620894390152,
          -0.8589890703293386,
          -1.8568579286781144,
          -2.444413607800036,
          -0.8337276613740429,
          -0.9578888820254954,
          -0.3216683090531171,
          -0.2373541543020242,
          -0.477012439882102,
          -2.298447384875921,
          -1.988749441777779,
          -1.7664959061165948,
          -1.889022646998124,
          -2.2854048516664225,
          -2.273852109373699,
          -2.0624759533247112,
          -0.7067561535306339,
          -1.91753671688682,
          -1.845320628464795,
          -0.9861958394225726,
          -2.2683519420965554,
          -1.8796545090868093,
          -1.8884569966688831,
          -1.7196877317395245,
          -1.957818577691971,
          -1.9732897786609145,
          -1.8517880582029689,
          -2.1077181622590384,
          -0.3766637548727291,
          0.3380761215445568,
          -0.8330171785546371,
          -0.1598224345527178,
          -0.3228035160507784,
          -0.0508829094040986,
          0.0928298881441296,
          -1.3347064631177608,
          -2.643506959694875,
          -0.4653911209556921,
          -3.4369441931108784,
          -2.478678172342991,
          -1.6486724832884836,
          -0.3109367324695313,
          -0.7237091557564543,
          -0.3938290468087459,
          -0.3470149170182227,
          -2.311265645529576,
          -0.401053573580643,
          -0.1666598867328581,
          -0.2462830126204807,
          -1.0916689175863317,
          -0.1002946045978804,
          -0.1077820841590036,
          0.023795096195554,
          -0.3544476225682521,
          -0.685835175430908,
          -0.1501088447091888,
          -0.1844172341377811,
          0.2203758750749632,
          0.1232507687702729,
          -0.2697956668021116,
          -0.4137503804418962,
          -0.5195077957252523,
          -0.0695554753734139,
          -0.0860150785570287,
          -0.76394406097588,
          -0.621851398488956,
          -0.5411777992252136,
          -0.4871965853213705,
          -0.2999723888574257,
          -0.6707261569224788,
          -0.9598190720112518,
          -0.5616902609518751,
          -0.9268248651808246,
          0.0847819590471375,
          -0.7087561705637435,
          0.1829793271111231,
          0.231996642490938,
          0.0204704207658436,
          0.0975619601675306,
          0.1679913075905653,
          -4.560449254782805,
          -0.1854165647773316,
          -0.6586410440641594,
          -0.2185430573323531,
          -0.4252704718052123,
          -0.2520780172349643,
          -0.39821762073181,
          -1.0036068754057093,
          -1.1999571353760718,
          -2.1333273899504577,
          -2.8415841695238595,
          -0.2178120751497888,
          -3.7960545580412326,
          -3.361203548205862,
          -1.190942174366493,
          -1.8554309047605504,
          -1.3794879498377473,
          -1.064787600115135,
          -0.1602882121138545,
          -3.376660885149515,
          -0.6098246895355031,
          -0.408629041821426,
          -0.4848675446972661,
          -1.8280408271566893,
          -2.002656146743403,
          -1.918133034019748,
          -1.7223114553736842,
          -1.3187449589461346,
          0.475366473220345,
          0.7765638191525508,
          0.7555776772259563,
          -1.9414028305670887,
          -1.7300871553315675,
          -1.5561803867964044,
          -1.6219412360562773,
          -1.3856698411128698,
          -1.125940591228201,
          -0.7109703554503544,
          -2.37304340246446,
          -0.3619704493234563,
          -1.6556588580754923,
          0.0690081433024495,
          -0.2814617551234751,
          0.1055891383881582,
          -1.603724373141597,
          -1.5455719565673305,
          -0.3263987841516807,
          -0.1093062839383976,
          -0.0631380109371831,
          -0.0122737763286495,
          0.2240429449802317,
          0.1521401573394431,
          -1.6659113859684769,
          -1.5598659183338626,
          -1.6180517228463147,
          -0.0471299044476147,
          -0.0027638317149558,
          -1.390560892847141,
          -0.1664236430150674,
          -0.1544538601101117,
          0.5799738168630648,
          -0.2852423397754344,
          -0.0284554716818795,
          -0.7357776949985493,
          -0.3673659425790388,
          0.0764037522266274,
          0.1454947363183072,
          -0.0737187220954131,
          0.2159612499506826,
          -0.118494476767084,
          0.262205165944345,
          -0.587500878682798,
          -0.5688766559777984,
          -0.9044615815242346,
          -0.9633015575529568,
          -0.2583272559883912,
          -0.4860020320420811,
          -0.4987029475048644,
          -0.3747325995435226,
          -0.1906620041304222,
          -2.7667934960834137,
          -3.1416319684021867,
          -2.752946916328378,
          -2.9802753346232604,
          -2.904339567735847,
          -2.544563564871608,
          -1.944030803797772,
          -0.9825310061568032,
          -2.301543867611445,
          -1.2029575020922845,
          -0.978880832550608,
          -0.4143964744508902,
          -0.688952900302366,
          -1.4902147563427768,
          -0.2138530227903969,
          -0.6313924584447248,
          -2.186289016396323,
          -1.032452695472933,
          -1.264613378959577,
          -0.3139172368876927,
          0.4223742488922718,
          0.5828368081732795,
          -1.4695807195343469,
          -0.5211894484276549,
          -1.2697095778770529,
          -1.8568203336389129,
          -1.9158331634921333,
          -1.92305774301906,
          -2.486759307216236,
          -2.2187627371219243,
          -1.786204824828118,
          0.4834571183468107,
          0.262843581665888,
          0.069379616942198,
          0.5037831125332044,
          -0.7740346431724718,
          -1.1021646627134531,
          -1.3546539853627366,
          -1.0138553801129264,
          -0.7821043804867446,
          -0.9182071035323324,
          -0.9530996542464408,
          -0.7862316786983782,
          -0.480697713258403,
          -0.3122825769397985,
          -0.3515275589408533,
          0.4056831683665242,
          -0.606894549162851,
          -0.7405574197473855,
          -0.9767010247158844,
          -0.9197163341504322,
          -1.0980658261498122,
          -1.2083534515323997,
          -0.4294323727035227,
          -0.952850557652913,
          -0.3512327148760761,
          -0.9000703158197118,
          -2.095437609043043,
          0.2103467778754099,
          -1.8355493138439267,
          -0.6480740122125362,
          -0.6015713573456322,
          -1.1696936935622095,
          -1.1675202762242682,
          -1.295325463567728,
          -1.2388844344434495,
          -1.2970792510530458,
          -1.3727428947613225,
          -1.106867663606311,
          -0.7996363651787849,
          -0.9763217881128956,
          -1.3054014753217198,
          -1.1645882821560718,
          -1.010564588909998,
          -0.8388762003966551,
          -0.9349798458237182,
          -0.93975464405175,
          -1.0708944797305988,
          0.5725676213111922,
          0.2824724491629273,
          -1.444983555892658,
          0.3732634909760171,
          -1.9201542823952005,
          -1.6414714360266234,
          -1.1734683560167305,
          0.3610329380644624,
          -1.0188802084976156,
          -1.111376032608104,
          -1.0887251449625912,
          -1.1487146995337316,
          -1.1041841877472234,
          -1.495792232788228,
          -1.1465627822318654,
          -1.1906171796755836,
          -0.922749171438252,
          -0.3273911988494906,
          -0.2474854905999804,
          0.2247359411979015,
          -0.4740725662731274,
          -1.4020908653752546,
          -1.331299164485672,
          -1.4216463877768937,
          -1.638895889314259,
          -1.164727392595002,
          0.4129144733104578,
          0.3220555673817957,
          -0.0907175123575769,
          -0.3892428296434285,
          -0.0221365050312041,
          0.4682752262957088,
          -0.2404685613621055,
          0.3543141668630357,
          -0.1903336226604735,
          -0.2300793155174032,
          -2.5863105450796886,
          -0.4558986815034038,
          -0.8174590247170224,
          -1.0493052911161718,
          -0.9251192496730404,
          -1.5536066645908135,
          -2.215583980346393,
          -0.6424008039930653,
          -0.5247997006771126,
          -0.532218037334914,
          -2.5183430140545404,
          -2.6050776052278533,
          -2.6541826905660235,
          -2.9748143569088743,
          -2.2133375385690703,
          -2.5862849802234726,
          -0.0513550596562203,
          0.4366575723879347,
          -0.4521920645401124,
          -0.6368849806830338,
          -0.3108276665380037,
          -2.103455316482212,
          -0.3883466047820954,
          -0.879304352377446,
          -0.5706723434538795,
          -0.3182914369571706,
          -0.1638542654709465,
          -0.3517517523643835,
          -2.5119939966091955,
          0.0545612546875641,
          -0.574360077942274,
          -0.3057492398260438,
          -0.7943532593390643,
          -0.8161932863543965,
          -1.546440297272672,
          -1.208421650134394,
          -0.9928976075397294,
          -1.343443529221094,
          -0.8380865688037952,
          -1.4357520707741869,
          -0.6196990928391733,
          0.4108041355613755,
          -0.1097067198253837,
          -2.756052531886146,
          -0.7276978154081084,
          -0.0550966572263608,
          -2.8063309018781943,
          -2.454901760095604,
          -1.4256687703770694,
          -2.3126213811963816,
          -1.834359207653218,
          -0.9255801302650708,
          -1.8514440862800647,
          -0.8951157153652354,
          -0.0087990987648128,
          -2.810246137161735,
          -0.8856509457264576,
          -3.0232812745847992,
          -1.200214235424032,
          -2.9879747597113684,
          0.4768537585370947,
          -0.5871969469978232,
          -0.4428933818829683,
          -0.015495409474435,
          0.0853585456619267,
          -0.5256115690266885,
          -1.0369604417063347,
          -0.6541164859418986,
          -2.8622964083719484
         ],
         "yaxis": "y"
        },
        {
         "hovertemplate": "<b>%{hovertext}</b><br><br>cluster=2<br>PC1=%{x}<br>PC2=%{y}<extra></extra>",
         "hovertext": [
          "Colombia",
          "Colombia",
          "Colombia",
          "El Salvador",
          "Taiwan Province of China",
          "Colombia",
          "Thailand",
          "Thailand",
          "Guatemala",
          "Guatemala",
          "Guatemala",
          "Guatemala",
          "Guatemala",
          "El Salvador",
          "Costa Rica",
          "Guatemala",
          "El Salvador",
          "Tajikistan",
          "Tajikistan",
          "Taiwan Province of China",
          "Guatemala",
          "Taiwan Province of China",
          "Taiwan Province of China",
          "Colombia",
          "Brazil",
          "Colombia",
          "Thailand",
          "Thailand",
          "Thailand",
          "Thailand",
          "China",
          "China",
          "China",
          "China",
          "China",
          "China",
          "Saudi Arabia",
          "Honduras",
          "Mongolia",
          "Mongolia",
          "Thailand",
          "Mongolia",
          "Mongolia",
          "Mongolia",
          "Mongolia",
          "Mongolia",
          "Mongolia",
          "Mongolia",
          "Honduras",
          "Honduras",
          "Thailand",
          "China",
          "China",
          "Honduras",
          "China",
          "Guyana",
          "Colombia",
          "Colombia",
          "Colombia",
          "Colombia",
          "Colombia",
          "Brazil",
          "Brazil",
          "Brazil",
          "Thailand",
          "Brazil",
          "Brazil",
          "Colombia",
          "Brazil",
          "Brazil",
          "El Salvador",
          "Brazil",
          "Brazil",
          "Brazil",
          "Brazil",
          "Costa Rica",
          "Colombia",
          "Colombia",
          "Colombia",
          "China",
          "China",
          "Brazil",
          "El Salvador",
          "Honduras",
          "Suriname",
          "Peru",
          "Peru",
          "Peru",
          "Peru",
          "Peru",
          "Paraguay",
          "Paraguay",
          "Paraguay",
          "Paraguay",
          "Paraguay",
          "Paraguay",
          "Paraguay",
          "Paraguay",
          "Paraguay",
          "Paraguay",
          "Paraguay",
          "Paraguay",
          "Panama",
          "Panama",
          "Panama",
          "Panama",
          "Panama",
          "Panama",
          "Philippines",
          "Philippines",
          "Philippines",
          "Philippines",
          "Saudi Arabia",
          "Saudi Arabia",
          "Saudi Arabia",
          "Saudi Arabia",
          "Saudi Arabia",
          "Saudi Arabia",
          "Saudi Arabia",
          "Saudi Arabia",
          "Saudi Arabia",
          "Saudi Arabia",
          "Saudi Arabia",
          "Panama",
          "Saudi Arabia",
          "Serbia",
          "Bahrain",
          "Bahrain",
          "Bahrain",
          "Azerbaijan",
          "Costa Rica",
          "Costa Rica",
          "Costa Rica",
          "Estonia",
          "South Africa",
          "Philippines",
          "France",
          "El Salvador",
          "Panama",
          "Panama",
          "Bolivia",
          "Argentina",
          "El Salvador",
          "El Salvador",
          "Guatemala",
          "Guatemala",
          "Nicaragua",
          "Nicaragua",
          "Nicaragua",
          "Nicaragua",
          "Nicaragua",
          "Nicaragua",
          "Nicaragua",
          "Nicaragua",
          "Guatemala",
          "Nicaragua",
          "Guatemala",
          "Guatemala",
          "Nicaragua",
          "Guatemala",
          "El Salvador",
          "El Salvador",
          "El Salvador",
          "Sri Lanka",
          "Bolivia",
          "Bolivia",
          "Sri Lanka",
          "Panama",
          "Panama",
          "Panama",
          "Panama",
          "Belize",
          "Belize",
          "Oman",
          "Germany",
          "Germany",
          "North Macedonia",
          "Germany",
          "Panama",
          "Sri Lanka",
          "Sri Lanka",
          "Sri Lanka",
          "Sri Lanka",
          "Sri Lanka",
          "Sri Lanka",
          "Sri Lanka",
          "Sri Lanka",
          "Bhutan",
          "Bhutan",
          "Bhutan",
          "Sri Lanka",
          "Sri Lanka",
          "Argentina",
          "Saudi Arabia",
          "Trinidad and Tobago",
          "Uruguay",
          "Uruguay",
          "Uruguay",
          "Uzbekistan",
          "Uzbekistan",
          "Uzbekistan",
          "Laos",
          "Israel",
          "Israel",
          "Uzbekistan",
          "Uzbekistan",
          "Uruguay",
          "Laos",
          "Argentina",
          "Kyrgyzstan",
          "Kyrgyzstan",
          "Kyrgyzstan",
          "Kyrgyzstan",
          "Kyrgyzstan",
          "Kyrgyzstan",
          "Uzbekistan",
          "Israel",
          "Israel",
          "Uzbekistan",
          "Laos",
          "Uruguay",
          "Uruguay",
          "Uruguay",
          "Dominican Republic",
          "Indonesia",
          "Dominican Republic",
          "Dominican Republic",
          "Costa Rica",
          "Costa Rica",
          "Indonesia",
          "Indonesia",
          "Chile",
          "Indonesia",
          "Indonesia",
          "Indonesia",
          "Costa Rica",
          "Ukraine",
          "United States",
          "United States",
          "United States",
          "Uruguay",
          "Uruguay",
          "Uruguay",
          "Uruguay",
          "Uruguay",
          "Uruguay",
          "Uruguay",
          "Uruguay",
          "Israel",
          "Israel",
          "Israel",
          "Israel",
          "Vietnam",
          "Vietnam",
          "Vietnam",
          "Vietnam",
          "Cyprus",
          "Cyprus",
          "Italy",
          "Cyprus",
          "Cyprus",
          "Cyprus",
          "Cyprus",
          "Cyprus",
          "Jordan",
          "Cyprus",
          "Jordan",
          "Cyprus",
          "Cyprus",
          "Cyprus",
          "Cyprus",
          "Jamaica",
          "Jamaica",
          "Jamaica",
          "Jamaica",
          "Jamaica",
          "Jamaica",
          "Kazakhstan",
          "Dominican Republic",
          "Vietnam",
          "Israel",
          "Israel",
          "Kuwait",
          "Kuwait",
          "Kuwait",
          "Kuwait",
          "Kuwait",
          "Kuwait",
          "Uzbekistan",
          "Kuwait",
          "Kuwait",
          "Kuwait",
          "Venezuela",
          "Venezuela",
          "Venezuela",
          "Venezuela",
          "Venezuela",
          "Venezuela",
          "Venezuela",
          "Venezuela",
          "Venezuela",
          "Venezuela",
          "Vietnam",
          "Vietnam",
          "Vietnam",
          "Israel",
          "Israel",
          "Dominican Republic",
          "Laos",
          "Dominican Republic",
          "Ecuador",
          "Ecuador",
          "Ecuador",
          "Ecuador",
          "Ecuador",
          "Ecuador",
          "Ecuador",
          "Malta",
          "Ecuador",
          "Ecuador",
          "Ecuador",
          "Dominican Republic",
          "Dominican Republic",
          "Ecuador",
          "Dominican Republic",
          "Turkmenistan",
          "Turkmenistan",
          "Turkmenistan",
          "Dominican Republic",
          "Turkmenistan",
          "Turkmenistan",
          "Maldives",
          "Malaysia",
          "Malaysia",
          "Malaysia",
          "Malaysia",
          "Malaysia",
          "Malaysia",
          "Dominican Republic",
          "Malaysia",
          "Ecuador",
          "Costa Rica",
          "Trinidad and Tobago",
          "Trinidad and Tobago",
          "Trinidad and Tobago",
          "Trinidad and Tobago",
          "Mexico",
          "Mexico",
          "Mexico",
          "Mexico",
          "Mexico",
          "Mexico",
          "Mexico",
          "Mexico",
          "Mexico",
          "Ecuador",
          "Mexico",
          "Mexico",
          "Mexico",
          "Mexico",
          "Mexico",
          "Mauritius",
          "Mauritius",
          "Mauritius",
          "Mauritius",
          "Mauritius",
          "Mauritius",
          "Mauritius",
          "Dominican Republic",
          "Brazil",
          "Mexico",
          "Malaysia",
          "Brazil",
          "Malaysia",
          "Chile",
          "Chile",
          "Chile",
          "Chile",
          "Chile",
          "Chile",
          "Chile",
          "Chile",
          "Chile",
          "Chile",
          "Indonesia",
          "Chile",
          "Indonesia",
          "Turkmenistan",
          "Turkmenistan",
          "Argentina",
          "Argentina",
          "Argentina",
          "Argentina",
          "Malaysia",
          "Argentina",
          "Chile",
          "Dominican Republic",
          "Indonesia",
          "Chile",
          "Dominican Republic",
          "Argentina",
          "Turkmenistan",
          "Argentina",
          "Argentina",
          "Argentina",
          "China",
          "Argentina",
          "Malaysia",
          "Malaysia",
          "Argentina",
          "China",
          "China",
          "Argentina"
         ],
         "legendgroup": "2",
         "marker": {
          "color": "#FFD700",
          "symbol": "circle"
         },
         "mode": "markers",
         "name": "2",
         "showlegend": true,
         "type": "scattergl",
         "x": [
          0.8209112029422899,
          0.7994255515272948,
          0.3903389172094655,
          0.2195276024005681,
          2.1355422388543044,
          0.9504600020906911,
          1.3387784265270162,
          1.2436918083096085,
          0.7984842470599749,
          0.6299408689699504,
          0.7589294379416833,
          0.774168492633631,
          0.5723731519341778,
          0.3323545498544042,
          1.9935785532293724,
          1.247810924128285,
          0.4888396306635322,
          0.4962483179919335,
          0.0966841828873814,
          2.7970931899933937,
          0.6915795206448813,
          2.717601813080506,
          2.2076477386523043,
          0.7682701684031615,
          1.088756190339902,
          1.0214902416923142,
          1.7958029460033054,
          1.6977875828852038,
          1.4067973709154673,
          1.5733184643242415,
          0.5138609654105247,
          0.8351982489183365,
          0.5709056356990205,
          0.4235925072969074,
          0.4690768724910486,
          0.0317416498037801,
          0.922806876250595,
          0.8905261451924054,
          0.3468611916948299,
          0.6138308997474109,
          1.728444356796268,
          0.1275783754037024,
          0.369601682507276,
          -0.1100414503672379,
          0.0709958138086732,
          0.0541325613940861,
          -0.1000384661163398,
          0.153824900684302,
          0.729138232502776,
          0.5153026020021341,
          0.852442760600476,
          0.5936617152384274,
          0.5511755784455066,
          0.4021367160005293,
          0.8649208899296558,
          0.0388061987594917,
          1.138175624839581,
          1.073153135737143,
          0.9773735376163202,
          1.016106270943915,
          0.7739012902531973,
          1.1330561701309112,
          0.9755994036788116,
          1.118477754709417,
          1.1426910973578064,
          1.3016645460496894,
          1.450493839337229,
          0.941393942290744,
          1.5528190268379505,
          1.4334204811479967,
          0.2770258979199546,
          0.9149851372466736,
          0.8844454634415877,
          0.5516904785673522,
          0.4875554668022141,
          1.9156689237020028,
          0.7151608259928272,
          0.6406427980242914,
          0.6393722967946159,
          1.0627047273712873,
          1.2828629354533534,
          1.0943358673104815,
          0.1007680439581592,
          0.2404978503815465,
          1.0168512197941582,
          0.2879895523235133,
          0.1736958554730762,
          0.0495244384504676,
          0.236912804296533,
          -0.0755068471583904,
          0.9378154453610342,
          1.322347572651284,
          1.5291749456109691,
          0.9079882675218288,
          1.1408790401630724,
          1.4391598930866836,
          1.0704165914634367,
          0.6366334022143475,
          0.9061767648212792,
          0.5578375534632586,
          0.1837925917066533,
          0.2289476020479195,
          1.5415247426892376,
          1.7788350071759416,
          1.7692648568469618,
          1.572450727116884,
          1.5547949978926383,
          1.6322863436683952,
          0.1799741113448125,
          0.1762461725911376,
          0.1870859385447924,
          0.162494889368122,
          1.00581140064694,
          1.6063387862157237,
          0.9256750684942592,
          0.7675094812370955,
          1.0294224821364928,
          0.911596502181652,
          1.5240275500981952,
          1.4548722943940704,
          1.333917755681035,
          1.537793425842877,
          1.9964907121611235,
          1.8730852974496324,
          1.84886835369352,
          0.5597030778954137,
          0.624276016256804,
          0.1758042561496243,
          0.9463973139137328,
          0.765404691741546,
          2.1903711544949886,
          2.031214147454351,
          2.0415162466283987,
          2.4594325448192493,
          0.0483612942291515,
          0.4541459830581589,
          2.297956714761077,
          0.0266518959942712,
          1.8451112824346367,
          2.067509745728916,
          -0.0005913977331357,
          0.8215918218091717,
          0.4084465531390249,
          0.9996182146368998,
          0.1827188481479294,
          0.3624540180863727,
          1.0038606556035758,
          0.1979888998819156,
          1.1489175245185377,
          0.1628064541986508,
          0.3223579322530504,
          0.6289564035596671,
          0.8874832150386164,
          0.7028617218042644,
          0.5049956137238901,
          0.2619415076991369,
          0.4817622482935489,
          0.6201443786517628,
          0.0619259602300193,
          0.2942503242470916,
          0.8539487520212977,
          0.6109632594873022,
          0.0148113841447498,
          0.0366022390499614,
          -0.0037346615952323,
          0.0745572332110814,
          0.3691272930049561,
          1.795011824751487,
          1.6363678815835685,
          1.4534951160253176,
          1.4976881762887049,
          0.3154579784770797,
          0.0715808869592839,
          1.5713048757988466,
          2.474963448397848,
          2.0326866693137533,
          -0.0962879559473657,
          2.1803893790646343,
          2.0543980126157657,
          -0.072275952503017,
          0.6055216452547868,
          0.3667068664382968,
          0.5995667523941663,
          0.497761180594772,
          0.5877545222457089,
          0.7046205888070501,
          0.95488802962561,
          0.2873942012744504,
          0.4321332825527102,
          0.3340369268636328,
          0.1994599811278637,
          0.3854378780663635,
          1.057897475859197,
          1.1483674936081876,
          1.0414234167918757,
          2.096501907907373,
          2.587559850172444,
          2.2105249866743955,
          0.0726179032757747,
          0.2955549236605796,
          0.5122841691255531,
          0.1355232168214099,
          1.5834749362116871,
          1.0601832494147407,
          0.8227958463577676,
          1.4562357331300253,
          2.0658365625703605,
          0.2442300259535818,
          0.9807959374204795,
          0.7591865167493215,
          0.4540514547322138,
          0.5816399027743299,
          0.4820358133182048,
          0.1870268422662076,
          0.0402571672688766,
          1.615832892616624,
          1.0308835761760395,
          1.1793315266242546,
          1.7027565743786406,
          0.6047697565483895,
          1.8772675306074007,
          2.177891844569818,
          2.3588491663732163,
          0.4619045732121863,
          0.1463237109197148,
          0.3328897431689548,
          0.4314476230281768,
          1.8563698250007148,
          2.0654464873846208,
          0.4263416711723981,
          0.1394399616637726,
          1.0776253079102922,
          0.2887830620892521,
          0.601194385671697,
          0.6386362604696675,
          1.991965997359813,
          0.180777961066337,
          2.0890600489144124,
          2.2797434399430387,
          2.3854196383347936,
          1.3342434937744283,
          1.01821158411778,
          1.0590723936340496,
          1.7315888646968138,
          1.7809985355398334,
          1.917779671342876,
          1.94852405421166,
          2.107861499107787,
          1.3989111902994154,
          1.2386016016452228,
          1.3472595125970943,
          1.3398075971887098,
          0.1871481814102339,
          0.0670921680360558,
          0.436528571779441,
          0.8196638094477936,
          1.1490921290638154,
          0.8594099545921611,
          1.498376445657778,
          1.1424664381444385,
          1.1841113032793664,
          0.5169616710403361,
          0.0219439331041654,
          0.2120335114144254,
          0.1922496212543234,
          0.5900280591473395,
          0.5007388458407388,
          1.436626872040785,
          1.2245143004517949,
          1.221861831114772,
          1.8171022996006236,
          0.9075219580096816,
          0.6983947769279291,
          0.0739161915561387,
          0.0220944442626739,
          0.3374843135220317,
          0.5849224355656016,
          1.976003297944632,
          0.1089936195826467,
          0.179899635985333,
          1.8314306077316036,
          1.5873173925540076,
          1.2429464099782228,
          1.3792848091600969,
          1.0752065664081418,
          1.2543756643049035,
          1.2472596860988183,
          1.3958048728594448,
          1.8897070176610429,
          1.8175170815030708,
          1.6648786911682196,
          1.6094201801081436,
          1.7019666626002925,
          1.753877319053586,
          0.7832386493343357,
          1.3323477484020154,
          1.977978192184428,
          1.3244010049597752,
          1.8027271814067372,
          0.7286511668602162,
          0.3011761648178481,
          0.0819050534911583,
          0.262784036582165,
          0.1302008741627795,
          0.1696191114108345,
          1.5765093314067478,
          1.5027142740063033,
          0.5434132149729223,
          0.4552963626281202,
          0.584900009787534,
          0.8673727500699624,
          0.9440456633651632,
          0.701863463226831,
          0.864305082387841,
          0.6482628921748851,
          0.7647749126991237,
          0.6222602616066276,
          1.246215985867854,
          0.486689470152264,
          0.057757086820428,
          -0.0390238887289747,
          0.3236502791463962,
          1.0824541389412374,
          0.9052513386947936,
          0.5298801388846734,
          0.6655248680916523,
          0.3367400975214949,
          0.1921568019827017,
          0.6925529436248192,
          0.547581539089876,
          0.1642426743608884,
          1.0859932088126287,
          1.4894743426790418,
          0.925554881798706,
          0.5868462958008575,
          0.9939954983072078,
          0.6655550564005257,
          1.26633291762067,
          0.6896152895586135,
          1.046970041612214,
          1.003106439942124,
          2.0963578280383373,
          1.4144321261766155,
          1.6282183729347344,
          1.1414019387117738,
          1.362170815336421,
          0.8106320190737994,
          1.5009853982600578,
          1.477842868349959,
          1.1723418479581174,
          1.4509186519990749,
          0.4997596679751283,
          1.1884947767435368,
          1.2418761239079763,
          1.1906987304241032,
          0.3404067043047851,
          1.3470627736430387,
          1.2955594760073108,
          1.1283612749160004,
          0.9359802908813754,
          1.415886019513172,
          1.3453360524139768,
          1.6575464010940164,
          1.314626927897914,
          1.4884334921983176,
          0.623337052946101,
          0.6383974736640752,
          0.3773184409399682,
          0.3289917916747528,
          0.1942174923634481,
          1.5406087660854253,
          0.7913148803984033,
          0.9343128685729178,
          0.6841889240687703,
          1.3523531858980815,
          1.1862249323136962,
          1.0934523434614118,
          1.7664045730441975,
          1.5866413608432224,
          1.402412011988957,
          1.0574622682011217,
          1.5130110794456424,
          1.2715384450752742,
          0.3963386168935351,
          0.0872240675601125,
          0.5602574090851952,
          0.2893769620233842,
          0.4827889514890721,
          0.6563604131959498,
          1.1429038695080218,
          1.3668185544553628,
          1.4636058400330965,
          1.6399639066009073,
          0.7733761904492098,
          1.2478259141740655,
          1.454467642556007,
          0.361585965370108,
          0.31218507061924,
          1.1827055584709945,
          0.8016955681890893,
          0.9420970504650508,
          0.1351073953830829,
          0.5599032700702434,
          0.6086380789519782,
          1.0450329275468777,
          -0.0566635645484029,
          1.3884083911858425,
          1.2925478843844709,
          1.0475640639204908,
          1.306512465666175,
          0.1816933890564314,
          0.2638218739064162,
          1.6499500062258874
         ],
         "xaxis": "x",
         "y": [
          -0.1658192879080456,
          0.0206091861831553,
          0.2223081391563166,
          0.4217393621975343,
          -0.7524618374523347,
          -0.1303816242187829,
          1.727779538728556,
          1.3882144890979582,
          0.8184236706478605,
          0.9305831898109524,
          1.0578765343129175,
          1.156286311152933,
          1.1591720045450595,
          0.3513894207785307,
          0.4690008570947394,
          1.039481042042104,
          0.4018047892211592,
          1.0322777827444585,
          0.7199611559696588,
          -0.7322598996198422,
          0.9017891892813428,
          -0.7057535747537195,
          -0.6868048472379281,
          -0.0435669739136731,
          -0.2204529394540159,
          0.0906531332483559,
          1.6140742856961734,
          1.6381708445060577,
          1.1076258830409789,
          1.244320913582328,
          -0.376068036540848,
          -0.1510180634864796,
          0.0070841892734269,
          -0.137029653957316,
          -0.1099499525600835,
          -0.1076256606326833,
          -0.1669437008110588,
          1.4455946726710474,
          -0.7306866092391716,
          -0.4244955411870837,
          1.3738216229892075,
          -0.7063598283846021,
          -0.6472833035214226,
          -0.6099827882068573,
          -0.6707357374382158,
          -0.7035766532284661,
          -0.8020469772862536,
          -0.6917493304268433,
          1.5488263359147063,
          1.3232509262918226,
          0.9859639612425124,
          -0.1307409164933755,
          0.0080689859947849,
          0.8976840637301393,
          0.1733707904075693,
          -0.707574497221176,
          0.2622047789997473,
          0.4580348066595774,
          0.232856047941111,
          0.4058511087021114,
          0.2660407173118416,
          0.764216539632706,
          0.604853391426567,
          0.3340996390441179,
          1.855067984565121,
          0.2836692364298869,
          0.4404241888016238,
          0.0754125634126454,
          0.349124085045396,
          0.084841031705085,
          0.026764124230597,
          0.0755151270863607,
          -0.1624549254098332,
          -0.6989938377923806,
          -0.3900967753287415,
          -0.1893257259015614,
          0.3847565511647178,
          0.2374197111653567,
          0.3992050543662662,
          -0.5141572472359693,
          0.2516763858314583,
          0.3320482556705008,
          0.1320685531964591,
          1.4449015614459295,
          -0.7185395003989412,
          0.1018214260206567,
          -0.1378928800824718,
          -0.0753815432201858,
          0.2216941553265505,
          -0.2695667126063816,
          0.6607119769633063,
          0.866375507490488,
          0.6985572036325338,
          0.479812957382338,
          0.7331597068044229,
          1.002040523372674,
          1.1303226927264745,
          0.9681099871983488,
          0.8754708002786445,
          0.4758131694013447,
          0.4574898059914857,
          0.8872009550934786,
          -0.0936734185813363,
          0.118330823545345,
          -0.1261615393755952,
          0.2156579508961087,
          0.3044960040978872,
          0.3703023181065973,
          1.1451330397419652,
          1.1342030170226676,
          0.823437895418278,
          0.8664391838365414,
          -0.2826402412170714,
          -0.1519676180516624,
          -0.633002838041056,
          -0.393985314021389,
          -0.3002632315399345,
          -0.2757218051869888,
          0.021024451486694,
          0.1256066742697474,
          -0.0226712653409524,
          -0.1918172249799704,
          -0.0391382662523937,
          0.4864338886836409,
          0.1651516928789712,
          -0.5263894308722421,
          0.0468127571274844,
          -0.3891926578186321,
          0.0101972401279749,
          -0.0309357618556393,
          0.5627418269756893,
          0.8405044501179705,
          0.4380922327999368,
          -0.5287344211304136,
          0.0900751526834632,
          0.9081368956678616,
          -0.6836090247719508,
          0.00989973889077,
          0.3948056475755762,
          0.2026142186566814,
          0.2133933837665587,
          -0.5137177006970308,
          1.0875747942138885,
          0.8623060395345552,
          0.9073703643534684,
          0.6177148532805159,
          1.2593644611258972,
          0.738623405640245,
          1.298083644670203,
          0.6800928289232031,
          1.0794270116468834,
          1.2444603803183838,
          1.272625297765389,
          1.101005092876411,
          0.9157544564559482,
          0.7817387770263914,
          1.0113028336144718,
          1.0295142452231292,
          1.303270238967158,
          1.0635173527941366,
          0.5980983579056397,
          0.0955730566328143,
          -0.0781072474229215,
          0.2670805980921708,
          0.5235900724096856,
          0.8280146121612295,
          0.5461441618772035,
          0.1976060559572572,
          0.0693650660455333,
          -0.031689718336148,
          0.1514611083253559,
          0.460996371675927,
          0.9195751271032728,
          0.3477792960580696,
          -0.4380422410767313,
          -0.3746513424558436,
          -0.6675039903320463,
          -0.4338771611971667,
          0.5555575808544377,
          -0.2015373629023371,
          0.8120343745434527,
          0.6311968847990314,
          0.6308344485714462,
          0.7272613399562091,
          1.1976937707762805,
          1.529389774624129,
          1.332222861985896,
          1.9572545296917616,
          2.095707182047625,
          2.009883676160084,
          0.3697117109940055,
          0.5584216850492374,
          -0.6662215947043517,
          0.1284392956329775,
          0.3820874527269208,
          -0.5462570016474877,
          -0.333153193914917,
          -0.1272316007952259,
          0.309783595349614,
          0.6181563572087225,
          0.8076781677531598,
          1.984946760465596,
          -0.0163626362298353,
          0.0305229745343943,
          1.0328023237507804,
          1.3419089671830344,
          -0.4847778902601095,
          3.029313344591664,
          -0.6983008797168495,
          1.1321460777866494,
          0.7783383115870707,
          1.661322869368692,
          1.1223315273888006,
          0.7474481695447236,
          1.3621294059985036,
          1.0586932744413862,
          -0.3083288478762138,
          -0.6144253974958513,
          1.0130297231619565,
          3.435690188504051,
          -0.4871907389444786,
          0.0160450368631922,
          0.0670506894399231,
          0.4629827511920921,
          2.2215306363930885,
          0.7529540747025373,
          0.7120560232114589,
          0.3475710677485682,
          0.2819855898867744,
          1.8606085861055324,
          2.470229097313365,
          0.6664972872185773,
          2.728549531082117,
          2.85159279543618,
          3.007011029362693,
          0.2183479737175648,
          -0.592497884622944,
          -0.1919859986019434,
          -0.1188120399923007,
          -0.450940170805835,
          -0.2309463054242425,
          -0.7331185966126238,
          -0.554265619471602,
          -0.3282190909141641,
          -0.296903444110362,
          -0.2243636298965552,
          0.1455347418559989,
          -0.0036372047067893,
          -0.1927541651432497,
          -0.4359380207050506,
          -0.1921075347162519,
          -0.6181468432145742,
          0.7831330429991413,
          0.3214149070734774,
          0.3443569108509767,
          0.3371709254864435,
          -0.1934146214691905,
          -0.2112503328475419,
          -0.1127300463191963,
          -0.2615156651627213,
          0.1533132764582327,
          -0.4003751602253364,
          -0.1643727642465519,
          -0.173058712249486,
          -0.0583250344740183,
          0.0029225637091585,
          0.0744835623118696,
          0.3255182181112184,
          0.0675485683412869,
          0.0114998991300174,
          0.4513062359392321,
          0.1130579701493392,
          0.090629615033389,
          0.4141621913498078,
          0.2063536599636722,
          0.4732278980497309,
          0.2752705916322059,
          -0.5054771012354001,
          0.3966620516054296,
          0.218161797768788,
          -0.1153730231826031,
          -0.0388224643923881,
          0.1389044731195155,
          0.5191274744858572,
          0.1318231837756462,
          0.770961493553149,
          0.3921816759539298,
          0.3199648349016638,
          1.3463108299318456,
          0.4292394074726823,
          0.1030093901114063,
          0.1174188339457876,
          0.4317077423587024,
          0.6906170202280387,
          -0.5928198655307587,
          -0.2614544437746465,
          0.0193129442623427,
          -0.3660034555383667,
          -0.0290636857500074,
          -0.5680956217925929,
          -0.6710204505671958,
          -0.2010836765810699,
          0.664610829436063,
          0.722375259760233,
          1.2542081935568918,
          -0.1811316014540895,
          -0.5042749845886697,
          0.7192646211608934,
          3.354553281898009,
          0.7935352634211159,
          0.410314083037421,
          0.1770715001203419,
          -0.1039897953381617,
          -0.0063654862884253,
          0.2771964322299367,
          0.0573882774704915,
          -0.0713096931002099,
          0.2940003066929383,
          -0.0420339986925466,
          -0.3055088607877782,
          -0.1815065011296176,
          0.1909285087209381,
          0.1572994423817991,
          -0.000884148392907,
          -0.0471844744975366,
          -0.1863954052440829,
          -0.21759636922469,
          -0.5391811838452232,
          0.2064850356928695,
          0.2478254625375898,
          0.0827005986604226,
          0.5951284556871073,
          1.1427097632573957,
          0.9699179947101588,
          0.6951713490436349,
          1.016735422744026,
          1.158449339935872,
          0.7801053448681081,
          -0.0582748930582324,
          0.8653785198005193,
          0.2307611734991032,
          0.532939256809379,
          0.0544703809080231,
          0.4805343743016526,
          0.3716108359858712,
          0.1762691134993327,
          0.2590299635297005,
          0.2267771177181045,
          -0.0437610499142078,
          -0.0487435520161941,
          -0.2410081936225584,
          -0.2688633171339558,
          0.3062566845002523,
          0.0100036381569413,
          0.3071157437853963,
          -0.0321833688570053,
          0.2427661987346504,
          0.0492524891296469,
          -0.2493861271523063,
          -0.1167453128130228,
          0.2482632341692092,
          0.2064647916019601,
          0.2022917850101457,
          0.0926565697650775,
          0.5295201858964598,
          0.7112611359144004,
          0.9292354241970088,
          0.9459241655164532,
          0.503525334804837,
          -0.0955030107068257,
          0.4257900628347499,
          0.587844690469744,
          -0.029254452349937,
          0.6005084789712897,
          -0.14630907187063,
          0.0092524782192133,
          -0.0426721022360698,
          0.6967637495218347,
          0.2698863725283078,
          0.419616903006647,
          0.0804663997341009,
          0.3174713085895529,
          0.304163635988996,
          -0.2306077626463848,
          1.7219165661321414,
          0.4571647064958413,
          2.546442517151538,
          0.80836301915881,
          0.5870352716474458,
          -0.6610643893557094,
          -0.5563034237210818,
          -0.697308991756275,
          -0.3923783623638067,
          0.7496022204976974,
          -0.4981863136472684,
          -0.2595250690981887,
          0.0715119808807383,
          2.108303758960628,
          -0.0279281895128419,
          0.6070605964479951,
          -0.7415791231074187,
          -0.2278111731649943,
          -0.7633491190875585,
          -0.7571382648414314,
          -0.7550523666078179,
          -0.2759979120812412,
          -0.5790852142472919,
          0.7941064929294575,
          1.1535270806418714,
          -0.5447811497629202,
          -0.2395601143582723,
          0.3015865005970035,
          -0.3739868620297188
         ],
         "yaxis": "y"
        },
        {
         "hovertemplate": "<b>%{hovertext}</b><br><br>cluster=3<br>PC1=%{x}<br>PC2=%{y}<extra></extra>",
         "hovertext": [
          "Slovenia",
          "Slovakia",
          "Slovakia",
          "Slovakia",
          "Slovakia",
          "Slovakia",
          "Slovakia",
          "Slovenia",
          "Ukraine",
          "Taiwan Province of China",
          "Taiwan Province of China",
          "Slovenia",
          "Slovenia",
          "Slovakia",
          "Slovenia",
          "Slovenia",
          "Taiwan Province of China",
          "Slovakia",
          "Slovenia",
          "Slovakia",
          "Taiwan Province of China",
          "Slovakia",
          "France",
          "France",
          "France",
          "France",
          "France",
          "France",
          "Croatia",
          "Croatia",
          "Croatia",
          "Croatia",
          "Slovakia",
          "Slovenia",
          "France",
          "France",
          "France",
          "France",
          "Serbia",
          "Serbia",
          "France",
          "Taiwan Province of China",
          "Taiwan Province of China",
          "Slovakia",
          "France",
          "Slovenia",
          "Estonia",
          "Slovenia",
          "South Korea",
          "South Korea",
          "South Korea",
          "Czech Republic",
          "Czech Republic",
          "Czech Republic",
          "Taiwan Province of China",
          "Estonia",
          "Spain",
          "Spain",
          "Estonia",
          "Spain",
          "South Korea",
          "Spain",
          "Spain",
          "Spain",
          "Spain",
          "Spain",
          "Spain",
          "Spain",
          "Spain",
          "Estonia",
          "Estonia",
          "Estonia",
          "Spain",
          "Spain",
          "Spain",
          "South Korea",
          "South Korea",
          "South Korea",
          "Slovenia",
          "Slovenia",
          "Taiwan Province of China",
          "Taiwan Province of China",
          "Czech Republic",
          "Czech Republic",
          "Czech Republic",
          "Estonia",
          "Estonia",
          "Czech Republic",
          "Estonia",
          "Estonia",
          "Estonia",
          "Estonia",
          "South Korea",
          "South Korea",
          "South Korea",
          "South Korea",
          "South Korea",
          "South Korea",
          "Czech Republic",
          "Czech Republic",
          "Czech Republic",
          "Czech Republic",
          "Czech Republic",
          "South Korea",
          "South Korea",
          "Slovenia",
          "Italy",
          "Poland",
          "Belarus",
          "Bulgaria",
          "Bulgaria",
          "Bulgaria",
          "Bulgaria",
          "Bulgaria",
          "Hungary",
          "Hungary",
          "Hungary",
          "Hungary",
          "Hungary",
          "Chile",
          "Lithuania",
          "Lithuania",
          "Lithuania",
          "Lithuania",
          "Lithuania",
          "Lithuania",
          "Lithuania",
          "Lithuania",
          "Lithuania",
          "Lithuania",
          "Lithuania",
          "Lithuania",
          "Hungary",
          "Lithuania",
          "Hungary",
          "Hungary",
          "Belgium",
          "Belgium",
          "Belgium",
          "Belgium",
          "Greece",
          "Greece",
          "Greece",
          "Greece",
          "Greece",
          "Bosnia and Herzegovina",
          "Bosnia and Herzegovina",
          "Bosnia and Herzegovina",
          "Saudi Arabia",
          "Montenegro",
          "Montenegro",
          "Montenegro",
          "Montenegro",
          "Mongolia",
          "Moldova",
          "Moldova",
          "Moldova",
          "Hungary",
          "Hungary",
          "Hungary",
          "Lithuania",
          "Latvia",
          "Latvia",
          "Italy",
          "Italy",
          "Italy",
          "Italy",
          "Italy",
          "Italy",
          "Japan",
          "Japan",
          "Japan",
          "Japan",
          "Japan",
          "Japan",
          "Japan",
          "Japan",
          "Japan",
          "Japan",
          "Japan",
          "Japan",
          "Japan",
          "Japan",
          "Japan",
          "Italy",
          "Italy",
          "Italy",
          "Italy",
          "Italy",
          "Italy",
          "Latvia",
          "Latvia",
          "Latvia",
          "Latvia",
          "Latvia",
          "Latvia",
          "Latvia",
          "Latvia",
          "Israel",
          "Kazakhstan",
          "Kazakhstan",
          "Belgium",
          "Kazakhstan",
          "Kazakhstan",
          "Kazakhstan",
          "Kazakhstan",
          "Kazakhstan",
          "Kazakhstan",
          "Kazakhstan",
          "Kazakhstan",
          "Kazakhstan",
          "Kazakhstan",
          "Kazakhstan",
          "Israel",
          "Kazakhstan",
          "Belgium",
          "Croatia",
          "Russia",
          "Poland",
          "Poland",
          "Poland",
          "Poland",
          "Poland",
          "Russia",
          "Russia",
          "Poland",
          "Portugal",
          "Portugal",
          "Portugal",
          "Russia",
          "Russia",
          "Poland",
          "Poland",
          "Poland",
          "Poland",
          "Italy",
          "Poland",
          "Portugal",
          "Portugal",
          "Portugal",
          "Portugal",
          "Portugal",
          "Portugal",
          "Portugal",
          "Portugal",
          "Portugal",
          "Portugal",
          "Russia",
          "Russia",
          "Russia",
          "Russia",
          "Poland",
          "Poland",
          "Belarus",
          "Belarus",
          "Belarus",
          "Belarus",
          "Belarus",
          "Belarus",
          "Russia",
          "Belarus",
          "Belarus",
          "Russia",
          "Russia",
          "Russia",
          "Belarus",
          "Russia",
          "Belarus",
          "Romania",
          "Romania",
          "Romania",
          "Romania",
          "Romania",
          "France",
          "Russia",
          "Belarus",
          "Belarus",
          "Belarus",
          "France"
         ],
         "legendgroup": "3",
         "marker": {
          "color": "#DC143C",
          "symbol": "circle"
         },
         "mode": "markers",
         "name": "3",
         "showlegend": true,
         "type": "scattergl",
         "x": [
          1.687367721212036,
          0.6279736599779329,
          0.6130295437071367,
          1.157651911170219,
          1.341361880280832,
          1.1815408582310654,
          1.267162640381854,
          1.0936681719876855,
          -0.1040770015587104,
          1.7451092968010231,
          1.8593424215986951,
          1.4288791707714008,
          1.4180815997556158,
          0.405784707092027,
          1.47699228876955,
          1.3149128159607353,
          2.1260648556115047,
          1.487520569128738,
          1.365349561916096,
          0.3389175710147068,
          1.63093578750364,
          0.4211591418349237,
          2.2745037602735136,
          2.554545335851771,
          2.4199982103531967,
          2.1042062211910686,
          2.477309540503767,
          2.3551110125053727,
          1.445893172631458,
          0.45171883731287,
          0.2172039015577763,
          -0.0756938493878704,
          0.5656210787536449,
          1.3269605087621812,
          2.5881625199130145,
          1.976323717099818,
          2.408441499069456,
          2.7769618035129544,
          0.0105420711832076,
          0.4659668769387325,
          2.2766263891803367,
          1.1317543083477943,
          1.7202399178762644,
          -0.1242061072502664,
          2.6328618940508477,
          1.4299409404572347,
          1.6763094831767944,
          1.6905376532644534,
          0.8797404015752545,
          1.2716935072079345,
          1.1987541215987558,
          1.7063845497821324,
          1.8127483983099009,
          2.30931334764908,
          2.5303889040026224,
          0.6227811917770806,
          1.6113389708392194,
          1.6365916294902814,
          0.9333168494591558,
          1.1881340797954458,
          0.5651684663726156,
          1.1767338055544132,
          1.559638306095095,
          1.3837789449078344,
          0.95065089889287,
          1.3024606848537137,
          1.4930894219034183,
          1.3761825474592495,
          1.3150243882093915,
          -0.0276092512177834,
          0.4832691945709189,
          0.756380191599328,
          2.024273907514407,
          2.380593102314569,
          1.3594435857271625,
          0.8759496449932023,
          0.5956473774442802,
          0.4328360165135374,
          2.23620520157427,
          1.724903303594704,
          2.313130610657144,
          2.4106463788073293,
          1.4581902765103705,
          1.2238237541373855,
          1.0704191127350653,
          2.3171599552380866,
          2.238152588486124,
          0.8688729253577325,
          1.762094002280403,
          1.3046497027516395,
          1.036416667523976,
          0.6402511484115564,
          0.2043488827358725,
          0.8573126548225948,
          0.0859058116449554,
          0.8429650965544748,
          1.4427267138898792,
          1.5461064542466694,
          0.736387017751718,
          1.1320027111888382,
          1.1366605124793527,
          1.6208156915839649,
          1.8202127899824647,
          0.7908361538140802,
          1.02242619323134,
          1.5648653516451223,
          0.7519407946550151,
          1.7583298656832114,
          0.3264463102153978,
          0.0099410039008422,
          0.1490258752609455,
          0.1809661367289311,
          0.6080075005114485,
          0.9350137297626132,
          0.0433931626289761,
          0.9021145847702984,
          0.8413969462265715,
          1.456827083402009,
          1.3509585862493194,
          0.598551126034374,
          1.72249080550166,
          0.9264371144972317,
          0.7766416779065752,
          1.291267115716498,
          0.3928050152493497,
          0.3362832677013851,
          0.1022841469130417,
          -0.0011836363608049,
          -0.1569063844500522,
          -0.0913937770948514,
          -0.4674486353230863,
          -0.1329610506442681,
          -0.0046566225843818,
          0.0236666951701601,
          0.0391569546206864,
          -0.2986163976941982,
          2.6442283055879736,
          2.4719084391548902,
          2.0889335327774825,
          1.903563201450617,
          0.5670654175246271,
          0.6895420218567626,
          0.1034815536141492,
          0.5100481075490317,
          0.0132174429661495,
          0.0398547031163474,
          0.3429977949361354,
          0.2219956362475529,
          0.8487505761702797,
          0.3541235969752062,
          -0.1608722541003811,
          -0.0206927435352744,
          -0.1732595831996806,
          0.2721691719821208,
          0.608173642344638,
          0.0114155073680448,
          0.0469869685669967,
          0.2917636736942689,
          0.0788332980636021,
          -0.1738724190230037,
          0.0859141646965289,
          1.5808037832950548,
          0.7893055820081415,
          0.674113173356269,
          0.3095258825539215,
          0.5228633575751681,
          0.638540226232184,
          0.5104628790618284,
          0.6832737452224084,
          2.044187144689656,
          1.897342606706316,
          1.624795658322093,
          2.0328001107389304,
          2.13868463547342,
          2.246090346035731,
          2.1639820203360545,
          2.3503453101371594,
          2.0511261434358623,
          2.3118871947151955,
          2.09964647208808,
          1.7933812972439005,
          1.7940641857717143,
          2.0074606990369803,
          2.58813061037266,
          0.8568007288368499,
          0.7462349879665643,
          0.9198016890261946,
          0.7402987777476621,
          1.2895974919605735,
          1.5586055441440854,
          0.4823354175245467,
          0.728805202812945,
          0.7051253722401588,
          0.5014165125190202,
          0.6021565739636046,
          -0.0103876167070599,
          -0.1111203727050067,
          -0.2413253625068242,
          0.8553301250578692,
          1.8261654544627044,
          1.2676969801486002,
          2.965159083992386,
          1.219392379137926,
          1.2286175919963287,
          0.8090759172637721,
          0.7073738950716116,
          0.8923754571767498,
          0.9992091447609156,
          0.6625336343388744,
          0.6580363480813863,
          0.2826421395539948,
          0.4013128054556694,
          0.1375253327638662,
          1.9341576836758645,
          1.1545081871209162,
          2.656205865615352,
          0.0310887567239127,
          -0.0251015824404441,
          1.0705830672217262,
          1.2875505496276427,
          1.1553213603421797,
          1.3543547610768725,
          1.0914233855064313,
          1.0870598755755934,
          -0.2181115755686317,
          1.4715377919029495,
          0.7807912491223612,
          1.1701835639891025,
          1.010530250019229,
          0.0990563301858763,
          -0.0092440484485289,
          1.224972551830244,
          1.6433731271722127,
          1.535711704978263,
          1.593897165839688,
          1.0867430364914306,
          1.482714552479556,
          1.0605031451470626,
          0.7144737966805704,
          0.2058188013279538,
          0.5080597482466592,
          0.3724485267440912,
          0.3035243259270327,
          0.7289031557731034,
          0.5248646912918523,
          0.83302298563844,
          0.3524210382979655,
          0.0768171672409432,
          0.9352752993897948,
          0.3205532471055362,
          -0.3103350839653267,
          0.5806186203944714,
          0.9808131827021884,
          0.3320854423217144,
          0.0798697028921947,
          0.4529776685308414,
          0.5920404489126236,
          0.5798233364055475,
          0.3275777100166512,
          -0.1935206950426349,
          0.3719787095201887,
          0.2068637168552328,
          0.6290381378055568,
          0.7376731346188614,
          0.7034592253339877,
          0.8376729891563199,
          0.7975042915096994,
          0.0781748342156215,
          0.7183089898573842,
          0.6391931342271066,
          0.7487961550214248,
          0.4403734878528711,
          0.1064291645193615,
          2.5305234099468765,
          0.7376801302072779,
          -0.2174771377736906,
          0.1097532899204586,
          0.8121815211320191,
          2.5186078288953397
         ],
         "xaxis": "x",
         "y": [
          -1.4326555287852627,
          -1.912954132692672,
          -2.038120187063422,
          -1.3464751393465129,
          -1.2303235946222963,
          -1.6155795251157044,
          -1.524521786091545,
          -1.4390412840716325,
          -1.8440894882490968,
          -0.981921471108625,
          -1.050833484054179,
          -1.66371411049079,
          -1.6755925125454123,
          -1.6944209494741604,
          -1.317042975460961,
          -1.591846526087157,
          -1.0592958169983278,
          -1.405017225203957,
          -1.6390069150186162,
          -1.7319171947227503,
          -1.3578617156719046,
          -1.9238716801449136,
          -1.0113476963739,
          -1.0896925476469117,
          -1.3599295119108012,
          -1.0321120651563132,
          -1.0933912329740236,
          -1.123481272154499,
          -1.392447392953876,
          -2.4849963972532407,
          -2.470285957186457,
          -1.6915664537798905,
          -1.4103080368257404,
          -1.4891053396486504,
          -1.1321216219800694,
          -1.2650519257881137,
          -1.1406427291451684,
          -0.860994892445101,
          -1.6388188040420315,
          -1.5965813965582438,
          -1.144586611709631,
          -1.209729518251741,
          -1.0347008985364778,
          -2.019464685291119,
          -1.014154243332501,
          -1.660541822602318,
          -1.118981577255249,
          -1.719094959214039,
          -2.4041054701855424,
          -1.8544648836532265,
          -2.0297685007425046,
          -1.6046342107289626,
          -2.1701406039535334,
          -1.2321525049740627,
          -0.8556516727876573,
          -2.327373274673834,
          -1.3668448923974472,
          -1.2108467628698945,
          -1.7883859161158178,
          -1.4566352413752983,
          -2.260520091776774,
          -1.3341526486539994,
          -1.2730085111938652,
          -1.250414631766075,
          -1.5503510920347194,
          -1.1185886846531623,
          -1.2037545921085728,
          -1.310889202660125,
          -1.2372348491545495,
          -2.7937573782236016,
          -2.337446657566633,
          -2.260062364627847,
          -1.0402208194812277,
          -0.9497264450830196,
          -1.3429433114354987,
          -2.027906408734133,
          -2.1785449938621504,
          -2.176804334510689,
          -1.6101654644657457,
          -1.5526205602724346,
          -1.1792502532913989,
          -1.0138585433903289,
          -1.1177039350791245,
          -1.3343897332930434,
          -1.7029402537296905,
          -0.7856026415498826,
          -0.9299383980284164,
          -2.0993206547153784,
          -1.1344944309224387,
          -1.64007918361679,
          -1.7987108014478728,
          -2.2715193641294484,
          -1.5817450222228333,
          -1.8856204332438415,
          -2.4192832418439885,
          -2.5076078221983717,
          -2.195931223464482,
          -2.4483871054214448,
          -2.38373354580858,
          -1.9353260544581512,
          -1.8313792209395487,
          -1.492575796658791,
          -1.587398837806644,
          -2.2906849767315487,
          -2.2321350662458297,
          -1.6794625252049398,
          -1.5196730706844872,
          -1.1753872765554836,
          -3.3687022215866858,
          -1.8127575670636424,
          -1.86638935150112,
          -1.7926616594083404,
          -1.318555203932178,
          -0.9805666185757056,
          -2.6613753017182327,
          -1.9092047674716104,
          -2.532924140819095,
          -1.849571415588782,
          -1.6421934894789925,
          -0.8177631174466072,
          -2.1261878842657542,
          -2.9758044150008214,
          -3.432433196564021,
          -2.8280587507969845,
          -3.8926157948188,
          -3.833434734541104,
          -4.160629017763098,
          -4.3075553027357865,
          -4.255747088574164,
          -3.882811038112396,
          -4.763632334069526,
          -4.203671246589389,
          -2.5181954220106686,
          -4.029924036897824,
          -2.1126697459084824,
          -2.9451284481450988,
          -1.144277960402914,
          -1.4423102618381138,
          -1.6881685680461993,
          -1.8541275227044505,
          -1.443865699932585,
          -1.4372167372163474,
          -1.850874453337603,
          -2.111731473575708,
          -1.9997907664172656,
          -0.7972751155540102,
          -0.9768002637489468,
          -0.7529328655633611,
          -0.7923708407662587,
          -1.402357604859258,
          -2.1881333003118004,
          -2.139807486695916,
          -2.4591027553734803,
          -0.9205779052273813,
          -0.8962331417673929,
          -1.3043553501691054,
          -1.489203101240283,
          -2.5261853068284847,
          -2.776199110994708,
          -2.5650437924975185,
          -4.011194120051858,
          -1.371296793410797,
          -2.5538055763255687,
          -1.7558284795052783,
          -1.2148977695633962,
          -1.8506418027471512,
          -1.5566145640734292,
          -1.7283049732334692,
          -1.6940979545556607,
          -1.4735008854133738,
          -1.3556872813638683,
          -1.763592265344832,
          -1.26141644066703,
          -0.8785669229485524,
          -1.2138481056905384,
          -1.1919251322981688,
          -1.250228495543365,
          -1.3993465061366073,
          -1.24448694057859,
          -1.5269401918788923,
          -1.93060802346942,
          -1.7117703665245254,
          -1.789464178350551,
          -1.089359373634393,
          -1.5775244436723035,
          -1.5770650139552271,
          -1.581966569836894,
          -1.632710309818331,
          -0.8582136483191226,
          -0.8179386965718771,
          -2.6259493665622977,
          -2.2649073425221715,
          -2.3246160975736108,
          -2.125177003914003,
          -1.7635523094733336,
          -1.909148975157176,
          -2.8059265863217324,
          -2.0536708528809866,
          -0.7575958452090668,
          -0.8544570464037398,
          -1.1731004036136023,
          -0.8855835194051265,
          -0.9246720987070636,
          -1.0969218509073255,
          -0.8295665939459193,
          -2.02898696583739,
          -1.647233487352216,
          -1.84473718217726,
          -2.063976016211366,
          -2.0506874800820074,
          -2.5380339982273896,
          -2.672604935657457,
          -2.8574114029695656,
          -0.7444822434835071,
          -0.9616032493807488,
          -0.8825742107114842,
          -2.375706118362485,
          -4.070545113816277,
          -1.118271465655201,
          -1.314892100857266,
          -1.2984653551190122,
          -1.1881827127650342,
          -1.6153659142191616,
          -3.1325619563267404,
          -4.095439591086672,
          -1.1237620309874543,
          -1.7585986522385693,
          -1.690175018344405,
          -1.8486494940688556,
          -3.829159166543153,
          -3.795218282692133,
          -1.3006430703190666,
          -0.975382973277713,
          -1.0925092380201236,
          -1.296612778220794,
          -1.7190012254574012,
          -1.1220186710867863,
          -1.6122135295676174,
          -1.836375554408596,
          -1.864549603313008,
          -1.52526217641189,
          -1.5575644715797448,
          -1.5023697430587997,
          -1.431520742120501,
          -1.5706702224247644,
          -1.388685435238325,
          -2.24294384507163,
          -4.089349847689552,
          -2.9389816334393064,
          -3.404069038876801,
          -4.246240826597455,
          -1.438377763577221,
          -1.2096280166649924,
          -3.0521546974958333,
          -3.2531176747027373,
          -3.011423162118359,
          -2.0440536706416554,
          -2.276238293764894,
          -3.1458506822462606,
          -4.085268966444173,
          -2.366580141989977,
          -2.420429268401276,
          -2.007933379218965,
          -2.186208515602542,
          -2.439793256608826,
          -2.418321021267652,
          -2.336582530806289,
          -3.3173704619468727,
          -1.4965917632530394,
          -1.3117863581573057,
          -1.089606217664545,
          -1.122470632008158,
          -1.2523283053804155,
          -1.1955599316162968,
          -2.986286990440361,
          -2.898396509452583,
          -3.082559278902189,
          -2.155349425679753,
          -1.3991358705185335
         ],
         "yaxis": "y"
        },
        {
         "hovertemplate": "<b>%{hovertext}</b><br><br>cluster=4<br>PC1=%{x}<br>PC2=%{y}<extra></extra>",
         "hovertext": [
          "United Kingdom",
          "United Kingdom",
          "United Kingdom",
          "United Kingdom",
          "United Kingdom",
          "United Kingdom",
          "United Kingdom",
          "United Kingdom",
          "United Kingdom",
          "United States",
          "United States",
          "United States",
          "United States",
          "United States",
          "United States",
          "United States",
          "United Kingdom",
          "United Kingdom",
          "United Kingdom",
          "Belgium",
          "United Kingdom",
          "Luxembourg",
          "Qatar",
          "Singapore",
          "Singapore",
          "Costa Rica",
          "Ireland",
          "Denmark",
          "Denmark",
          "Denmark",
          "Ireland",
          "United States",
          "Ireland",
          "United Kingdom",
          "United Arab Emirates",
          "United Arab Emirates",
          "United Arab Emirates",
          "United Arab Emirates",
          "United Arab Emirates",
          "United Arab Emirates",
          "United Arab Emirates",
          "United Arab Emirates",
          "United Arab Emirates",
          "United Arab Emirates",
          "United Arab Emirates",
          "United Arab Emirates",
          "United Kingdom",
          "United Arab Emirates",
          "United States",
          "Singapore",
          "Ireland",
          "Denmark",
          "Denmark",
          "Denmark",
          "Denmark",
          "Bahrain",
          "Denmark",
          "Denmark",
          "Bahrain",
          "Canada",
          "Canada",
          "Denmark",
          "Denmark",
          "Denmark",
          "Denmark",
          "Denmark",
          "Canada",
          "Canada",
          "Denmark",
          "Bahrain",
          "Bahrain",
          "Finland",
          "Finland",
          "Finland",
          "Finland",
          "Finland",
          "Finland",
          "Finland",
          "Finland",
          "Finland",
          "Finland",
          "Finland",
          "Israel",
          "Finland",
          "Bahrain",
          "Bahrain",
          "Bahrain",
          "Bahrain",
          "Canada",
          "United States",
          "Canada",
          "Canada",
          "Ireland",
          "Singapore",
          "Luxembourg",
          "Singapore",
          "Singapore",
          "Singapore",
          "Singapore",
          "Ireland",
          "Singapore",
          "Ireland",
          "Ireland",
          "Ireland",
          "Ireland",
          "United States",
          "Ireland",
          "United States",
          "Singapore",
          "Ireland",
          "Singapore",
          "Singapore",
          "Canada",
          "Canada",
          "Canada",
          "Canada",
          "Kuwait",
          "Uzbekistan",
          "Uzbekistan",
          "Uzbekistan",
          "Uzbekistan",
          "Uzbekistan",
          "Kuwait",
          "Singapore",
          "Canada",
          "Canada",
          "Canada",
          "Ireland",
          "Ireland",
          "Canada",
          "Luxembourg",
          "Iceland",
          "Luxembourg",
          "Switzerland",
          "Switzerland",
          "Switzerland",
          "Switzerland",
          "Switzerland",
          "Switzerland",
          "Sweden",
          "Switzerland",
          "Sweden",
          "Sweden",
          "Sweden",
          "Sweden",
          "Sweden",
          "Sweden",
          "Sweden",
          "Sweden",
          "Sweden",
          "Switzerland",
          "Switzerland",
          "Switzerland",
          "Netherlands",
          "Netherlands",
          "Netherlands",
          "New Zealand",
          "New Zealand",
          "New Zealand",
          "New Zealand",
          "New Zealand",
          "New Zealand",
          "New Zealand",
          "Austria",
          "Austria",
          "Austria",
          "Austria",
          "New Zealand",
          "New Zealand",
          "Austria",
          "Sweden",
          "Netherlands",
          "Sweden",
          "Sweden",
          "Norway",
          "Norway",
          "Norway",
          "Norway",
          "Norway",
          "Norway",
          "Norway",
          "Norway",
          "Norway",
          "Spain",
          "Belgium",
          "Belgium",
          "Belgium",
          "Belgium",
          "Belgium",
          "Belgium",
          "Norway",
          "Germany",
          "Germany",
          "Germany",
          "Sweden",
          "Austria",
          "Austria",
          "New Zealand",
          "New Zealand",
          "New Zealand",
          "New Zealand",
          "New Zealand",
          "Germany",
          "Germany",
          "Germany",
          "Germany",
          "Germany",
          "Germany",
          "Germany",
          "Germany",
          "Germany",
          "Sweden",
          "Netherlands",
          "Netherlands",
          "Austria",
          "Malta",
          "Malta",
          "Malta",
          "Malta",
          "Malta",
          "Malta",
          "Malta",
          "Malta",
          "Malta",
          "Costa Rica",
          "Hong Kong S.A.R. of China",
          "Hong Kong S.A.R. of China",
          "Hong Kong S.A.R. of China",
          "Hong Kong S.A.R. of China",
          "Hong Kong S.A.R. of China",
          "Hong Kong S.A.R. of China",
          "Finland",
          "Malta",
          "Malta",
          "Qatar",
          "Luxembourg",
          "Luxembourg",
          "Luxembourg",
          "Luxembourg",
          "Luxembourg",
          "Luxembourg",
          "Qatar",
          "Iceland",
          "Iceland",
          "Iceland",
          "Iceland",
          "Iceland",
          "Belgium",
          "Iceland",
          "Iceland",
          "Qatar",
          "Qatar",
          "Hong Kong S.A.R. of China",
          "Hong Kong S.A.R. of China",
          "Hong Kong S.A.R. of China",
          "Hong Kong S.A.R. of China",
          "Australia",
          "Australia",
          "Australia",
          "Australia",
          "Netherlands",
          "Netherlands",
          "Australia",
          "Australia",
          "Australia",
          "Australia",
          "Australia",
          "Australia",
          "Austria",
          "Austria",
          "Austria",
          "Austria",
          "Austria",
          "Australia",
          "Luxembourg",
          "Australia",
          "Australia",
          "Costa Rica",
          "Costa Rica",
          "Hong Kong S.A.R. of China",
          "Estonia",
          "Thailand",
          "Thailand",
          "Thailand",
          "Thailand",
          "Thailand",
          "Myanmar",
          "Netherlands",
          "Netherlands",
          "Netherlands",
          "Netherlands",
          "Netherlands",
          "Costa Rica",
          "Netherlands",
          "Australia",
          "Thailand"
         ],
         "legendgroup": "4",
         "marker": {
          "color": "#7851A9",
          "symbol": "circle"
         },
         "mode": "markers",
         "name": "4",
         "showlegend": true,
         "type": "scattergl",
         "x": [
          3.507820343161779,
          2.970527520074364,
          2.999692701936993,
          2.931380988239911,
          3.5479013660543712,
          2.9814051953665714,
          3.131132812082179,
          3.213738372109602,
          3.116820213992121,
          3.0218831736335394,
          2.485988723983443,
          2.615681984107713,
          3.017018788826681,
          3.1153177559553797,
          2.6258591152124318,
          2.808872477037478,
          3.364844217272509,
          2.9980969625316094,
          3.082751650752693,
          2.942859701354155,
          2.9780586879729865,
          3.544891966854049,
          2.480629405154781,
          4.846999457076257,
          4.82574668901917,
          2.3423218665530645,
          3.78914111738818,
          3.980309247000801,
          4.393141653438649,
          4.155848487273984,
          4.097493992384201,
          2.5083060141624176,
          3.2842963240563083,
          2.9223146875781327,
          2.6849211886462188,
          2.686073528178871,
          2.605978797691588,
          2.712589749792423,
          2.3589082394951557,
          2.183195104270863,
          2.1719626883312086,
          2.6667784247771547,
          2.987844841219438,
          2.359697523751641,
          2.4740752322689525,
          2.16236910871807,
          3.50546078333335,
          2.3405224270041107,
          2.60540052587101,
          3.865785817251692,
          3.5753960009472743,
          4.219496189820367,
          4.214316997745617,
          3.8487821805022056,
          4.3089364767833125,
          1.5515651706514595,
          4.16277476484124,
          3.891823136908503,
          2.0578985305241786,
          2.9497133314620374,
          3.4393235521809955,
          4.296239823062278,
          3.953289832942928,
          4.139223530897088,
          4.131506319049417,
          4.206071409769523,
          3.8339278832786903,
          3.193667760912251,
          4.573862955869726,
          1.9430970993875063,
          1.7429417818644162,
          3.983130208775105,
          3.906223430888195,
          4.008102611556373,
          4.160123968155134,
          3.934660449957251,
          3.7547188842746206,
          3.686176479597015,
          3.6001686637598147,
          3.4917718291269555,
          3.603248610279121,
          3.5860709812136604,
          2.055360640967031,
          4.031781229352601,
          2.0286866555135026,
          2.570254872708959,
          2.4584848560047896,
          2.2292596862761864,
          3.479837116892853,
          2.440609583032643,
          3.5437866079862474,
          3.6850819489176367,
          3.58738114594896,
          3.0230977782523363,
          3.675596957133316,
          3.4687257884933307,
          4.029381255544934,
          4.620733270531324,
          4.756863737866151,
          3.818536560337682,
          5.001185400759708,
          3.486052955658695,
          3.5674266930537013,
          3.194746871668992,
          3.362880329946456,
          2.522300533576934,
          3.779246464129736,
          2.667768677816226,
          4.710393359360361,
          3.543171491500954,
          3.3908079656284915,
          4.6216790350299375,
          3.6405248406397233,
          3.6576443956760993,
          3.845245864475343,
          3.629394897636447,
          2.155130778417756,
          2.0124731126994484,
          2.0020836571075358,
          2.146118867818435,
          2.1182083674294105,
          2.434243569243616,
          2.8692451155380727,
          3.649586170892863,
          3.891662088135961,
          3.656823701623324,
          3.5485812298001163,
          3.4820633029705705,
          3.6582278255850977,
          3.468168239859331,
          3.924445870950493,
          3.7773780607472753,
          2.9952625707019847,
          3.861348414972849,
          4.248976463843466,
          4.16088905390262,
          4.334450586798947,
          3.8443501194075975,
          3.9551868190046746,
          3.807846646471559,
          4.002383271278484,
          3.969829183186323,
          3.9493610509252695,
          3.832376908772264,
          4.002213392424774,
          3.964646738084049,
          3.8744751049101183,
          4.149740002091098,
          3.9056376874584906,
          4.015344694756417,
          3.9974521275351576,
          4.145264703858312,
          3.875482119987662,
          3.934196473680169,
          3.786831977759909,
          3.815314336758525,
          3.936005303665568,
          3.752348922791229,
          3.608488658209282,
          3.6862405167882057,
          3.843311319900785,
          3.7329164512840314,
          3.918054047219736,
          3.07224452625083,
          3.310385492674972,
          3.112717527196874,
          3.2331831305383014,
          3.903488425900942,
          4.297760114837502,
          3.177110262638823,
          4.022217399005895,
          4.025040677543307,
          3.712622019064789,
          3.658219073432025,
          3.63782792821834,
          3.9417110649711233,
          3.930438077622186,
          4.2139195403432765,
          4.041950404266424,
          4.321674732039662,
          4.127191490341356,
          3.881341620669161,
          4.08094187752408,
          2.6436675977952357,
          2.9585222991299465,
          2.858790285679357,
          2.9751775059130865,
          2.969062512084737,
          3.021042568468763,
          3.049186057228214,
          4.01728989184696,
          2.593113398513975,
          2.7077260393600358,
          2.871803859606567,
          4.1115853218329015,
          3.479620571571008,
          3.295278905206983,
          3.756069186570654,
          4.0508399206504775,
          4.0592233482790085,
          3.722383997269607,
          3.755459032420645,
          3.099260192785497,
          2.930459330060897,
          3.015952365304967,
          3.0041818111497145,
          3.006761153127551,
          3.2621965390091305,
          3.2347649929534352,
          2.8452567920110274,
          2.8728345024701225,
          3.875274354947281,
          3.753264250457366,
          3.570994550661554,
          3.4287636629921896,
          1.9670009545310545,
          2.162890672105461,
          2.24735964726459,
          2.249780476260393,
          2.502940397802824,
          2.703204358294688,
          2.216007677595077,
          1.6444638821448307,
          1.6980496924124526,
          2.34129350400291,
          2.3340086499313144,
          2.166456051698547,
          2.7246307681108117,
          2.751397468235228,
          2.752921160406866,
          3.073584749003897,
          4.011977645453087,
          1.8749725126251664,
          1.7302975304636272,
          2.617383795896018,
          3.661321376612992,
          3.5328458064710424,
          3.528476034562968,
          3.5884779839844505,
          3.4033248468122186,
          3.670843707110946,
          2.4210990307354168,
          3.847309353683495,
          3.684684734738753,
          3.851795823239052,
          3.909674907182786,
          3.868104272000167,
          2.89920716754194,
          3.7543966585882704,
          3.512978252398985,
          2.359190269994536,
          2.7589448468215583,
          3.357079917467578,
          3.459324720086816,
          3.353926650910875,
          3.084041298343185,
          3.867497421314362,
          3.602551580778077,
          3.633331309498784,
          3.3251014303100725,
          3.669515445400816,
          3.698654613852347,
          3.6947407384899296,
          3.4531295308619696,
          3.525528013478876,
          3.402614458149701,
          3.394674017300083,
          3.277070197562608,
          3.661384542778675,
          3.4055866470039566,
          3.408546932097261,
          3.419089520233065,
          3.311701821276373,
          3.786065686192909,
          3.515613199235634,
          3.5128933526297623,
          3.668965788607371,
          2.348658522419071,
          2.321838323000033,
          2.8892456654311425,
          3.052968480537076,
          1.7414710036191,
          1.7789531065144355,
          2.203742361166188,
          2.2801874958676387,
          1.8472577686258165,
          0.5822825398092949,
          3.503088860474985,
          3.636126716672908,
          3.747404046906429,
          3.9832365009513886,
          4.108349724593431,
          2.30785105759889,
          3.7161139348982313,
          3.423147729395324,
          1.569609710642475
         ],
         "xaxis": "x",
         "y": [
          1.6103709588764858,
          1.0123504101380174,
          1.068168203767306,
          1.2277484344385288,
          1.4814613568267485,
          0.5017253069222037,
          0.8648126712515236,
          0.8107512786201644,
          0.8212876808687659,
          0.7397365876645358,
          0.4030705247783087,
          0.3159929436113229,
          0.5595519340696308,
          0.8160588648848524,
          0.5048111463896852,
          0.6170336783392245,
          1.4094584010835585,
          0.7133490398915581,
          1.1118416954085693,
          -0.4776251965980381,
          1.0551763010125257,
          0.3642943439441038,
          1.0607810285772092,
          1.7551183259012515,
          1.708009410023228,
          0.3889164986737865,
          0.8678492397394786,
          0.5367467316663812,
          0.7429715664477613,
          0.5450494902193824,
          0.937892664716062,
          0.3563494606599116,
          0.6898280981212542,
          0.886726353026891,
          0.550666442638637,
          0.6963597423914933,
          0.7484763926500603,
          1.0517337489568075,
          1.0278989907444809,
          0.9618679878916824,
          1.3490632518736851,
          1.3503598397304182,
          1.7936251342432488,
          1.0266080068844226,
          1.1441819602727403,
          0.9713652420578244,
          1.456178333896103,
          0.5707550001491498,
          0.4882160657448291,
          1.208320256631209,
          0.7674908937634811,
          1.2045729549438513,
          1.0837941559395403,
          1.0834093997174268,
          1.1801622454904177,
          0.7248770996463484,
          1.18158785436486,
          0.7291764453191156,
          0.8067445930611903,
          0.2131999430439403,
          0.7589447625942779,
          1.2584022340268732,
          0.8016759623931408,
          1.2499954513965497,
          0.9834802587241804,
          1.0295819882326975,
          1.0119069371146066,
          0.5930531036573828,
          1.173253689131977,
          0.8942483624945908,
          0.8496165600282171,
          -0.2882612105021824,
          -0.0892039659582981,
          -0.3689505160603649,
          0.1437695354998002,
          0.0429991574400544,
          0.4414830285229065,
          0.0435120586669826,
          -0.0486773865609047,
          -0.1421534303754137,
          0.1499831720825018,
          0.0879911474235618,
          -0.2754813754660696,
          -0.1009930671606061,
          1.165935173260183,
          0.799336880940162,
          1.3305686987656649,
          1.095004849609638,
          1.029368803215101,
          0.3708520208142249,
          1.1008606390182902,
          1.390254352574308,
          0.3599637783748311,
          0.5571025207570713,
          0.162893550656208,
          0.2491986965152197,
          1.924100070967137,
          2.4044036855771127,
          2.480497160003491,
          0.7618265430826289,
          2.581391712696954,
          0.5554745467959082,
          0.7108123275683418,
          0.7251825320483104,
          0.7016621217250898,
          -0.0306743147401757,
          1.1163193621044112,
          0.2916163878760628,
          2.349189316639928,
          0.3140390876495985,
          1.2961210891280095,
          2.3615452163560064,
          1.2626891495965344,
          1.4136813222962326,
          1.2302281887076048,
          1.2366211461106074,
          0.1715724542962342,
          2.3259410044740894,
          2.268330224353813,
          1.7610912558949945,
          2.04784346776328,
          2.581905861352368,
          1.6845099308865854,
          1.549751537391348,
          1.497048084445557,
          1.3313908771589589,
          1.137377266582411,
          -0.138123830772689,
          0.0868831398903528,
          1.1833679042677658,
          0.4923132172278102,
          0.6069293778561451,
          -0.8401956579734224,
          0.2605870412780692,
          0.4977882826246963,
          0.3030237459861704,
          0.6229453260479799,
          0.244831664507846,
          0.6011832164437393,
          0.4037249032701467,
          0.4295791370242172,
          0.509276197513423,
          0.7651082350894296,
          0.6631241454321725,
          0.8612527480212393,
          0.9361468679165236,
          0.6094605846866095,
          0.7613727296257923,
          0.7642937828877898,
          0.4454195765039622,
          0.2799010281699192,
          0.0279128477001329,
          -0.3264998951993155,
          0.8739690186626073,
          0.8679821327175139,
          0.670714184184725,
          1.8175283285686552,
          1.37881844427628,
          1.4579032384119652,
          1.305252930104065,
          1.681833531553601,
          1.545399470643726,
          1.3418376532833536,
          -0.1347692648461385,
          -0.1153538447237991,
          -0.2705805816520177,
          -0.0920782008082979,
          1.8269113793933625,
          1.7826918386982011,
          -0.3742468127205853,
          0.5848223519792486,
          1.120146241261068,
          0.7420468560622642,
          0.566017109454058,
          -0.047845549538037,
          0.6435939865335968,
          0.7557216119791417,
          1.0914734952282978,
          0.5258751248510002,
          1.1404593306121866,
          0.5792143692108616,
          0.4741397953968292,
          0.6554876422842317,
          0.0548601173307454,
          -0.4912939587203294,
          -0.8577972702543822,
          -0.1734139142878488,
          -0.6136157532704207,
          -0.5343118448903007,
          -0.5080435698986827,
          0.5203496912446598,
          -0.0993508859689641,
          -0.2355851366660979,
          -0.2934487147465485,
          0.8393745754423817,
          -0.1986874516331266,
          -0.2488018024105296,
          1.4360627778586628,
          1.5383099606336832,
          1.164743304197389,
          1.1084453431723738,
          0.9549606277219164,
          -0.4477230078390874,
          -0.0179268457110095,
          -0.1626733532885154,
          0.1964371876694662,
          0.2088988193498535,
          0.4325606561436662,
          0.1176811893465548,
          -0.3600150142790396,
          -0.1037719707970866,
          0.4513728947226138,
          0.9270011214558695,
          1.113160402962342,
          -0.1209727375293173,
          0.8791006838139886,
          0.9335651309059284,
          0.8672778304574729,
          0.9044164669744446,
          0.7566283068727585,
          0.6381912069157769,
          0.1518009966080112,
          0.8360336416339342,
          0.1296319538938133,
          0.9244836546570876,
          0.3214707076105987,
          0.2315852348516287,
          1.026891367250219,
          0.8242934563940635,
          1.520611662287703,
          1.8159749594474237,
          -0.1907530862369484,
          0.6916912543707389,
          0.99710258744089,
          1.1613604079402535,
          0.4228042384397646,
          0.0034061824539866,
          -0.0988297548586536,
          0.1768916782311337,
          -0.2727520373819851,
          -0.1948755012032337,
          1.094258617791146,
          0.2746647091268763,
          0.1162738440360835,
          0.5761943924932932,
          0.5912254247614502,
          0.6105459628235614,
          -0.7068887492806579,
          0.3870124821802367,
          0.4108637507234815,
          0.5544660919998108,
          0.8914996739404802,
          2.1485883159407746,
          2.3280841483233425,
          2.528270823886752,
          2.348784944204812,
          1.5902567527881688,
          1.267066853151414,
          1.2121654078569726,
          1.1116965397900331,
          1.1743473425695192,
          1.3549497934198809,
          1.2603907838869262,
          0.9549504716270852,
          1.058489034989909,
          0.5208075579149654,
          0.4131441973310323,
          0.5864261400640589,
          0.8211826612317296,
          0.4959969884139967,
          0.0809795430607709,
          -0.2230011836316904,
          -0.3081015969632394,
          1.4574857366540066,
          0.2147004224601423,
          1.295291793558471,
          1.501288501711181,
          0.8209615375634086,
          0.727342170783236,
          1.7226260161039144,
          -0.2027089215527426,
          1.6019755412809975,
          1.67868420521973,
          2.045561463981016,
          2.129269874601027,
          2.299844338781364,
          4.202932447997484,
          1.082408206479657,
          1.3766680938608538,
          1.3187370987863931,
          1.516694748880573,
          1.5890400028405067,
          0.8200920517472132,
          1.1553824616698636,
          1.2679827056030286,
          2.371981695806014
         ],
         "yaxis": "y"
        }
       ],
       "layout": {
        "height": 700,
        "legend": {
         "orientation": "h",
         "title": {
          "text": "cluster"
         },
         "tracegroupgap": 0,
         "x": 0.5,
         "xanchor": "center",
         "y": -0.15,
         "yanchor": "bottom"
        },
        "margin": {
         "t": 60
        },
        "plot_bgcolor": "white",
        "template": {
         "data": {
          "bar": [
           {
            "error_x": {
             "color": "#2a3f5f"
            },
            "error_y": {
             "color": "#2a3f5f"
            },
            "marker": {
             "line": {
              "color": "#E5ECF6",
              "width": 0.5
             },
             "pattern": {
              "fillmode": "overlay",
              "size": 10,
              "solidity": 0.2
             }
            },
            "type": "bar"
           }
          ],
          "barpolar": [
           {
            "marker": {
             "line": {
              "color": "#E5ECF6",
              "width": 0.5
             },
             "pattern": {
              "fillmode": "overlay",
              "size": 10,
              "solidity": 0.2
             }
            },
            "type": "barpolar"
           }
          ],
          "carpet": [
           {
            "aaxis": {
             "endlinecolor": "#2a3f5f",
             "gridcolor": "white",
             "linecolor": "white",
             "minorgridcolor": "white",
             "startlinecolor": "#2a3f5f"
            },
            "baxis": {
             "endlinecolor": "#2a3f5f",
             "gridcolor": "white",
             "linecolor": "white",
             "minorgridcolor": "white",
             "startlinecolor": "#2a3f5f"
            },
            "type": "carpet"
           }
          ],
          "choropleth": [
           {
            "colorbar": {
             "outlinewidth": 0,
             "ticks": ""
            },
            "type": "choropleth"
           }
          ],
          "contour": [
           {
            "colorbar": {
             "outlinewidth": 0,
             "ticks": ""
            },
            "colorscale": [
             [
              0,
              "#0d0887"
             ],
             [
              0.1111111111111111,
              "#46039f"
             ],
             [
              0.2222222222222222,
              "#7201a8"
             ],
             [
              0.3333333333333333,
              "#9c179e"
             ],
             [
              0.4444444444444444,
              "#bd3786"
             ],
             [
              0.5555555555555556,
              "#d8576b"
             ],
             [
              0.6666666666666666,
              "#ed7953"
             ],
             [
              0.7777777777777778,
              "#fb9f3a"
             ],
             [
              0.8888888888888888,
              "#fdca26"
             ],
             [
              1,
              "#f0f921"
             ]
            ],
            "type": "contour"
           }
          ],
          "contourcarpet": [
           {
            "colorbar": {
             "outlinewidth": 0,
             "ticks": ""
            },
            "type": "contourcarpet"
           }
          ],
          "heatmap": [
           {
            "colorbar": {
             "outlinewidth": 0,
             "ticks": ""
            },
            "colorscale": [
             [
              0,
              "#0d0887"
             ],
             [
              0.1111111111111111,
              "#46039f"
             ],
             [
              0.2222222222222222,
              "#7201a8"
             ],
             [
              0.3333333333333333,
              "#9c179e"
             ],
             [
              0.4444444444444444,
              "#bd3786"
             ],
             [
              0.5555555555555556,
              "#d8576b"
             ],
             [
              0.6666666666666666,
              "#ed7953"
             ],
             [
              0.7777777777777778,
              "#fb9f3a"
             ],
             [
              0.8888888888888888,
              "#fdca26"
             ],
             [
              1,
              "#f0f921"
             ]
            ],
            "type": "heatmap"
           }
          ],
          "heatmapgl": [
           {
            "colorbar": {
             "outlinewidth": 0,
             "ticks": ""
            },
            "colorscale": [
             [
              0,
              "#0d0887"
             ],
             [
              0.1111111111111111,
              "#46039f"
             ],
             [
              0.2222222222222222,
              "#7201a8"
             ],
             [
              0.3333333333333333,
              "#9c179e"
             ],
             [
              0.4444444444444444,
              "#bd3786"
             ],
             [
              0.5555555555555556,
              "#d8576b"
             ],
             [
              0.6666666666666666,
              "#ed7953"
             ],
             [
              0.7777777777777778,
              "#fb9f3a"
             ],
             [
              0.8888888888888888,
              "#fdca26"
             ],
             [
              1,
              "#f0f921"
             ]
            ],
            "type": "heatmapgl"
           }
          ],
          "histogram": [
           {
            "marker": {
             "pattern": {
              "fillmode": "overlay",
              "size": 10,
              "solidity": 0.2
             }
            },
            "type": "histogram"
           }
          ],
          "histogram2d": [
           {
            "colorbar": {
             "outlinewidth": 0,
             "ticks": ""
            },
            "colorscale": [
             [
              0,
              "#0d0887"
             ],
             [
              0.1111111111111111,
              "#46039f"
             ],
             [
              0.2222222222222222,
              "#7201a8"
             ],
             [
              0.3333333333333333,
              "#9c179e"
             ],
             [
              0.4444444444444444,
              "#bd3786"
             ],
             [
              0.5555555555555556,
              "#d8576b"
             ],
             [
              0.6666666666666666,
              "#ed7953"
             ],
             [
              0.7777777777777778,
              "#fb9f3a"
             ],
             [
              0.8888888888888888,
              "#fdca26"
             ],
             [
              1,
              "#f0f921"
             ]
            ],
            "type": "histogram2d"
           }
          ],
          "histogram2dcontour": [
           {
            "colorbar": {
             "outlinewidth": 0,
             "ticks": ""
            },
            "colorscale": [
             [
              0,
              "#0d0887"
             ],
             [
              0.1111111111111111,
              "#46039f"
             ],
             [
              0.2222222222222222,
              "#7201a8"
             ],
             [
              0.3333333333333333,
              "#9c179e"
             ],
             [
              0.4444444444444444,
              "#bd3786"
             ],
             [
              0.5555555555555556,
              "#d8576b"
             ],
             [
              0.6666666666666666,
              "#ed7953"
             ],
             [
              0.7777777777777778,
              "#fb9f3a"
             ],
             [
              0.8888888888888888,
              "#fdca26"
             ],
             [
              1,
              "#f0f921"
             ]
            ],
            "type": "histogram2dcontour"
           }
          ],
          "mesh3d": [
           {
            "colorbar": {
             "outlinewidth": 0,
             "ticks": ""
            },
            "type": "mesh3d"
           }
          ],
          "parcoords": [
           {
            "line": {
             "colorbar": {
              "outlinewidth": 0,
              "ticks": ""
             }
            },
            "type": "parcoords"
           }
          ],
          "pie": [
           {
            "automargin": true,
            "type": "pie"
           }
          ],
          "scatter": [
           {
            "fillpattern": {
             "fillmode": "overlay",
             "size": 10,
             "solidity": 0.2
            },
            "type": "scatter"
           }
          ],
          "scatter3d": [
           {
            "line": {
             "colorbar": {
              "outlinewidth": 0,
              "ticks": ""
             }
            },
            "marker": {
             "colorbar": {
              "outlinewidth": 0,
              "ticks": ""
             }
            },
            "type": "scatter3d"
           }
          ],
          "scattercarpet": [
           {
            "marker": {
             "colorbar": {
              "outlinewidth": 0,
              "ticks": ""
             }
            },
            "type": "scattercarpet"
           }
          ],
          "scattergeo": [
           {
            "marker": {
             "colorbar": {
              "outlinewidth": 0,
              "ticks": ""
             }
            },
            "type": "scattergeo"
           }
          ],
          "scattergl": [
           {
            "marker": {
             "colorbar": {
              "outlinewidth": 0,
              "ticks": ""
             }
            },
            "type": "scattergl"
           }
          ],
          "scattermapbox": [
           {
            "marker": {
             "colorbar": {
              "outlinewidth": 0,
              "ticks": ""
             }
            },
            "type": "scattermapbox"
           }
          ],
          "scatterpolar": [
           {
            "marker": {
             "colorbar": {
              "outlinewidth": 0,
              "ticks": ""
             }
            },
            "type": "scatterpolar"
           }
          ],
          "scatterpolargl": [
           {
            "marker": {
             "colorbar": {
              "outlinewidth": 0,
              "ticks": ""
             }
            },
            "type": "scatterpolargl"
           }
          ],
          "scatterternary": [
           {
            "marker": {
             "colorbar": {
              "outlinewidth": 0,
              "ticks": ""
             }
            },
            "type": "scatterternary"
           }
          ],
          "surface": [
           {
            "colorbar": {
             "outlinewidth": 0,
             "ticks": ""
            },
            "colorscale": [
             [
              0,
              "#0d0887"
             ],
             [
              0.1111111111111111,
              "#46039f"
             ],
             [
              0.2222222222222222,
              "#7201a8"
             ],
             [
              0.3333333333333333,
              "#9c179e"
             ],
             [
              0.4444444444444444,
              "#bd3786"
             ],
             [
              0.5555555555555556,
              "#d8576b"
             ],
             [
              0.6666666666666666,
              "#ed7953"
             ],
             [
              0.7777777777777778,
              "#fb9f3a"
             ],
             [
              0.8888888888888888,
              "#fdca26"
             ],
             [
              1,
              "#f0f921"
             ]
            ],
            "type": "surface"
           }
          ],
          "table": [
           {
            "cells": {
             "fill": {
              "color": "#EBF0F8"
             },
             "line": {
              "color": "white"
             }
            },
            "header": {
             "fill": {
              "color": "#C8D4E3"
             },
             "line": {
              "color": "white"
             }
            },
            "type": "table"
           }
          ]
         },
         "layout": {
          "annotationdefaults": {
           "arrowcolor": "#2a3f5f",
           "arrowhead": 0,
           "arrowwidth": 1
          },
          "autotypenumbers": "strict",
          "coloraxis": {
           "colorbar": {
            "outlinewidth": 0,
            "ticks": ""
           }
          },
          "colorscale": {
           "diverging": [
            [
             0,
             "#8e0152"
            ],
            [
             0.1,
             "#c51b7d"
            ],
            [
             0.2,
             "#de77ae"
            ],
            [
             0.3,
             "#f1b6da"
            ],
            [
             0.4,
             "#fde0ef"
            ],
            [
             0.5,
             "#f7f7f7"
            ],
            [
             0.6,
             "#e6f5d0"
            ],
            [
             0.7,
             "#b8e186"
            ],
            [
             0.8,
             "#7fbc41"
            ],
            [
             0.9,
             "#4d9221"
            ],
            [
             1,
             "#276419"
            ]
           ],
           "sequential": [
            [
             0,
             "#0d0887"
            ],
            [
             0.1111111111111111,
             "#46039f"
            ],
            [
             0.2222222222222222,
             "#7201a8"
            ],
            [
             0.3333333333333333,
             "#9c179e"
            ],
            [
             0.4444444444444444,
             "#bd3786"
            ],
            [
             0.5555555555555556,
             "#d8576b"
            ],
            [
             0.6666666666666666,
             "#ed7953"
            ],
            [
             0.7777777777777778,
             "#fb9f3a"
            ],
            [
             0.8888888888888888,
             "#fdca26"
            ],
            [
             1,
             "#f0f921"
            ]
           ],
           "sequentialminus": [
            [
             0,
             "#0d0887"
            ],
            [
             0.1111111111111111,
             "#46039f"
            ],
            [
             0.2222222222222222,
             "#7201a8"
            ],
            [
             0.3333333333333333,
             "#9c179e"
            ],
            [
             0.4444444444444444,
             "#bd3786"
            ],
            [
             0.5555555555555556,
             "#d8576b"
            ],
            [
             0.6666666666666666,
             "#ed7953"
            ],
            [
             0.7777777777777778,
             "#fb9f3a"
            ],
            [
             0.8888888888888888,
             "#fdca26"
            ],
            [
             1,
             "#f0f921"
            ]
           ]
          },
          "colorway": [
           "#636efa",
           "#EF553B",
           "#00cc96",
           "#ab63fa",
           "#FFA15A",
           "#19d3f3",
           "#FF6692",
           "#B6E880",
           "#FF97FF",
           "#FECB52"
          ],
          "font": {
           "color": "#2a3f5f"
          },
          "geo": {
           "bgcolor": "white",
           "lakecolor": "white",
           "landcolor": "#E5ECF6",
           "showlakes": true,
           "showland": true,
           "subunitcolor": "white"
          },
          "hoverlabel": {
           "align": "left"
          },
          "hovermode": "closest",
          "mapbox": {
           "style": "light"
          },
          "paper_bgcolor": "white",
          "plot_bgcolor": "#E5ECF6",
          "polar": {
           "angularaxis": {
            "gridcolor": "white",
            "linecolor": "white",
            "ticks": ""
           },
           "bgcolor": "#E5ECF6",
           "radialaxis": {
            "gridcolor": "white",
            "linecolor": "white",
            "ticks": ""
           }
          },
          "scene": {
           "xaxis": {
            "backgroundcolor": "#E5ECF6",
            "gridcolor": "white",
            "gridwidth": 2,
            "linecolor": "white",
            "showbackground": true,
            "ticks": "",
            "zerolinecolor": "white"
           },
           "yaxis": {
            "backgroundcolor": "#E5ECF6",
            "gridcolor": "white",
            "gridwidth": 2,
            "linecolor": "white",
            "showbackground": true,
            "ticks": "",
            "zerolinecolor": "white"
           },
           "zaxis": {
            "backgroundcolor": "#E5ECF6",
            "gridcolor": "white",
            "gridwidth": 2,
            "linecolor": "white",
            "showbackground": true,
            "ticks": "",
            "zerolinecolor": "white"
           }
          },
          "shapedefaults": {
           "line": {
            "color": "#2a3f5f"
           }
          },
          "ternary": {
           "aaxis": {
            "gridcolor": "white",
            "linecolor": "white",
            "ticks": ""
           },
           "baxis": {
            "gridcolor": "white",
            "linecolor": "white",
            "ticks": ""
           },
           "bgcolor": "#E5ECF6",
           "caxis": {
            "gridcolor": "white",
            "linecolor": "white",
            "ticks": ""
           }
          },
          "title": {
           "x": 0.05
          },
          "xaxis": {
           "automargin": true,
           "gridcolor": "white",
           "linecolor": "white",
           "ticks": "",
           "title": {
            "standoff": 15
           },
           "zerolinecolor": "white",
           "zerolinewidth": 2
          },
          "yaxis": {
           "automargin": true,
           "gridcolor": "white",
           "linecolor": "white",
           "ticks": "",
           "title": {
            "standoff": 15
           },
           "zerolinecolor": "white",
           "zerolinewidth": 2
          }
         }
        },
        "width": 1000,
        "xaxis": {
         "anchor": "y",
         "domain": [
          0,
          1
         ],
         "gridcolor": "LightGrey",
         "range": [
          -7.395968383003183,
          5.501185400759708
         ],
         "showgrid": true,
         "title": {
          "text": "PC1"
         },
         "zeroline": true,
         "zerolinecolor": "LightGrey",
         "zerolinewidth": 1
        },
        "yaxis": {
         "anchor": "x",
         "domain": [
          0,
          1
         ],
         "gridcolor": "LightGrey",
         "range": [
          -5.263632334069526,
          4.702932447997484
         ],
         "showgrid": true,
         "title": {
          "text": "PC2"
         },
         "zeroline": true,
         "zerolinecolor": "LightGrey",
         "zerolinewidth": 1
        }
       }
      }
     },
     "metadata": {},
     "output_type": "display_data"
    },
    {
     "data": {
      "text/plain": [
       "<function __main__.interactive_plot_scatter1(year, x_axis, y_axis, ignore_year)>"
      ]
     },
     "execution_count": 29,
     "metadata": {},
     "output_type": "execute_result"
    }
   ],
   "source": [
    "#Slider for year selection\n",
    "year_slider = widgets.IntSlider(value=2019, min=cluster_data['year'].min(), max=cluster_data['year'].max(), step=1, description='Year:')\n",
    "ignore_year_checkbox = widgets.Checkbox(value=False, description='Ignore Year Filter', disabled=False)\n",
    "\n",
    "#Dropdown for selecting x and y axis variables\n",
    "variables = plotting_variables \n",
    "x_axis_dropdown = widgets.Dropdown(options=variables, value='PC1', description='X Axis:')\n",
    "y_axis_dropdown = widgets.Dropdown(options=variables, value='PC2', description='Y Axis:')\n",
    "\n",
    "#Display the interactive widgets\n",
    "interact(interactive_plot_scatter1, year=year_slider, x_axis=x_axis_dropdown, y_axis=y_axis_dropdown, ignore_year=ignore_year_checkbox)"
   ]
  },
  {
   "cell_type": "code",
   "execution_count": 30,
   "id": "f25bfa9e-ab0c-41ef-a169-0c1abb0f7719",
   "metadata": {},
   "outputs": [],
   "source": [
    "#Define a function to assign unique colors\n",
    "def get_unique_colors(n):\n",
    "    return px.colors.qualitative.Plotly[:n]"
   ]
  },
  {
   "cell_type": "code",
   "execution_count": 32,
   "id": "bf254b94-dfc4-40b0-9b27-23b66b25d2b3",
   "metadata": {},
   "outputs": [
    {
     "data": {
      "application/vnd.plotly.v1+json": {
       "config": {
        "plotlyServerURL": "https://plot.ly"
       },
       "data": [
        {
         "customdata": [
          [
           "Madagascar"
          ],
          [
           "Malawi"
          ],
          [
           "Liberia"
          ],
          [
           "Kenya"
          ],
          [
           "Mozambique"
          ],
          [
           "Myanmar"
          ],
          [
           "Mauritania"
          ],
          [
           "Mali"
          ],
          [
           "Ghana"
          ],
          [
           "Guinea"
          ],
          [
           "Ethiopia"
          ],
          [
           "Gambia"
          ],
          [
           "Ivory Coast"
          ],
          [
           "India"
          ],
          [
           "Tanzania"
          ],
          [
           "Swaziland"
          ],
          [
           "Zambia"
          ],
          [
           "Togo"
          ],
          [
           "Uganda"
          ],
          [
           "Nigeria"
          ],
          [
           "Pakistan"
          ],
          [
           "Niger"
          ],
          [
           "Senegal"
          ],
          [
           "Sierra Leone"
          ],
          [
           "Rwanda"
          ],
          [
           "Zimbabwe"
          ],
          [
           "Burkina Faso"
          ],
          [
           "Chad"
          ],
          [
           "Cambodia"
          ],
          [
           "Benin"
          ],
          [
           "Congo (Brazzaville)"
          ],
          [
           "Comoros"
          ],
          [
           "Afghanistan"
          ],
          [
           "Cameroon"
          ]
         ],
         "hovertemplate": "%{hovertext}",
         "hovertext": [
          "Madagascar",
          "Malawi",
          "Liberia",
          "Kenya",
          "Mozambique",
          "Myanmar",
          "Mauritania",
          "Mali",
          "Ghana",
          "Guinea",
          "Ethiopia",
          "Gambia",
          "Ivory Coast",
          "India",
          "Tanzania",
          "Swaziland",
          "Zambia",
          "Togo",
          "Uganda",
          "Nigeria",
          "Pakistan",
          "Niger",
          "Senegal",
          "Sierra Leone",
          "Rwanda",
          "Zimbabwe",
          "Burkina Faso",
          "Chad",
          "Cambodia",
          "Benin",
          "Congo (Brazzaville)",
          "Comoros",
          "Afghanistan",
          "Cameroon"
         ],
         "legendgroup": "0",
         "marker": {
          "color": "#228B22",
          "opacity": 1,
          "symbol": "circle"
         },
         "mode": "markers",
         "name": "0",
         "orientation": "v",
         "showlegend": true,
         "type": "scatter",
         "x": [
          -2.3774424041319118,
          -3.3028248156254603,
          -2.463037948631744,
          -0.9904037839513512,
          -1.945973425036985,
          -0.2318229588341293,
          -1.8089562638715664,
          -2.342878916674997,
          -1.2610939548837874,
          -2.583432987940917,
          -1.945814817464503,
          -1.8124877603740448,
          -2.222678171969952,
          -2.24068327682486,
          -1.5005884201402075,
          -1.7597648646902797,
          -2.5475120741843704,
          -3.672732839133224,
          -1.8640737058269008,
          -2.026285362374027,
          -2.433769571307973,
          -1.6912137148765611,
          -1.2374738210404366,
          -4.0274821767487765,
          -1.8656472725721287,
          -2.5269058428622326,
          -2.3817847102992675,
          -4.057711187468753,
          -0.4188704155748652,
          -2.929959158678589,
          -2.2983625418134186,
          -2.401487434923717,
          -6.406702637701201,
          -2.1735603344661123
         ],
         "xaxis": "x",
         "y": [
          0.7614905103269449,
          1.2077578412915162,
          0.9633635079163908,
          2.151621882891138,
          0.994090206550904,
          3.3468730253776555,
          0.2970694772490278,
          0.7774802012967397,
          1.0073422997577426,
          1.174942013570259,
          1.036181844719282,
          2.3954300608784047,
          0.6275297509206226,
          1.0701420919654887,
          2.0998535014911424,
          -0.0661656718500107,
          1.4768916600259607,
          0.8910775863300371,
          1.2305282021527626,
          1.1432851292740946,
          0.6156763981787693,
          2.037122405692219,
          1.05242945378715,
          0.7953234373003176,
          2.9134219891946183,
          0.0569425148270723,
          0.9112201825760936,
          0.6007661994269194,
          1.5535077602550431,
          1.2659009478440706,
          0.4883621471111148,
          1.0539784230658154,
          -0.7639552643577446,
          0.378132080510309
         ],
         "yaxis": "y"
        },
        {
         "customdata": [
          [
           "Morocco"
          ],
          [
           "Botswana"
          ],
          [
           "Nepal"
          ],
          [
           "Jordan"
          ],
          [
           "Namibia"
          ],
          [
           "Lebanon"
          ],
          [
           "Lesotho"
          ],
          [
           "Libya"
          ],
          [
           "Turkey"
          ],
          [
           "Tunisia"
          ],
          [
           "Yemen"
          ],
          [
           "Albania"
          ],
          [
           "Venezuela"
          ],
          [
           "Algeria"
          ],
          [
           "North Macedonia"
          ],
          [
           "Bolivia"
          ],
          [
           "South Africa"
          ],
          [
           "Armenia"
          ],
          [
           "Bangladesh"
          ],
          [
           "Georgia"
          ],
          [
           "Iran"
          ],
          [
           "Egypt"
          ],
          [
           "Gabon"
          ]
         ],
         "hovertemplate": "%{hovertext}",
         "hovertext": [
          "Morocco",
          "Botswana",
          "Nepal",
          "Jordan",
          "Namibia",
          "Lebanon",
          "Lesotho",
          "Libya",
          "Turkey",
          "Tunisia",
          "Yemen",
          "Albania",
          "Venezuela",
          "Algeria",
          "North Macedonia",
          "Bolivia",
          "South Africa",
          "Armenia",
          "Bangladesh",
          "Georgia",
          "Iran",
          "Egypt",
          "Gabon"
         ],
         "legendgroup": "1",
         "marker": {
          "color": "#00BFFF",
          "opacity": 1,
          "symbol": "circle"
         },
         "mode": "markers",
         "name": "1",
         "orientation": "v",
         "showlegend": true,
         "type": "scatter",
         "x": [
          -2.114279131879953,
          -1.054880063157221,
          -0.9860224603599874,
          -1.2813029660993138,
          -1.2684764403666728,
          -2.7669436235224785,
          -1.6330740697609178,
          -0.4969485739985096,
          -1.3825744396410626,
          -2.6230701633506746,
          -1.7332896099379522,
          -0.6007422367935574,
          -0.4868596948285066,
          -1.477789266089464,
          -0.6398881824674393,
          -0.3226021137892882,
          -0.429620304921422,
          -0.3768744642110869,
          -1.108652942549512,
          -0.7177653360598879,
          -1.3938610540842835,
          -1.643522055869076,
          -1.385489543367744
         ],
         "xaxis": "x",
         "y": [
          -0.4848675446972661,
          -0.7821043804867446,
          0.5828368081732795,
          -0.5195077957252523,
          -0.606894549162851,
          -2.1333273899504577,
          -3.361203548205862,
          0.1679913075905653,
          -1.444983555892658,
          -0.9349798458237182,
          -0.5616902609518751,
          -0.4871965853213705,
          -0.4314552699989468,
          -0.7069034654455372,
          -1.010564588909998,
          0.262843581665888,
          -0.118494476767084,
          -0.1664236430150674,
          0.7765638191525508,
          -0.6368849806830338,
          0.4129144733104578,
          -0.5871969469978232,
          -0.6424008039930653
         ],
         "yaxis": "y"
        },
        {
         "customdata": [
          [
           "Honduras"
          ],
          [
           "Guatemala"
          ],
          [
           "Taiwan Province of China"
          ],
          [
           "Tajikistan"
          ],
          [
           "El Salvador"
          ],
          [
           "Mongolia"
          ],
          [
           "Thailand"
          ],
          [
           "Colombia"
          ],
          [
           "Brazil"
          ],
          [
           "Argentina"
          ],
          [
           "China"
          ],
          [
           "Peru"
          ],
          [
           "Paraguay"
          ],
          [
           "Philippines"
          ],
          [
           "Panama"
          ],
          [
           "Estonia"
          ],
          [
           "Saudi Arabia"
          ],
          [
           "Azerbaijan"
          ],
          [
           "Nicaragua"
          ],
          [
           "Sri Lanka"
          ],
          [
           "Uruguay"
          ],
          [
           "Laos"
          ],
          [
           "Costa Rica"
          ],
          [
           "Vietnam"
          ],
          [
           "Kazakhstan"
          ],
          [
           "Cyprus"
          ],
          [
           "Jamaica"
          ],
          [
           "Kyrgyzstan"
          ],
          [
           "Kuwait"
          ],
          [
           "Dominican Republic"
          ],
          [
           "Turkmenistan"
          ],
          [
           "Malaysia"
          ],
          [
           "Mauritius"
          ],
          [
           "Mexico"
          ],
          [
           "Ecuador"
          ],
          [
           "Indonesia"
          ]
         ],
         "hovertemplate": "%{hovertext}",
         "hovertext": [
          "Honduras",
          "Guatemala",
          "Taiwan Province of China",
          "Tajikistan",
          "El Salvador",
          "Mongolia",
          "Thailand",
          "Colombia",
          "Brazil",
          "Argentina",
          "China",
          "Peru",
          "Paraguay",
          "Philippines",
          "Panama",
          "Estonia",
          "Saudi Arabia",
          "Azerbaijan",
          "Nicaragua",
          "Sri Lanka",
          "Uruguay",
          "Laos",
          "Costa Rica",
          "Vietnam",
          "Kazakhstan",
          "Cyprus",
          "Jamaica",
          "Kyrgyzstan",
          "Kuwait",
          "Dominican Republic",
          "Turkmenistan",
          "Malaysia",
          "Mauritius",
          "Mexico",
          "Ecuador",
          "Indonesia"
         ],
         "legendgroup": "2",
         "marker": {
          "color": "#FFD700",
          "opacity": 1,
          "symbol": "circle"
         },
         "mode": "markers",
         "name": "2",
         "orientation": "v",
         "showlegend": true,
         "type": "scatter",
         "x": [
          0.5153026020021341,
          0.6915795206448813,
          2.717601813080506,
          0.4962483179919335,
          0.9996182146368998,
          0.6138308997474109,
          1.728444356796268,
          0.8209112029422899,
          0.9343128685729178,
          1.057897475859197,
          1.2828629354533534,
          0.2879895523235133,
          0.9378154453610342,
          0.4541459830581589,
          1.5415247426892376,
          2.4594325448192493,
          1.9964907121611235,
          0.765404691741546,
          1.0038606556035758,
          0.0366022390499614,
          2.587559850172444,
          0.1355232168214099,
          1.9156689237020028,
          0.8196638094477936,
          1.976003297944632,
          0.8594099545921611,
          0.9075219580096816,
          0.4540514547322138,
          1.2429464099782228,
          1.0824541389412374,
          0.6563604131959498,
          1.4894743426790418,
          1.6575464010940164,
          1.5009853982600578,
          0.3404067043047851,
          0.6386362604696675
         ],
         "xaxis": "x",
         "y": [
          1.3232509262918226,
          0.9017891892813428,
          -0.7057535747537195,
          1.0322777827444585,
          0.8623060395345552,
          -0.4244955411870837,
          1.3738216229892075,
          -0.1658192879080456,
          -0.029254452349937,
          -0.6662215947043517,
          0.2516763858314583,
          0.1018214260206567,
          0.6607119769633063,
          0.9081368956678616,
          -0.0936734185813363,
          -0.5287344211304136,
          -0.0391382662523937,
          -0.0309357618556393,
          1.2593644611258972,
          0.2670805980921708,
          -0.333153193914917,
          1.984946760465596,
          -0.1893257259015614,
          0.3371709254864435,
          -0.5054771012354001,
          -0.2112503328475419,
          0.1130579701493392,
          0.7783383115870707,
          0.1389044731195155,
          0.1572994423817991,
          0.5870352716474458,
          1.1427097632573957,
          0.2022917850101457,
          0.2267771177181045,
          -0.0321833688570053,
          3.007011029362693
         ],
         "yaxis": "y"
        },
        {
         "customdata": [
          [
           "Slovakia"
          ],
          [
           "Croatia"
          ],
          [
           "Serbia"
          ],
          [
           "Spain"
          ],
          [
           "Ukraine"
          ],
          [
           "Slovenia"
          ],
          [
           "South Korea"
          ],
          [
           "France"
          ],
          [
           "Hungary"
          ],
          [
           "Bulgaria"
          ],
          [
           "Chile"
          ],
          [
           "Lithuania"
          ],
          [
           "Belarus"
          ],
          [
           "Belgium"
          ],
          [
           "Greece"
          ],
          [
           "Bosnia and Herzegovina"
          ],
          [
           "Montenegro"
          ],
          [
           "Moldova"
          ],
          [
           "Latvia"
          ],
          [
           "Japan"
          ],
          [
           "Italy"
          ],
          [
           "Poland"
          ],
          [
           "Portugal"
          ],
          [
           "Romania"
          ],
          [
           "Russia"
          ]
         ],
         "hovertemplate": "%{hovertext}",
         "hovertext": [
          "Slovakia",
          "Croatia",
          "Serbia",
          "Spain",
          "Ukraine",
          "Slovenia",
          "South Korea",
          "France",
          "Hungary",
          "Bulgaria",
          "Chile",
          "Lithuania",
          "Belarus",
          "Belgium",
          "Greece",
          "Bosnia and Herzegovina",
          "Montenegro",
          "Moldova",
          "Latvia",
          "Japan",
          "Italy",
          "Poland",
          "Portugal",
          "Romania",
          "Russia"
         ],
         "legendgroup": "3",
         "marker": {
          "color": "#DC143C",
          "opacity": 1,
          "symbol": "circle"
         },
         "mode": "markers",
         "name": "3",
         "orientation": "v",
         "showlegend": true,
         "type": "scatter",
         "x": [
          1.267162640381854,
          0.45171883731287,
          0.4659668769387325,
          1.6365916294902814,
          -0.1040770015587104,
          2.23620520157427,
          1.2716935072079345,
          2.5305234099468765,
          1.456827083402009,
          0.6080075005114485,
          0.598551126034374,
          0.9264371144972317,
          0.8121815211320191,
          2.0889335327774825,
          0.5100481075490317,
          0.3429977949361354,
          -0.1608722541003811,
          0.0114155073680448,
          0.7893055820081415,
          1.897342606706316,
          0.7519407946550151,
          1.7583298656832114,
          1.1701835639891025,
          0.7183089898573842,
          0.7376731346188614
         ],
         "xaxis": "x",
         "y": [
          -1.524521786091545,
          -2.4849963972532407,
          -1.5965813965582438,
          -1.2108467628698945,
          -1.8440894882490968,
          -1.6101654644657457,
          -1.8544648836532265,
          -1.1955599316162968,
          -1.849571415588782,
          -1.318555203932178,
          -0.8177631174466072,
          -2.9758044150008214,
          -2.155349425679753,
          -1.6881685680461993,
          -2.111731473575708,
          -0.9768002637489468,
          -2.1881333003118004,
          -1.3043553501691054,
          -2.5538055763255687,
          -1.3556872813638683,
          -1.5196730706844872,
          -1.1753872765554836,
          -1.690175018344405,
          -1.4965917632530394,
          -2.186208515602542
         ],
         "yaxis": "y"
        },
        {
         "customdata": [
          [
           "Finland"
          ],
          [
           "United Kingdom"
          ],
          [
           "United Arab Emirates"
          ],
          [
           "Denmark"
          ],
          [
           "Canada"
          ],
          [
           "United States"
          ],
          [
           "Ireland"
          ],
          [
           "Bahrain"
          ],
          [
           "Uzbekistan"
          ],
          [
           "Israel"
          ],
          [
           "Singapore"
          ],
          [
           "Switzerland"
          ],
          [
           "Sweden"
          ],
          [
           "Germany"
          ],
          [
           "Australia"
          ],
          [
           "New Zealand"
          ],
          [
           "Norway"
          ],
          [
           "Austria"
          ],
          [
           "Hong Kong S.A.R. of China"
          ],
          [
           "Iceland"
          ],
          [
           "Luxembourg"
          ],
          [
           "Malta"
          ],
          [
           "Netherlands"
          ]
         ],
         "hovertemplate": "%{hovertext}",
         "hovertext": [
          "Finland",
          "United Kingdom",
          "United Arab Emirates",
          "Denmark",
          "Canada",
          "United States",
          "Ireland",
          "Bahrain",
          "Uzbekistan",
          "Israel",
          "Singapore",
          "Switzerland",
          "Sweden",
          "Germany",
          "Australia",
          "New Zealand",
          "Norway",
          "Austria",
          "Hong Kong S.A.R. of China",
          "Iceland",
          "Luxembourg",
          "Malta",
          "Netherlands"
         ],
         "legendgroup": "4",
         "marker": {
          "color": "#7851A9",
          "opacity": 1,
          "symbol": "circle"
         },
         "mode": "markers",
         "name": "4",
         "orientation": "v",
         "showlegend": true,
         "type": "scatter",
         "x": [
          3.906223430888195,
          3.116820213992121,
          2.4740752322689525,
          4.393141653438649,
          3.193667760912251,
          2.522300533576934,
          3.6582278255850977,
          2.570254872708959,
          2.0124731126994484,
          2.055360640967031,
          4.846999457076257,
          4.145264703858312,
          3.969829183186323,
          2.930459330060897,
          3.394674017300083,
          3.722383997269607,
          4.08094187752408,
          3.479620571571008,
          2.166456051698547,
          3.684684734738753,
          3.670843707110946,
          2.216007677595077,
          3.786831977759909
         ],
         "xaxis": "x",
         "y": [
          -0.0892039659582981,
          0.8212876808687659,
          1.1441819602727403,
          0.7429715664477613,
          0.5930531036573828,
          -0.0306743147401757,
          0.0868831398903528,
          0.799336880940162,
          2.3259410044740894,
          -0.2754813754660696,
          1.7551183259012515,
          0.0279128477001329,
          0.509276197513423,
          -0.0179268457110095,
          0.4131441973310323,
          1.1084453431723738,
          0.6554876422842317,
          -0.1986874516331266,
          0.2315852348516287,
          0.1162738440360835,
          -0.1948755012032337,
          0.1518009966080112,
          0.8679821327175139
         ],
         "yaxis": "y"
        }
       ],
       "layout": {
        "height": 700,
        "legend": {
         "orientation": "h",
         "title": {
          "text": "cluster"
         },
         "tracegroupgap": 0,
         "x": 0.5,
         "xanchor": "center",
         "y": -0.15,
         "yanchor": "bottom"
        },
        "margin": {
         "t": 60
        },
        "plot_bgcolor": "white",
        "template": {
         "data": {
          "bar": [
           {
            "error_x": {
             "color": "#2a3f5f"
            },
            "error_y": {
             "color": "#2a3f5f"
            },
            "marker": {
             "line": {
              "color": "#E5ECF6",
              "width": 0.5
             },
             "pattern": {
              "fillmode": "overlay",
              "size": 10,
              "solidity": 0.2
             }
            },
            "type": "bar"
           }
          ],
          "barpolar": [
           {
            "marker": {
             "line": {
              "color": "#E5ECF6",
              "width": 0.5
             },
             "pattern": {
              "fillmode": "overlay",
              "size": 10,
              "solidity": 0.2
             }
            },
            "type": "barpolar"
           }
          ],
          "carpet": [
           {
            "aaxis": {
             "endlinecolor": "#2a3f5f",
             "gridcolor": "white",
             "linecolor": "white",
             "minorgridcolor": "white",
             "startlinecolor": "#2a3f5f"
            },
            "baxis": {
             "endlinecolor": "#2a3f5f",
             "gridcolor": "white",
             "linecolor": "white",
             "minorgridcolor": "white",
             "startlinecolor": "#2a3f5f"
            },
            "type": "carpet"
           }
          ],
          "choropleth": [
           {
            "colorbar": {
             "outlinewidth": 0,
             "ticks": ""
            },
            "type": "choropleth"
           }
          ],
          "contour": [
           {
            "colorbar": {
             "outlinewidth": 0,
             "ticks": ""
            },
            "colorscale": [
             [
              0,
              "#0d0887"
             ],
             [
              0.1111111111111111,
              "#46039f"
             ],
             [
              0.2222222222222222,
              "#7201a8"
             ],
             [
              0.3333333333333333,
              "#9c179e"
             ],
             [
              0.4444444444444444,
              "#bd3786"
             ],
             [
              0.5555555555555556,
              "#d8576b"
             ],
             [
              0.6666666666666666,
              "#ed7953"
             ],
             [
              0.7777777777777778,
              "#fb9f3a"
             ],
             [
              0.8888888888888888,
              "#fdca26"
             ],
             [
              1,
              "#f0f921"
             ]
            ],
            "type": "contour"
           }
          ],
          "contourcarpet": [
           {
            "colorbar": {
             "outlinewidth": 0,
             "ticks": ""
            },
            "type": "contourcarpet"
           }
          ],
          "heatmap": [
           {
            "colorbar": {
             "outlinewidth": 0,
             "ticks": ""
            },
            "colorscale": [
             [
              0,
              "#0d0887"
             ],
             [
              0.1111111111111111,
              "#46039f"
             ],
             [
              0.2222222222222222,
              "#7201a8"
             ],
             [
              0.3333333333333333,
              "#9c179e"
             ],
             [
              0.4444444444444444,
              "#bd3786"
             ],
             [
              0.5555555555555556,
              "#d8576b"
             ],
             [
              0.6666666666666666,
              "#ed7953"
             ],
             [
              0.7777777777777778,
              "#fb9f3a"
             ],
             [
              0.8888888888888888,
              "#fdca26"
             ],
             [
              1,
              "#f0f921"
             ]
            ],
            "type": "heatmap"
           }
          ],
          "heatmapgl": [
           {
            "colorbar": {
             "outlinewidth": 0,
             "ticks": ""
            },
            "colorscale": [
             [
              0,
              "#0d0887"
             ],
             [
              0.1111111111111111,
              "#46039f"
             ],
             [
              0.2222222222222222,
              "#7201a8"
             ],
             [
              0.3333333333333333,
              "#9c179e"
             ],
             [
              0.4444444444444444,
              "#bd3786"
             ],
             [
              0.5555555555555556,
              "#d8576b"
             ],
             [
              0.6666666666666666,
              "#ed7953"
             ],
             [
              0.7777777777777778,
              "#fb9f3a"
             ],
             [
              0.8888888888888888,
              "#fdca26"
             ],
             [
              1,
              "#f0f921"
             ]
            ],
            "type": "heatmapgl"
           }
          ],
          "histogram": [
           {
            "marker": {
             "pattern": {
              "fillmode": "overlay",
              "size": 10,
              "solidity": 0.2
             }
            },
            "type": "histogram"
           }
          ],
          "histogram2d": [
           {
            "colorbar": {
             "outlinewidth": 0,
             "ticks": ""
            },
            "colorscale": [
             [
              0,
              "#0d0887"
             ],
             [
              0.1111111111111111,
              "#46039f"
             ],
             [
              0.2222222222222222,
              "#7201a8"
             ],
             [
              0.3333333333333333,
              "#9c179e"
             ],
             [
              0.4444444444444444,
              "#bd3786"
             ],
             [
              0.5555555555555556,
              "#d8576b"
             ],
             [
              0.6666666666666666,
              "#ed7953"
             ],
             [
              0.7777777777777778,
              "#fb9f3a"
             ],
             [
              0.8888888888888888,
              "#fdca26"
             ],
             [
              1,
              "#f0f921"
             ]
            ],
            "type": "histogram2d"
           }
          ],
          "histogram2dcontour": [
           {
            "colorbar": {
             "outlinewidth": 0,
             "ticks": ""
            },
            "colorscale": [
             [
              0,
              "#0d0887"
             ],
             [
              0.1111111111111111,
              "#46039f"
             ],
             [
              0.2222222222222222,
              "#7201a8"
             ],
             [
              0.3333333333333333,
              "#9c179e"
             ],
             [
              0.4444444444444444,
              "#bd3786"
             ],
             [
              0.5555555555555556,
              "#d8576b"
             ],
             [
              0.6666666666666666,
              "#ed7953"
             ],
             [
              0.7777777777777778,
              "#fb9f3a"
             ],
             [
              0.8888888888888888,
              "#fdca26"
             ],
             [
              1,
              "#f0f921"
             ]
            ],
            "type": "histogram2dcontour"
           }
          ],
          "mesh3d": [
           {
            "colorbar": {
             "outlinewidth": 0,
             "ticks": ""
            },
            "type": "mesh3d"
           }
          ],
          "parcoords": [
           {
            "line": {
             "colorbar": {
              "outlinewidth": 0,
              "ticks": ""
             }
            },
            "type": "parcoords"
           }
          ],
          "pie": [
           {
            "automargin": true,
            "type": "pie"
           }
          ],
          "scatter": [
           {
            "fillpattern": {
             "fillmode": "overlay",
             "size": 10,
             "solidity": 0.2
            },
            "type": "scatter"
           }
          ],
          "scatter3d": [
           {
            "line": {
             "colorbar": {
              "outlinewidth": 0,
              "ticks": ""
             }
            },
            "marker": {
             "colorbar": {
              "outlinewidth": 0,
              "ticks": ""
             }
            },
            "type": "scatter3d"
           }
          ],
          "scattercarpet": [
           {
            "marker": {
             "colorbar": {
              "outlinewidth": 0,
              "ticks": ""
             }
            },
            "type": "scattercarpet"
           }
          ],
          "scattergeo": [
           {
            "marker": {
             "colorbar": {
              "outlinewidth": 0,
              "ticks": ""
             }
            },
            "type": "scattergeo"
           }
          ],
          "scattergl": [
           {
            "marker": {
             "colorbar": {
              "outlinewidth": 0,
              "ticks": ""
             }
            },
            "type": "scattergl"
           }
          ],
          "scattermapbox": [
           {
            "marker": {
             "colorbar": {
              "outlinewidth": 0,
              "ticks": ""
             }
            },
            "type": "scattermapbox"
           }
          ],
          "scatterpolar": [
           {
            "marker": {
             "colorbar": {
              "outlinewidth": 0,
              "ticks": ""
             }
            },
            "type": "scatterpolar"
           }
          ],
          "scatterpolargl": [
           {
            "marker": {
             "colorbar": {
              "outlinewidth": 0,
              "ticks": ""
             }
            },
            "type": "scatterpolargl"
           }
          ],
          "scatterternary": [
           {
            "marker": {
             "colorbar": {
              "outlinewidth": 0,
              "ticks": ""
             }
            },
            "type": "scatterternary"
           }
          ],
          "surface": [
           {
            "colorbar": {
             "outlinewidth": 0,
             "ticks": ""
            },
            "colorscale": [
             [
              0,
              "#0d0887"
             ],
             [
              0.1111111111111111,
              "#46039f"
             ],
             [
              0.2222222222222222,
              "#7201a8"
             ],
             [
              0.3333333333333333,
              "#9c179e"
             ],
             [
              0.4444444444444444,
              "#bd3786"
             ],
             [
              0.5555555555555556,
              "#d8576b"
             ],
             [
              0.6666666666666666,
              "#ed7953"
             ],
             [
              0.7777777777777778,
              "#fb9f3a"
             ],
             [
              0.8888888888888888,
              "#fdca26"
             ],
             [
              1,
              "#f0f921"
             ]
            ],
            "type": "surface"
           }
          ],
          "table": [
           {
            "cells": {
             "fill": {
              "color": "#EBF0F8"
             },
             "line": {
              "color": "white"
             }
            },
            "header": {
             "fill": {
              "color": "#C8D4E3"
             },
             "line": {
              "color": "white"
             }
            },
            "type": "table"
           }
          ]
         },
         "layout": {
          "annotationdefaults": {
           "arrowcolor": "#2a3f5f",
           "arrowhead": 0,
           "arrowwidth": 1
          },
          "autotypenumbers": "strict",
          "coloraxis": {
           "colorbar": {
            "outlinewidth": 0,
            "ticks": ""
           }
          },
          "colorscale": {
           "diverging": [
            [
             0,
             "#8e0152"
            ],
            [
             0.1,
             "#c51b7d"
            ],
            [
             0.2,
             "#de77ae"
            ],
            [
             0.3,
             "#f1b6da"
            ],
            [
             0.4,
             "#fde0ef"
            ],
            [
             0.5,
             "#f7f7f7"
            ],
            [
             0.6,
             "#e6f5d0"
            ],
            [
             0.7,
             "#b8e186"
            ],
            [
             0.8,
             "#7fbc41"
            ],
            [
             0.9,
             "#4d9221"
            ],
            [
             1,
             "#276419"
            ]
           ],
           "sequential": [
            [
             0,
             "#0d0887"
            ],
            [
             0.1111111111111111,
             "#46039f"
            ],
            [
             0.2222222222222222,
             "#7201a8"
            ],
            [
             0.3333333333333333,
             "#9c179e"
            ],
            [
             0.4444444444444444,
             "#bd3786"
            ],
            [
             0.5555555555555556,
             "#d8576b"
            ],
            [
             0.6666666666666666,
             "#ed7953"
            ],
            [
             0.7777777777777778,
             "#fb9f3a"
            ],
            [
             0.8888888888888888,
             "#fdca26"
            ],
            [
             1,
             "#f0f921"
            ]
           ],
           "sequentialminus": [
            [
             0,
             "#0d0887"
            ],
            [
             0.1111111111111111,
             "#46039f"
            ],
            [
             0.2222222222222222,
             "#7201a8"
            ],
            [
             0.3333333333333333,
             "#9c179e"
            ],
            [
             0.4444444444444444,
             "#bd3786"
            ],
            [
             0.5555555555555556,
             "#d8576b"
            ],
            [
             0.6666666666666666,
             "#ed7953"
            ],
            [
             0.7777777777777778,
             "#fb9f3a"
            ],
            [
             0.8888888888888888,
             "#fdca26"
            ],
            [
             1,
             "#f0f921"
            ]
           ]
          },
          "colorway": [
           "#636efa",
           "#EF553B",
           "#00cc96",
           "#ab63fa",
           "#FFA15A",
           "#19d3f3",
           "#FF6692",
           "#B6E880",
           "#FF97FF",
           "#FECB52"
          ],
          "font": {
           "color": "#2a3f5f"
          },
          "geo": {
           "bgcolor": "white",
           "lakecolor": "white",
           "landcolor": "#E5ECF6",
           "showlakes": true,
           "showland": true,
           "subunitcolor": "white"
          },
          "hoverlabel": {
           "align": "left"
          },
          "hovermode": "closest",
          "mapbox": {
           "style": "light"
          },
          "paper_bgcolor": "white",
          "plot_bgcolor": "#E5ECF6",
          "polar": {
           "angularaxis": {
            "gridcolor": "white",
            "linecolor": "white",
            "ticks": ""
           },
           "bgcolor": "#E5ECF6",
           "radialaxis": {
            "gridcolor": "white",
            "linecolor": "white",
            "ticks": ""
           }
          },
          "scene": {
           "xaxis": {
            "backgroundcolor": "#E5ECF6",
            "gridcolor": "white",
            "gridwidth": 2,
            "linecolor": "white",
            "showbackground": true,
            "ticks": "",
            "zerolinecolor": "white"
           },
           "yaxis": {
            "backgroundcolor": "#E5ECF6",
            "gridcolor": "white",
            "gridwidth": 2,
            "linecolor": "white",
            "showbackground": true,
            "ticks": "",
            "zerolinecolor": "white"
           },
           "zaxis": {
            "backgroundcolor": "#E5ECF6",
            "gridcolor": "white",
            "gridwidth": 2,
            "linecolor": "white",
            "showbackground": true,
            "ticks": "",
            "zerolinecolor": "white"
           }
          },
          "shapedefaults": {
           "line": {
            "color": "#2a3f5f"
           }
          },
          "ternary": {
           "aaxis": {
            "gridcolor": "white",
            "linecolor": "white",
            "ticks": ""
           },
           "baxis": {
            "gridcolor": "white",
            "linecolor": "white",
            "ticks": ""
           },
           "bgcolor": "#E5ECF6",
           "caxis": {
            "gridcolor": "white",
            "linecolor": "white",
            "ticks": ""
           }
          },
          "title": {
           "x": 0.05
          },
          "xaxis": {
           "automargin": true,
           "gridcolor": "white",
           "linecolor": "white",
           "ticks": "",
           "title": {
            "standoff": 15
           },
           "zerolinecolor": "white",
           "zerolinewidth": 2
          },
          "yaxis": {
           "automargin": true,
           "gridcolor": "white",
           "linecolor": "white",
           "ticks": "",
           "title": {
            "standoff": 15
           },
           "zerolinecolor": "white",
           "zerolinewidth": 2
          }
         }
        },
        "width": 1000,
        "xaxis": {
         "anchor": "y",
         "domain": [
          0,
          1
         ],
         "gridcolor": "LightGrey",
         "range": [
          -7.395968383003183,
          5.501185400759708
         ],
         "showgrid": true,
         "title": {
          "text": "PC1"
         },
         "zeroline": true,
         "zerolinecolor": "LightGrey",
         "zerolinewidth": 1
        },
        "yaxis": {
         "anchor": "x",
         "domain": [
          0,
          1
         ],
         "gridcolor": "LightGrey",
         "range": [
          -5.263632334069526,
          4.702932447997484
         ],
         "showgrid": true,
         "title": {
          "text": "PC2"
         },
         "zeroline": true,
         "zerolinecolor": "LightGrey",
         "zerolinewidth": 1
        }
       }
      }
     },
     "metadata": {},
     "output_type": "display_data"
    },
    {
     "data": {
      "application/vnd.jupyter.widget-view+json": {
       "model_id": "54a526af0a3445a68f1927e4d9dc04f1",
       "version_major": 2,
       "version_minor": 0
      },
      "text/plain": [
       "interactive(children=(IntSlider(value=2019, description='Year:', max=2020, min=2005), Dropdown(description='X …"
      ]
     },
     "metadata": {},
     "output_type": "display_data"
    },
    {
     "data": {
      "application/vnd.plotly.v1+json": {
       "config": {
        "plotlyServerURL": "https://plot.ly"
       },
       "data": [
        {
         "customdata": [
          [
           "Kenya"
          ],
          [
           "Laos"
          ],
          [
           "Myanmar"
          ],
          [
           "Ghana"
          ],
          [
           "Ethiopia"
          ],
          [
           "Ivory Coast"
          ],
          [
           "India"
          ],
          [
           "Tanzania"
          ],
          [
           "Tajikistan"
          ],
          [
           "Zambia"
          ],
          [
           "Uganda"
          ],
          [
           "Nigeria"
          ],
          [
           "Philippines"
          ],
          [
           "Zimbabwe"
          ],
          [
           "Benin"
          ],
          [
           "Cameroon"
          ],
          [
           "Cambodia"
          ]
         ],
         "hovertemplate": "%{hovertext}",
         "hovertext": [
          "Kenya",
          "Laos",
          "Myanmar",
          "Ghana",
          "Ethiopia",
          "Ivory Coast",
          "India",
          "Tanzania",
          "Tajikistan",
          "Zambia",
          "Uganda",
          "Nigeria",
          "Philippines",
          "Zimbabwe",
          "Benin",
          "Cameroon",
          "Cambodia"
         ],
         "legendgroup": "0",
         "marker": {
          "color": "#228B22",
          "opacity": 0.4,
          "symbol": "circle"
         },
         "mode": "markers",
         "name": "0",
         "orientation": "v",
         "showlegend": true,
         "type": "scatter",
         "x": [
          -1.5354376547591355,
          -0.4199228699043918,
          -0.1710394711968143,
          -1.1442729086471497,
          -1.2687266748714308,
          -2.056478697631276,
          -1.2241919101134542,
          -1.2263415249873235,
          -0.2338630794652791,
          -1.6839348475610303,
          -2.1624654659310285,
          -1.6877563017067403,
          -0.0667561961163917,
          -2.674684599679655,
          -2.4953923011645287,
          -2.220670065857022,
          -0.6632694394123797
         ],
         "xaxis": "x",
         "y": [
          1.623819797831189,
          1.9734326391547805,
          2.981634982295749,
          1.6177963040462904,
          1.411719150976244,
          1.0508352886831651,
          1.24974470870805,
          2.505402007113029,
          1.1158196136995295,
          0.8442753219074025,
          1.138778585627111,
          1.1530547326174314,
          1.0730203529617033,
          0.2653087381346355,
          1.126864787928122,
          0.3999739518282878,
          1.8191361833266888
         ],
         "yaxis": "y"
        },
        {
         "customdata": [
          [
           "Venezuela"
          ],
          [
           "Jordan"
          ],
          [
           "Albania"
          ],
          [
           "Bangladesh"
          ],
          [
           "South Africa"
          ],
          [
           "North Macedonia"
          ],
          [
           "Bolivia"
          ],
          [
           "Namibia"
          ],
          [
           "Turkey"
          ],
          [
           "Tunisia"
          ],
          [
           "Morocco"
          ],
          [
           "Iran"
          ],
          [
           "Ecuador"
          ],
          [
           "Georgia"
          ],
          [
           "Iraq"
          ],
          [
           "Egypt"
          ]
         ],
         "hovertemplate": "%{hovertext}",
         "hovertext": [
          "Venezuela",
          "Jordan",
          "Albania",
          "Bangladesh",
          "South Africa",
          "North Macedonia",
          "Bolivia",
          "Namibia",
          "Turkey",
          "Tunisia",
          "Morocco",
          "Iran",
          "Ecuador",
          "Georgia",
          "Iraq",
          "Egypt"
         ],
         "legendgroup": "1",
         "marker": {
          "color": "#00BFFF",
          "opacity": 0.4,
          "symbol": "circle"
         },
         "mode": "markers",
         "name": "1",
         "orientation": "v",
         "showlegend": true,
         "type": "scatter",
         "x": [
          -1.0869643321104507,
          -1.3497542003651082,
          -0.2877151002729485,
          -0.9527408724499656,
          -0.3756524178165983,
          -0.6112250052118725,
          -0.1164562116237134,
          -1.6588997436340855,
          -1.6861012065469432,
          -1.9633432558848107,
          -1.6880525970150533,
          -1.369345945705939,
          -0.0802276204015011,
          -0.648785495612314,
          -2.006508241961608,
          -1.8737864494876613
         ],
         "xaxis": "x",
         "y": [
          -0.4083978219993869,
          -0.0695554753734139,
          -0.2999723888574257,
          0.475366473220345,
          0.262205165944345,
          -0.3139172368876927,
          0.4834571183468107,
          -0.3512327148760761,
          -2.095437609043043,
          -0.93975464405175,
          -0.3273911988494906,
          0.2247359411979015,
          -0.2404685613621055,
          -0.4521920645401124,
          0.0545612546875641,
          -0.0087990987648128
         ],
         "yaxis": "y"
        },
        {
         "customdata": [
          [
           "Colombia"
          ],
          [
           "Taiwan Province of China"
          ],
          [
           "Mongolia"
          ],
          [
           "Thailand"
          ],
          [
           "China"
          ],
          [
           "Saudi Arabia"
          ],
          [
           "Serbia"
          ],
          [
           "Argentina"
          ],
          [
           "El Salvador"
          ],
          [
           "Uruguay"
          ],
          [
           "Kyrgyzstan"
          ],
          [
           "Ukraine"
          ],
          [
           "United States"
          ],
          [
           "Cyprus"
          ],
          [
           "Dominican Republic"
          ],
          [
           "Mexico"
          ],
          [
           "Mauritius"
          ],
          [
           "Brazil"
          ],
          [
           "Chile"
          ]
         ],
         "hovertemplate": "%{hovertext}",
         "hovertext": [
          "Colombia",
          "Taiwan Province of China",
          "Mongolia",
          "Thailand",
          "China",
          "Saudi Arabia",
          "Serbia",
          "Argentina",
          "El Salvador",
          "Uruguay",
          "Kyrgyzstan",
          "Ukraine",
          "United States",
          "Cyprus",
          "Dominican Republic",
          "Mexico",
          "Mauritius",
          "Brazil",
          "Chile"
         ],
         "legendgroup": "2",
         "marker": {
          "color": "#FFD700",
          "opacity": 0.4,
          "symbol": "circle"
         },
         "mode": "markers",
         "name": "2",
         "orientation": "v",
         "showlegend": true,
         "type": "scatter",
         "x": [
          0.3903389172094655,
          2.7970931899933937,
          0.3468611916948299,
          0.852442760600476,
          1.0627047273712873,
          1.84886835369352,
          0.5597030778954137,
          0.8215918218091717,
          0.4084465531390249,
          2.2105249866743955,
          0.7591865167493215,
          0.180777961066337,
          2.3854196383347936,
          1.1490921290638154,
          0.3236502791463962,
          0.8106320190737994,
          1.3453360524139768,
          0.1942174923634481,
          1.1827055584709945
         ],
         "xaxis": "x",
         "y": [
          0.2223081391563166,
          -0.7322598996198422,
          -0.7306866092391716,
          0.9859639612425124,
          -0.5141572472359693,
          0.1651516928789712,
          -0.5263894308722421,
          -0.5137177006970308,
          1.0875747942138885,
          -0.1272316007952259,
          1.1321460777866494,
          -0.592497884622944,
          -0.450940170805835,
          -0.1934146214691905,
          0.1909285087209381,
          0.2590299635297005,
          0.2064647916019601,
          -0.0955030107068257,
          -0.0279281895128419
         ],
         "yaxis": "y"
        },
        {
         "customdata": [
          [
           "Slovakia"
          ],
          [
           "Croatia"
          ],
          [
           "South Korea"
          ],
          [
           "Czech Republic"
          ],
          [
           "Spain"
          ],
          [
           "Slovenia"
          ],
          [
           "Bulgaria"
          ],
          [
           "Hungary"
          ],
          [
           "Lithuania"
          ],
          [
           "Belgium"
          ],
          [
           "Greece"
          ],
          [
           "Bosnia and Herzegovina"
          ],
          [
           "Montenegro"
          ],
          [
           "Moldova"
          ],
          [
           "Latvia"
          ],
          [
           "Japan"
          ],
          [
           "Kazakhstan"
          ],
          [
           "Israel"
          ],
          [
           "Portugal"
          ],
          [
           "Italy"
          ],
          [
           "Poland"
          ],
          [
           "Russia"
          ],
          [
           "France"
          ]
         ],
         "hovertemplate": "%{hovertext}",
         "hovertext": [
          "Slovakia",
          "Croatia",
          "South Korea",
          "Czech Republic",
          "Spain",
          "Slovenia",
          "Bulgaria",
          "Hungary",
          "Lithuania",
          "Belgium",
          "Greece",
          "Bosnia and Herzegovina",
          "Montenegro",
          "Moldova",
          "Latvia",
          "Japan",
          "Kazakhstan",
          "Israel",
          "Portugal",
          "Italy",
          "Poland",
          "Russia",
          "France"
         ],
         "legendgroup": "3",
         "marker": {
          "color": "#DC143C",
          "opacity": 0.4,
          "symbol": "circle"
         },
         "mode": "markers",
         "name": "3",
         "orientation": "v",
         "showlegend": true,
         "type": "scatter",
         "x": [
          1.487520569128738,
          1.445893172631458,
          1.1987541215987558,
          2.30931334764908,
          1.6113389708392194,
          1.724903303594704,
          0.9350137297626132,
          1.3509585862493194,
          1.72249080550166,
          1.903563201450617,
          0.0132174429661495,
          0.2219956362475529,
          0.3541235969752062,
          0.608173642344638,
          1.5808037832950548,
          2.044187144689656,
          1.8261654544627044,
          1.9341576836758645,
          0.7807912491223612,
          1.0867430364914306,
          1.482714552479556,
          0.6290381378055568,
          2.5186078288953397
         ],
         "xaxis": "x",
         "y": [
          -1.405017225203957,
          -1.392447392953876,
          -2.0297685007425046,
          -1.2321525049740627,
          -1.3668448923974472,
          -1.5526205602724346,
          -0.9805666185757056,
          -1.6421934894789925,
          -2.1261878842657542,
          -1.8541275227044505,
          -1.9997907664172656,
          -0.7529328655633611,
          -1.402357604859258,
          -0.8962331417673929,
          -1.371296793410797,
          -1.4735008854133738,
          -0.8544570464037398,
          -0.7444822434835071,
          -1.7585986522385693,
          -1.7190012254574012,
          -1.1220186710867863,
          -2.007933379218965,
          -1.3991358705185335
         ],
         "yaxis": "y"
        },
        {
         "customdata": [
          [
           "United Kingdom"
          ],
          [
           "Denmark"
          ],
          [
           "United Arab Emirates"
          ],
          [
           "Canada"
          ],
          [
           "Finland"
          ],
          [
           "Bahrain"
          ],
          [
           "Ireland"
          ],
          [
           "Sweden"
          ],
          [
           "Switzerland"
          ],
          [
           "Netherlands"
          ],
          [
           "Norway"
          ],
          [
           "Austria"
          ],
          [
           "New Zealand"
          ],
          [
           "Germany"
          ],
          [
           "Malta"
          ],
          [
           "Hong Kong S.A.R. of China"
          ],
          [
           "Iceland"
          ],
          [
           "Australia"
          ],
          [
           "Estonia"
          ]
         ],
         "hovertemplate": "%{hovertext}",
         "hovertext": [
          "United Kingdom",
          "Denmark",
          "United Arab Emirates",
          "Canada",
          "Finland",
          "Bahrain",
          "Ireland",
          "Sweden",
          "Switzerland",
          "Netherlands",
          "Norway",
          "Austria",
          "New Zealand",
          "Germany",
          "Malta",
          "Hong Kong S.A.R. of China",
          "Iceland",
          "Australia",
          "Estonia"
         ],
         "legendgroup": "4",
         "marker": {
          "color": "#7851A9",
          "opacity": 0.4,
          "symbol": "circle"
         },
         "mode": "markers",
         "name": "4",
         "orientation": "v",
         "showlegend": true,
         "type": "scatter",
         "x": [
          2.9814051953665714,
          3.980309247000801,
          2.16236910871807,
          2.9497133314620374,
          3.983130208775105,
          2.0286866555135026,
          3.4820633029705705,
          3.807846646471559,
          3.875482119987662,
          3.815314336758525,
          4.01728989184696,
          3.295278905206983,
          3.755459032420645,
          3.099260192785497,
          1.6980496924124526,
          2.3340086499313144,
          3.847309353683495,
          3.277070197562608,
          3.052968480537076
         ],
         "xaxis": "x",
         "y": [
          0.5017253069222037,
          0.5367467316663812,
          0.9713652420578244,
          0.2131999430439403,
          -0.2882612105021824,
          1.165935173260183,
          -0.138123830772689,
          0.4037249032701467,
          -0.3264998951993155,
          0.670714184184725,
          0.5203496912446598,
          -0.2488018024105296,
          0.9549606277219164,
          -0.4477230078390874,
          0.1296319538938133,
          0.3214707076105987,
          0.2746647091268763,
          0.5864261400640589,
          -0.2027089215527426
         ],
         "yaxis": "y"
        },
        {
         "customdata": [
          [
           2010
          ],
          [
           2015
          ],
          [
           2014
          ],
          [
           2013
          ],
          [
           2012
          ],
          [
           2011
          ],
          [
           2016
          ],
          [
           2006
          ],
          [
           2018
          ],
          [
           2007
          ],
          [
           2008
          ],
          [
           2017
          ],
          [
           2009
          ],
          [
           2019
          ]
         ],
         "hovertemplate": "Azerbaijan<br>%{y}<extra></extra>",
         "hovertext": [
          "Azerbaijan",
          "Azerbaijan",
          "Azerbaijan",
          "Azerbaijan",
          "Azerbaijan",
          "Azerbaijan",
          "Azerbaijan",
          "Azerbaijan",
          "Azerbaijan",
          "Azerbaijan",
          "Azerbaijan",
          "Azerbaijan",
          "Azerbaijan",
          "Azerbaijan"
         ],
         "legendgroup": "",
         "line": {
          "color": "#636EFA",
          "dash": "solid"
         },
         "marker": {
          "symbol": "circle"
         },
         "mode": "lines",
         "name": "Azerbaijan",
         "orientation": "v",
         "showlegend": false,
         "type": "scatter",
         "x": [
          -2.2442694825450107,
          -0.2394808684746279,
          -0.3613457413522076,
          -0.5521895561949232,
          -1.2954792661924548,
          -1.703631441728858,
          -0.3034663762347614,
          -1.1381355937542843,
          -0.1478077009029313,
          -2.100860615916253,
          -1.3449640582733915,
          -0.3917731402648007,
          -1.6749427603022622,
          0.765404691741546
         ],
         "xaxis": "x",
         "y": [
          -1.1573927514088624,
          -0.3673659425790388,
          -0.587500878682798,
          -0.5688766559777984,
          -0.9044615815242346,
          -0.9633015575529568,
          -0.4987029475048644,
          -0.978880832550608,
          -0.4143964744508902,
          -1.4902147563427768,
          -0.2138530227903969,
          -0.6313924584447248,
          -0.9000703158197118,
          -0.0309357618556393
         ],
         "yaxis": "y"
        },
        {
         "customdata": [
          [
           "Azerbaijan"
          ],
          [
           "Azerbaijan"
          ],
          [
           "Azerbaijan"
          ],
          [
           "Azerbaijan"
          ],
          [
           "Azerbaijan"
          ],
          [
           "Azerbaijan"
          ],
          [
           "Azerbaijan"
          ],
          [
           "Azerbaijan"
          ],
          [
           "Azerbaijan"
          ],
          [
           "Azerbaijan"
          ],
          [
           "Azerbaijan"
          ],
          [
           "Azerbaijan"
          ],
          [
           "Azerbaijan"
          ],
          [
           "Azerbaijan"
          ]
         ],
         "hovertemplate": "%{hovertext}<extra>Azerbaijan</extra>",
         "hovertext": [
          2010,
          2015,
          2014,
          2013,
          2012,
          2011,
          2016,
          2006,
          2018,
          2007,
          2008,
          2017,
          2009,
          2019
         ],
         "legendgroup": "",
         "marker": {
          "color": "#636EFA",
          "symbol": "circle"
         },
         "mode": "markers",
         "name": "",
         "orientation": "v",
         "showlegend": false,
         "type": "scatter",
         "x": [
          -2.2442694825450107,
          -0.2394808684746279,
          -0.3613457413522076,
          -0.5521895561949232,
          -1.2954792661924548,
          -1.703631441728858,
          -0.3034663762347614,
          -1.1381355937542843,
          -0.1478077009029313,
          -2.100860615916253,
          -1.3449640582733915,
          -0.3917731402648007,
          -1.6749427603022622,
          0.765404691741546
         ],
         "xaxis": "x",
         "y": [
          -1.1573927514088624,
          -0.3673659425790388,
          -0.587500878682798,
          -0.5688766559777984,
          -0.9044615815242346,
          -0.9633015575529568,
          -0.4987029475048644,
          -0.978880832550608,
          -0.4143964744508902,
          -1.4902147563427768,
          -0.2138530227903969,
          -0.6313924584447248,
          -0.9000703158197118,
          -0.0309357618556393
         ],
         "yaxis": "y"
        }
       ],
       "layout": {
        "height": 700,
        "legend": {
         "orientation": "h",
         "title": {
          "text": "cluster"
         },
         "tracegroupgap": 0,
         "x": 0.5,
         "xanchor": "center",
         "y": -0.15,
         "yanchor": "bottom"
        },
        "margin": {
         "t": 60
        },
        "plot_bgcolor": "white",
        "template": {
         "data": {
          "bar": [
           {
            "error_x": {
             "color": "#2a3f5f"
            },
            "error_y": {
             "color": "#2a3f5f"
            },
            "marker": {
             "line": {
              "color": "#E5ECF6",
              "width": 0.5
             },
             "pattern": {
              "fillmode": "overlay",
              "size": 10,
              "solidity": 0.2
             }
            },
            "type": "bar"
           }
          ],
          "barpolar": [
           {
            "marker": {
             "line": {
              "color": "#E5ECF6",
              "width": 0.5
             },
             "pattern": {
              "fillmode": "overlay",
              "size": 10,
              "solidity": 0.2
             }
            },
            "type": "barpolar"
           }
          ],
          "carpet": [
           {
            "aaxis": {
             "endlinecolor": "#2a3f5f",
             "gridcolor": "white",
             "linecolor": "white",
             "minorgridcolor": "white",
             "startlinecolor": "#2a3f5f"
            },
            "baxis": {
             "endlinecolor": "#2a3f5f",
             "gridcolor": "white",
             "linecolor": "white",
             "minorgridcolor": "white",
             "startlinecolor": "#2a3f5f"
            },
            "type": "carpet"
           }
          ],
          "choropleth": [
           {
            "colorbar": {
             "outlinewidth": 0,
             "ticks": ""
            },
            "type": "choropleth"
           }
          ],
          "contour": [
           {
            "colorbar": {
             "outlinewidth": 0,
             "ticks": ""
            },
            "colorscale": [
             [
              0,
              "#0d0887"
             ],
             [
              0.1111111111111111,
              "#46039f"
             ],
             [
              0.2222222222222222,
              "#7201a8"
             ],
             [
              0.3333333333333333,
              "#9c179e"
             ],
             [
              0.4444444444444444,
              "#bd3786"
             ],
             [
              0.5555555555555556,
              "#d8576b"
             ],
             [
              0.6666666666666666,
              "#ed7953"
             ],
             [
              0.7777777777777778,
              "#fb9f3a"
             ],
             [
              0.8888888888888888,
              "#fdca26"
             ],
             [
              1,
              "#f0f921"
             ]
            ],
            "type": "contour"
           }
          ],
          "contourcarpet": [
           {
            "colorbar": {
             "outlinewidth": 0,
             "ticks": ""
            },
            "type": "contourcarpet"
           }
          ],
          "heatmap": [
           {
            "colorbar": {
             "outlinewidth": 0,
             "ticks": ""
            },
            "colorscale": [
             [
              0,
              "#0d0887"
             ],
             [
              0.1111111111111111,
              "#46039f"
             ],
             [
              0.2222222222222222,
              "#7201a8"
             ],
             [
              0.3333333333333333,
              "#9c179e"
             ],
             [
              0.4444444444444444,
              "#bd3786"
             ],
             [
              0.5555555555555556,
              "#d8576b"
             ],
             [
              0.6666666666666666,
              "#ed7953"
             ],
             [
              0.7777777777777778,
              "#fb9f3a"
             ],
             [
              0.8888888888888888,
              "#fdca26"
             ],
             [
              1,
              "#f0f921"
             ]
            ],
            "type": "heatmap"
           }
          ],
          "heatmapgl": [
           {
            "colorbar": {
             "outlinewidth": 0,
             "ticks": ""
            },
            "colorscale": [
             [
              0,
              "#0d0887"
             ],
             [
              0.1111111111111111,
              "#46039f"
             ],
             [
              0.2222222222222222,
              "#7201a8"
             ],
             [
              0.3333333333333333,
              "#9c179e"
             ],
             [
              0.4444444444444444,
              "#bd3786"
             ],
             [
              0.5555555555555556,
              "#d8576b"
             ],
             [
              0.6666666666666666,
              "#ed7953"
             ],
             [
              0.7777777777777778,
              "#fb9f3a"
             ],
             [
              0.8888888888888888,
              "#fdca26"
             ],
             [
              1,
              "#f0f921"
             ]
            ],
            "type": "heatmapgl"
           }
          ],
          "histogram": [
           {
            "marker": {
             "pattern": {
              "fillmode": "overlay",
              "size": 10,
              "solidity": 0.2
             }
            },
            "type": "histogram"
           }
          ],
          "histogram2d": [
           {
            "colorbar": {
             "outlinewidth": 0,
             "ticks": ""
            },
            "colorscale": [
             [
              0,
              "#0d0887"
             ],
             [
              0.1111111111111111,
              "#46039f"
             ],
             [
              0.2222222222222222,
              "#7201a8"
             ],
             [
              0.3333333333333333,
              "#9c179e"
             ],
             [
              0.4444444444444444,
              "#bd3786"
             ],
             [
              0.5555555555555556,
              "#d8576b"
             ],
             [
              0.6666666666666666,
              "#ed7953"
             ],
             [
              0.7777777777777778,
              "#fb9f3a"
             ],
             [
              0.8888888888888888,
              "#fdca26"
             ],
             [
              1,
              "#f0f921"
             ]
            ],
            "type": "histogram2d"
           }
          ],
          "histogram2dcontour": [
           {
            "colorbar": {
             "outlinewidth": 0,
             "ticks": ""
            },
            "colorscale": [
             [
              0,
              "#0d0887"
             ],
             [
              0.1111111111111111,
              "#46039f"
             ],
             [
              0.2222222222222222,
              "#7201a8"
             ],
             [
              0.3333333333333333,
              "#9c179e"
             ],
             [
              0.4444444444444444,
              "#bd3786"
             ],
             [
              0.5555555555555556,
              "#d8576b"
             ],
             [
              0.6666666666666666,
              "#ed7953"
             ],
             [
              0.7777777777777778,
              "#fb9f3a"
             ],
             [
              0.8888888888888888,
              "#fdca26"
             ],
             [
              1,
              "#f0f921"
             ]
            ],
            "type": "histogram2dcontour"
           }
          ],
          "mesh3d": [
           {
            "colorbar": {
             "outlinewidth": 0,
             "ticks": ""
            },
            "type": "mesh3d"
           }
          ],
          "parcoords": [
           {
            "line": {
             "colorbar": {
              "outlinewidth": 0,
              "ticks": ""
             }
            },
            "type": "parcoords"
           }
          ],
          "pie": [
           {
            "automargin": true,
            "type": "pie"
           }
          ],
          "scatter": [
           {
            "fillpattern": {
             "fillmode": "overlay",
             "size": 10,
             "solidity": 0.2
            },
            "type": "scatter"
           }
          ],
          "scatter3d": [
           {
            "line": {
             "colorbar": {
              "outlinewidth": 0,
              "ticks": ""
             }
            },
            "marker": {
             "colorbar": {
              "outlinewidth": 0,
              "ticks": ""
             }
            },
            "type": "scatter3d"
           }
          ],
          "scattercarpet": [
           {
            "marker": {
             "colorbar": {
              "outlinewidth": 0,
              "ticks": ""
             }
            },
            "type": "scattercarpet"
           }
          ],
          "scattergeo": [
           {
            "marker": {
             "colorbar": {
              "outlinewidth": 0,
              "ticks": ""
             }
            },
            "type": "scattergeo"
           }
          ],
          "scattergl": [
           {
            "marker": {
             "colorbar": {
              "outlinewidth": 0,
              "ticks": ""
             }
            },
            "type": "scattergl"
           }
          ],
          "scattermapbox": [
           {
            "marker": {
             "colorbar": {
              "outlinewidth": 0,
              "ticks": ""
             }
            },
            "type": "scattermapbox"
           }
          ],
          "scatterpolar": [
           {
            "marker": {
             "colorbar": {
              "outlinewidth": 0,
              "ticks": ""
             }
            },
            "type": "scatterpolar"
           }
          ],
          "scatterpolargl": [
           {
            "marker": {
             "colorbar": {
              "outlinewidth": 0,
              "ticks": ""
             }
            },
            "type": "scatterpolargl"
           }
          ],
          "scatterternary": [
           {
            "marker": {
             "colorbar": {
              "outlinewidth": 0,
              "ticks": ""
             }
            },
            "type": "scatterternary"
           }
          ],
          "surface": [
           {
            "colorbar": {
             "outlinewidth": 0,
             "ticks": ""
            },
            "colorscale": [
             [
              0,
              "#0d0887"
             ],
             [
              0.1111111111111111,
              "#46039f"
             ],
             [
              0.2222222222222222,
              "#7201a8"
             ],
             [
              0.3333333333333333,
              "#9c179e"
             ],
             [
              0.4444444444444444,
              "#bd3786"
             ],
             [
              0.5555555555555556,
              "#d8576b"
             ],
             [
              0.6666666666666666,
              "#ed7953"
             ],
             [
              0.7777777777777778,
              "#fb9f3a"
             ],
             [
              0.8888888888888888,
              "#fdca26"
             ],
             [
              1,
              "#f0f921"
             ]
            ],
            "type": "surface"
           }
          ],
          "table": [
           {
            "cells": {
             "fill": {
              "color": "#EBF0F8"
             },
             "line": {
              "color": "white"
             }
            },
            "header": {
             "fill": {
              "color": "#C8D4E3"
             },
             "line": {
              "color": "white"
             }
            },
            "type": "table"
           }
          ]
         },
         "layout": {
          "annotationdefaults": {
           "arrowcolor": "#2a3f5f",
           "arrowhead": 0,
           "arrowwidth": 1
          },
          "autotypenumbers": "strict",
          "coloraxis": {
           "colorbar": {
            "outlinewidth": 0,
            "ticks": ""
           }
          },
          "colorscale": {
           "diverging": [
            [
             0,
             "#8e0152"
            ],
            [
             0.1,
             "#c51b7d"
            ],
            [
             0.2,
             "#de77ae"
            ],
            [
             0.3,
             "#f1b6da"
            ],
            [
             0.4,
             "#fde0ef"
            ],
            [
             0.5,
             "#f7f7f7"
            ],
            [
             0.6,
             "#e6f5d0"
            ],
            [
             0.7,
             "#b8e186"
            ],
            [
             0.8,
             "#7fbc41"
            ],
            [
             0.9,
             "#4d9221"
            ],
            [
             1,
             "#276419"
            ]
           ],
           "sequential": [
            [
             0,
             "#0d0887"
            ],
            [
             0.1111111111111111,
             "#46039f"
            ],
            [
             0.2222222222222222,
             "#7201a8"
            ],
            [
             0.3333333333333333,
             "#9c179e"
            ],
            [
             0.4444444444444444,
             "#bd3786"
            ],
            [
             0.5555555555555556,
             "#d8576b"
            ],
            [
             0.6666666666666666,
             "#ed7953"
            ],
            [
             0.7777777777777778,
             "#fb9f3a"
            ],
            [
             0.8888888888888888,
             "#fdca26"
            ],
            [
             1,
             "#f0f921"
            ]
           ],
           "sequentialminus": [
            [
             0,
             "#0d0887"
            ],
            [
             0.1111111111111111,
             "#46039f"
            ],
            [
             0.2222222222222222,
             "#7201a8"
            ],
            [
             0.3333333333333333,
             "#9c179e"
            ],
            [
             0.4444444444444444,
             "#bd3786"
            ],
            [
             0.5555555555555556,
             "#d8576b"
            ],
            [
             0.6666666666666666,
             "#ed7953"
            ],
            [
             0.7777777777777778,
             "#fb9f3a"
            ],
            [
             0.8888888888888888,
             "#fdca26"
            ],
            [
             1,
             "#f0f921"
            ]
           ]
          },
          "colorway": [
           "#636efa",
           "#EF553B",
           "#00cc96",
           "#ab63fa",
           "#FFA15A",
           "#19d3f3",
           "#FF6692",
           "#B6E880",
           "#FF97FF",
           "#FECB52"
          ],
          "font": {
           "color": "#2a3f5f"
          },
          "geo": {
           "bgcolor": "white",
           "lakecolor": "white",
           "landcolor": "#E5ECF6",
           "showlakes": true,
           "showland": true,
           "subunitcolor": "white"
          },
          "hoverlabel": {
           "align": "left"
          },
          "hovermode": "closest",
          "mapbox": {
           "style": "light"
          },
          "paper_bgcolor": "white",
          "plot_bgcolor": "#E5ECF6",
          "polar": {
           "angularaxis": {
            "gridcolor": "white",
            "linecolor": "white",
            "ticks": ""
           },
           "bgcolor": "#E5ECF6",
           "radialaxis": {
            "gridcolor": "white",
            "linecolor": "white",
            "ticks": ""
           }
          },
          "scene": {
           "xaxis": {
            "backgroundcolor": "#E5ECF6",
            "gridcolor": "white",
            "gridwidth": 2,
            "linecolor": "white",
            "showbackground": true,
            "ticks": "",
            "zerolinecolor": "white"
           },
           "yaxis": {
            "backgroundcolor": "#E5ECF6",
            "gridcolor": "white",
            "gridwidth": 2,
            "linecolor": "white",
            "showbackground": true,
            "ticks": "",
            "zerolinecolor": "white"
           },
           "zaxis": {
            "backgroundcolor": "#E5ECF6",
            "gridcolor": "white",
            "gridwidth": 2,
            "linecolor": "white",
            "showbackground": true,
            "ticks": "",
            "zerolinecolor": "white"
           }
          },
          "shapedefaults": {
           "line": {
            "color": "#2a3f5f"
           }
          },
          "ternary": {
           "aaxis": {
            "gridcolor": "white",
            "linecolor": "white",
            "ticks": ""
           },
           "baxis": {
            "gridcolor": "white",
            "linecolor": "white",
            "ticks": ""
           },
           "bgcolor": "#E5ECF6",
           "caxis": {
            "gridcolor": "white",
            "linecolor": "white",
            "ticks": ""
           }
          },
          "title": {
           "x": 0.05
          },
          "xaxis": {
           "automargin": true,
           "gridcolor": "white",
           "linecolor": "white",
           "ticks": "",
           "title": {
            "standoff": 15
           },
           "zerolinecolor": "white",
           "zerolinewidth": 2
          },
          "yaxis": {
           "automargin": true,
           "gridcolor": "white",
           "linecolor": "white",
           "ticks": "",
           "title": {
            "standoff": 15
           },
           "zerolinecolor": "white",
           "zerolinewidth": 2
          }
         }
        },
        "width": 1000,
        "xaxis": {
         "anchor": "y",
         "domain": [
          0,
          1
         ],
         "gridcolor": "LightGrey",
         "range": [
          -7.395968383003183,
          5.501185400759708
         ],
         "showgrid": true,
         "title": {
          "text": "PC1"
         },
         "zeroline": true,
         "zerolinecolor": "LightGrey",
         "zerolinewidth": 1
        },
        "yaxis": {
         "anchor": "x",
         "domain": [
          0,
          1
         ],
         "gridcolor": "LightGrey",
         "range": [
          -5.263632334069526,
          4.702932447997484
         ],
         "showgrid": true,
         "title": {
          "text": "PC2"
         },
         "zeroline": true,
         "zerolinecolor": "LightGrey",
         "zerolinewidth": 1
        }
       }
      }
     },
     "metadata": {},
     "output_type": "display_data"
    },
    {
     "data": {
      "text/plain": [
       "<function __main__.interactive_plot_scatter2(year, x_axis, y_axis, selected_countries)>"
      ]
     },
     "execution_count": 32,
     "metadata": {},
     "output_type": "execute_result"
    }
   ],
   "source": [
    "def interactive_plot_scatter2(year, x_axis, y_axis, selected_countries):\n",
    "    \n",
    "    filtered_data = cluster_data[cluster_data['year'] <= year]\n",
    "    print(f\"{len(filtered_data[filtered_data['year'] == year])} data points from year {year}\")\n",
    "\n",
    "    filtered_data = filtered_data.sort_values(by=['cluster'])\n",
    "    \n",
    "    #Define a fixed color scheme for clusters\n",
    "    color_map = {\n",
    "        '0': '#228B22', \n",
    "        '1': '#00BFFF',    \n",
    "        '2': '#FFD700',  \n",
    "        '3': '#DC143C',\n",
    "        '4': '#7851A9'\n",
    "    }\n",
    "\n",
    "    #Assign unique colors for each selected country\n",
    "    unique_colors = get_unique_colors(len(selected_countries))\n",
    "\n",
    "    # Create the main scatter plot\n",
    "    fig = px.scatter(filtered_data[filtered_data['year'] == year], \n",
    "                 x=x_axis, y=y_axis, color='cluster', \n",
    "                 range_x = [np.min(cluster_data[x_axis])-0.5, np.max(cluster_data[x_axis])+0.5],\n",
    "                 range_y = [np.min(cluster_data[y_axis])-0.5, np.max(cluster_data[y_axis])+0.5],\n",
    "                 hover_name='country',  # Set hover name to 'country'\n",
    "                 hover_data={'country': False, x_axis: False, y_axis: False},  # Include only country in hover data\n",
    "                 opacity=0.4 if selected_countries else 1,  # Adjust opacity\n",
    "                 color_discrete_map=color_map)\n",
    "\n",
    "    fig.update_traces(hovertemplate='%{hovertext}')\n",
    "\n",
    "    #Add lines and points for selected countries\n",
    "    for i, country in enumerate(selected_countries):\n",
    "        country_data = filtered_data[filtered_data['country'] == country]\n",
    "        country_color = unique_colors[i % len(unique_colors)]\n",
    "        \n",
    "        #Add line trace for each country\n",
    "        line_trace = px.line(country_data, x=x_axis, y=y_axis, \n",
    "                             color_discrete_sequence=[country_color],\n",
    "                             hover_name='country', hover_data=['year']).data[0]\n",
    "        line_trace.name = country  # Assign country name to the line trace for the legend\n",
    "        line_trace.hovertemplate = f\"{country}<br>%{{y}}<extra></extra>\"  # Custom hover template\n",
    "        \n",
    "        fig.add_trace(line_trace)\n",
    "    \n",
    "        #Add scatter trace for points on the line\n",
    "        point_trace = px.scatter(country_data, x=x_axis, y=y_axis, \n",
    "                                 color_discrete_sequence=[country_color], \n",
    "                                 hover_name='year', hover_data=['country']).data[0]\n",
    "        point_trace.hovertemplate = f\"%{{hovertext}}<extra>{country}</extra>\"  # Custom hover template\n",
    "    \n",
    "        fig.add_trace(point_trace)\n",
    "\n",
    "\n",
    "    #Update layout of the plot\n",
    "    fig.update_layout(\n",
    "        plot_bgcolor='white', \n",
    "        width=1000,  \n",
    "        height=700,  \n",
    "        legend=dict(\n",
    "            orientation=\"h\", \n",
    "            yanchor=\"bottom\",\n",
    "            y=-0.15,  \n",
    "            xanchor=\"center\",\n",
    "            x=0.5\n",
    "        ),\n",
    "        xaxis=dict(\n",
    "            showgrid=True,\n",
    "            gridcolor='LightGrey',\n",
    "            zeroline=True,\n",
    "            zerolinecolor='LightGrey',\n",
    "            zerolinewidth=1\n",
    "        ),\n",
    "        yaxis=dict(\n",
    "            showgrid=True,\n",
    "            gridcolor='LightGrey',\n",
    "            zeroline=True,\n",
    "            zerolinecolor='LightGrey',\n",
    "            zerolinewidth=1\n",
    "        )\n",
    "    )\n",
    "    \n",
    "    fig.show()\n",
    "\n",
    "#Widgets for user interaction\n",
    "year_slider = widgets.IntSlider(value=2019, min=cluster_data['year'].min(), max=cluster_data['year'].max(), step=1, description='Year:')\n",
    "country_selection = widgets.SelectMultiple(options=cluster_data['country'].unique(), value=[], description='Countries', disabled=False)\n",
    "\n",
    "#Dropdown for selecting x and y axis variables\n",
    "variables = plotting_variables\n",
    "x_axis_dropdown = widgets.Dropdown(options=variables, value='PC1', description='X Axis:')\n",
    "y_axis_dropdown = widgets.Dropdown(options=variables, value='PC2', description='Y Axis:')\n",
    "\n",
    "#Display the interactive widgets\n",
    "interact(interactive_plot_scatter2, year=year_slider, x_axis=x_axis_dropdown, y_axis=y_axis_dropdown, selected_countries=country_selection)"
   ]
  },
  {
   "cell_type": "code",
   "execution_count": 34,
   "id": "48af3380-7b1e-404f-b454-a7ccf8ddff63",
   "metadata": {},
   "outputs": [
    {
     "data": {
      "text/html": [
       "<div>\n",
       "<style scoped>\n",
       "    .dataframe tbody tr th:only-of-type {\n",
       "        vertical-align: middle;\n",
       "    }\n",
       "\n",
       "    .dataframe tbody tr th {\n",
       "        vertical-align: top;\n",
       "    }\n",
       "\n",
       "    .dataframe thead th {\n",
       "        text-align: right;\n",
       "    }\n",
       "</style>\n",
       "<table border=\"1\" class=\"dataframe\">\n",
       "  <thead>\n",
       "    <tr style=\"text-align: right;\">\n",
       "      <th></th>\n",
       "      <th>year</th>\n",
       "      <th>life_ladder</th>\n",
       "      <th>log_gdp_per_capita</th>\n",
       "      <th>social_suppoprt</th>\n",
       "      <th>healthy_life_exp_at_birth</th>\n",
       "      <th>freedom_to_make_life_choices</th>\n",
       "      <th>generosity</th>\n",
       "      <th>perceptions_of_corruption</th>\n",
       "      <th>positive_affect</th>\n",
       "      <th>negative_affect</th>\n",
       "      <th>pop_density</th>\n",
       "      <th>suicide_rate</th>\n",
       "      <th>country</th>\n",
       "      <th>region</th>\n",
       "      <th>continent</th>\n",
       "      <th>PC1</th>\n",
       "      <th>PC2</th>\n",
       "      <th>PC3</th>\n",
       "      <th>cluster</th>\n",
       "    </tr>\n",
       "  </thead>\n",
       "  <tbody>\n",
       "    <tr>\n",
       "      <th>0</th>\n",
       "      <td>2008.0</td>\n",
       "      <td>3.724</td>\n",
       "      <td>7.370</td>\n",
       "      <td>0.451</td>\n",
       "      <td>50.80</td>\n",
       "      <td>0.718</td>\n",
       "      <td>0.168</td>\n",
       "      <td>0.882</td>\n",
       "      <td>0.518</td>\n",
       "      <td>0.258</td>\n",
       "      <td>40.518221</td>\n",
       "      <td>4.6</td>\n",
       "      <td>Afghanistan</td>\n",
       "      <td>Southern Asia</td>\n",
       "      <td>Asia</td>\n",
       "      <td>-3.906165</td>\n",
       "      <td>1.520131</td>\n",
       "      <td>-0.403055</td>\n",
       "      <td>0</td>\n",
       "    </tr>\n",
       "    <tr>\n",
       "      <th>1</th>\n",
       "      <td>2009.0</td>\n",
       "      <td>4.402</td>\n",
       "      <td>7.540</td>\n",
       "      <td>0.552</td>\n",
       "      <td>51.20</td>\n",
       "      <td>0.679</td>\n",
       "      <td>0.190</td>\n",
       "      <td>0.850</td>\n",
       "      <td>0.584</td>\n",
       "      <td>0.237</td>\n",
       "      <td>41.987193</td>\n",
       "      <td>4.4</td>\n",
       "      <td>Afghanistan</td>\n",
       "      <td>Southern Asia</td>\n",
       "      <td>Asia</td>\n",
       "      <td>-3.044270</td>\n",
       "      <td>1.529720</td>\n",
       "      <td>-0.043639</td>\n",
       "      <td>0</td>\n",
       "    </tr>\n",
       "    <tr>\n",
       "      <th>2</th>\n",
       "      <td>2010.0</td>\n",
       "      <td>4.758</td>\n",
       "      <td>7.647</td>\n",
       "      <td>0.539</td>\n",
       "      <td>51.60</td>\n",
       "      <td>0.600</td>\n",
       "      <td>0.121</td>\n",
       "      <td>0.707</td>\n",
       "      <td>0.618</td>\n",
       "      <td>0.275</td>\n",
       "      <td>43.220447</td>\n",
       "      <td>4.3</td>\n",
       "      <td>Afghanistan</td>\n",
       "      <td>Southern Asia</td>\n",
       "      <td>Asia</td>\n",
       "      <td>-2.923549</td>\n",
       "      <td>1.409665</td>\n",
       "      <td>-0.416828</td>\n",
       "      <td>0</td>\n",
       "    </tr>\n",
       "    <tr>\n",
       "      <th>3</th>\n",
       "      <td>2011.0</td>\n",
       "      <td>3.832</td>\n",
       "      <td>7.620</td>\n",
       "      <td>0.521</td>\n",
       "      <td>51.92</td>\n",
       "      <td>0.496</td>\n",
       "      <td>0.162</td>\n",
       "      <td>0.731</td>\n",
       "      <td>0.611</td>\n",
       "      <td>0.267</td>\n",
       "      <td>44.844851</td>\n",
       "      <td>4.1</td>\n",
       "      <td>Afghanistan</td>\n",
       "      <td>Southern Asia</td>\n",
       "      <td>Asia</td>\n",
       "      <td>-3.564866</td>\n",
       "      <td>1.328797</td>\n",
       "      <td>-0.505837</td>\n",
       "      <td>0</td>\n",
       "    </tr>\n",
       "    <tr>\n",
       "      <th>4</th>\n",
       "      <td>2012.0</td>\n",
       "      <td>3.783</td>\n",
       "      <td>7.705</td>\n",
       "      <td>0.521</td>\n",
       "      <td>52.24</td>\n",
       "      <td>0.531</td>\n",
       "      <td>0.236</td>\n",
       "      <td>0.776</td>\n",
       "      <td>0.710</td>\n",
       "      <td>0.268</td>\n",
       "      <td>46.711251</td>\n",
       "      <td>4.0</td>\n",
       "      <td>Afghanistan</td>\n",
       "      <td>Southern Asia</td>\n",
       "      <td>Asia</td>\n",
       "      <td>-3.196211</td>\n",
       "      <td>1.868501</td>\n",
       "      <td>-0.106653</td>\n",
       "      <td>0</td>\n",
       "    </tr>\n",
       "  </tbody>\n",
       "</table>\n",
       "</div>"
      ],
      "text/plain": [
       "     year  life_ladder  log_gdp_per_capita  social_suppoprt  \\\n",
       "0  2008.0        3.724               7.370            0.451   \n",
       "1  2009.0        4.402               7.540            0.552   \n",
       "2  2010.0        4.758               7.647            0.539   \n",
       "3  2011.0        3.832               7.620            0.521   \n",
       "4  2012.0        3.783               7.705            0.521   \n",
       "\n",
       "   healthy_life_exp_at_birth  freedom_to_make_life_choices  generosity  \\\n",
       "0                      50.80                         0.718       0.168   \n",
       "1                      51.20                         0.679       0.190   \n",
       "2                      51.60                         0.600       0.121   \n",
       "3                      51.92                         0.496       0.162   \n",
       "4                      52.24                         0.531       0.236   \n",
       "\n",
       "   perceptions_of_corruption  positive_affect  negative_affect  pop_density  \\\n",
       "0                      0.882            0.518            0.258    40.518221   \n",
       "1                      0.850            0.584            0.237    41.987193   \n",
       "2                      0.707            0.618            0.275    43.220447   \n",
       "3                      0.731            0.611            0.267    44.844851   \n",
       "4                      0.776            0.710            0.268    46.711251   \n",
       "\n",
       "   suicide_rate      country         region continent       PC1       PC2  \\\n",
       "0           4.6  Afghanistan  Southern Asia      Asia -3.906165  1.520131   \n",
       "1           4.4  Afghanistan  Southern Asia      Asia -3.044270  1.529720   \n",
       "2           4.3  Afghanistan  Southern Asia      Asia -2.923549  1.409665   \n",
       "3           4.1  Afghanistan  Southern Asia      Asia -3.564866  1.328797   \n",
       "4           4.0  Afghanistan  Southern Asia      Asia -3.196211  1.868501   \n",
       "\n",
       "        PC3 cluster  \n",
       "0 -0.403055       0  \n",
       "1 -0.043639       0  \n",
       "2 -0.416828       0  \n",
       "3 -0.505837       0  \n",
       "4 -0.106653       0  "
      ]
     },
     "execution_count": 34,
     "metadata": {},
     "output_type": "execute_result"
    }
   ],
   "source": [
    "cluster_data.head()"
   ]
  },
  {
   "cell_type": "code",
   "execution_count": 35,
   "id": "1279bef6-e7fa-4931-bfea-12fdd0ae2cc9",
   "metadata": {},
   "outputs": [],
   "source": [
    "cluster_data_lineplot = cluster_data.copy()\n",
    "\n",
    "cluster_data_lineplot['cluster'] = cluster_data_lineplot['cluster'].astype(int)"
   ]
  },
  {
   "cell_type": "code",
   "execution_count": 36,
   "id": "66fac5d5-82b4-4adf-a3a9-b878269ff808",
   "metadata": {},
   "outputs": [
    {
     "data": {
      "application/vnd.plotly.v1+json": {
       "config": {
        "plotlyServerURL": "https://plot.ly"
       },
       "data": [
        {
         "hovertemplate": "<extra></extra>",
         "legendgroup": "",
         "line": {
          "color": "#636efa",
          "dash": "solid"
         },
         "marker": {
          "symbol": "circle"
         },
         "mode": "lines",
         "name": "",
         "orientation": "v",
         "showlegend": false,
         "type": "scatter",
         "xaxis": "x",
         "yaxis": "y"
        }
       ],
       "layout": {
        "height": 700,
        "legend": {
         "orientation": "h",
         "title": {
          "text": "Country"
         },
         "tracegroupgap": 0,
         "x": 0.5,
         "xanchor": "center",
         "y": -0.15,
         "yanchor": "bottom"
        },
        "margin": {
         "t": 60
        },
        "plot_bgcolor": "white",
        "showlegend": true,
        "template": {
         "data": {
          "bar": [
           {
            "error_x": {
             "color": "#2a3f5f"
            },
            "error_y": {
             "color": "#2a3f5f"
            },
            "marker": {
             "line": {
              "color": "#E5ECF6",
              "width": 0.5
             },
             "pattern": {
              "fillmode": "overlay",
              "size": 10,
              "solidity": 0.2
             }
            },
            "type": "bar"
           }
          ],
          "barpolar": [
           {
            "marker": {
             "line": {
              "color": "#E5ECF6",
              "width": 0.5
             },
             "pattern": {
              "fillmode": "overlay",
              "size": 10,
              "solidity": 0.2
             }
            },
            "type": "barpolar"
           }
          ],
          "carpet": [
           {
            "aaxis": {
             "endlinecolor": "#2a3f5f",
             "gridcolor": "white",
             "linecolor": "white",
             "minorgridcolor": "white",
             "startlinecolor": "#2a3f5f"
            },
            "baxis": {
             "endlinecolor": "#2a3f5f",
             "gridcolor": "white",
             "linecolor": "white",
             "minorgridcolor": "white",
             "startlinecolor": "#2a3f5f"
            },
            "type": "carpet"
           }
          ],
          "choropleth": [
           {
            "colorbar": {
             "outlinewidth": 0,
             "ticks": ""
            },
            "type": "choropleth"
           }
          ],
          "contour": [
           {
            "colorbar": {
             "outlinewidth": 0,
             "ticks": ""
            },
            "colorscale": [
             [
              0,
              "#0d0887"
             ],
             [
              0.1111111111111111,
              "#46039f"
             ],
             [
              0.2222222222222222,
              "#7201a8"
             ],
             [
              0.3333333333333333,
              "#9c179e"
             ],
             [
              0.4444444444444444,
              "#bd3786"
             ],
             [
              0.5555555555555556,
              "#d8576b"
             ],
             [
              0.6666666666666666,
              "#ed7953"
             ],
             [
              0.7777777777777778,
              "#fb9f3a"
             ],
             [
              0.8888888888888888,
              "#fdca26"
             ],
             [
              1,
              "#f0f921"
             ]
            ],
            "type": "contour"
           }
          ],
          "contourcarpet": [
           {
            "colorbar": {
             "outlinewidth": 0,
             "ticks": ""
            },
            "type": "contourcarpet"
           }
          ],
          "heatmap": [
           {
            "colorbar": {
             "outlinewidth": 0,
             "ticks": ""
            },
            "colorscale": [
             [
              0,
              "#0d0887"
             ],
             [
              0.1111111111111111,
              "#46039f"
             ],
             [
              0.2222222222222222,
              "#7201a8"
             ],
             [
              0.3333333333333333,
              "#9c179e"
             ],
             [
              0.4444444444444444,
              "#bd3786"
             ],
             [
              0.5555555555555556,
              "#d8576b"
             ],
             [
              0.6666666666666666,
              "#ed7953"
             ],
             [
              0.7777777777777778,
              "#fb9f3a"
             ],
             [
              0.8888888888888888,
              "#fdca26"
             ],
             [
              1,
              "#f0f921"
             ]
            ],
            "type": "heatmap"
           }
          ],
          "heatmapgl": [
           {
            "colorbar": {
             "outlinewidth": 0,
             "ticks": ""
            },
            "colorscale": [
             [
              0,
              "#0d0887"
             ],
             [
              0.1111111111111111,
              "#46039f"
             ],
             [
              0.2222222222222222,
              "#7201a8"
             ],
             [
              0.3333333333333333,
              "#9c179e"
             ],
             [
              0.4444444444444444,
              "#bd3786"
             ],
             [
              0.5555555555555556,
              "#d8576b"
             ],
             [
              0.6666666666666666,
              "#ed7953"
             ],
             [
              0.7777777777777778,
              "#fb9f3a"
             ],
             [
              0.8888888888888888,
              "#fdca26"
             ],
             [
              1,
              "#f0f921"
             ]
            ],
            "type": "heatmapgl"
           }
          ],
          "histogram": [
           {
            "marker": {
             "pattern": {
              "fillmode": "overlay",
              "size": 10,
              "solidity": 0.2
             }
            },
            "type": "histogram"
           }
          ],
          "histogram2d": [
           {
            "colorbar": {
             "outlinewidth": 0,
             "ticks": ""
            },
            "colorscale": [
             [
              0,
              "#0d0887"
             ],
             [
              0.1111111111111111,
              "#46039f"
             ],
             [
              0.2222222222222222,
              "#7201a8"
             ],
             [
              0.3333333333333333,
              "#9c179e"
             ],
             [
              0.4444444444444444,
              "#bd3786"
             ],
             [
              0.5555555555555556,
              "#d8576b"
             ],
             [
              0.6666666666666666,
              "#ed7953"
             ],
             [
              0.7777777777777778,
              "#fb9f3a"
             ],
             [
              0.8888888888888888,
              "#fdca26"
             ],
             [
              1,
              "#f0f921"
             ]
            ],
            "type": "histogram2d"
           }
          ],
          "histogram2dcontour": [
           {
            "colorbar": {
             "outlinewidth": 0,
             "ticks": ""
            },
            "colorscale": [
             [
              0,
              "#0d0887"
             ],
             [
              0.1111111111111111,
              "#46039f"
             ],
             [
              0.2222222222222222,
              "#7201a8"
             ],
             [
              0.3333333333333333,
              "#9c179e"
             ],
             [
              0.4444444444444444,
              "#bd3786"
             ],
             [
              0.5555555555555556,
              "#d8576b"
             ],
             [
              0.6666666666666666,
              "#ed7953"
             ],
             [
              0.7777777777777778,
              "#fb9f3a"
             ],
             [
              0.8888888888888888,
              "#fdca26"
             ],
             [
              1,
              "#f0f921"
             ]
            ],
            "type": "histogram2dcontour"
           }
          ],
          "mesh3d": [
           {
            "colorbar": {
             "outlinewidth": 0,
             "ticks": ""
            },
            "type": "mesh3d"
           }
          ],
          "parcoords": [
           {
            "line": {
             "colorbar": {
              "outlinewidth": 0,
              "ticks": ""
             }
            },
            "type": "parcoords"
           }
          ],
          "pie": [
           {
            "automargin": true,
            "type": "pie"
           }
          ],
          "scatter": [
           {
            "fillpattern": {
             "fillmode": "overlay",
             "size": 10,
             "solidity": 0.2
            },
            "type": "scatter"
           }
          ],
          "scatter3d": [
           {
            "line": {
             "colorbar": {
              "outlinewidth": 0,
              "ticks": ""
             }
            },
            "marker": {
             "colorbar": {
              "outlinewidth": 0,
              "ticks": ""
             }
            },
            "type": "scatter3d"
           }
          ],
          "scattercarpet": [
           {
            "marker": {
             "colorbar": {
              "outlinewidth": 0,
              "ticks": ""
             }
            },
            "type": "scattercarpet"
           }
          ],
          "scattergeo": [
           {
            "marker": {
             "colorbar": {
              "outlinewidth": 0,
              "ticks": ""
             }
            },
            "type": "scattergeo"
           }
          ],
          "scattergl": [
           {
            "marker": {
             "colorbar": {
              "outlinewidth": 0,
              "ticks": ""
             }
            },
            "type": "scattergl"
           }
          ],
          "scattermapbox": [
           {
            "marker": {
             "colorbar": {
              "outlinewidth": 0,
              "ticks": ""
             }
            },
            "type": "scattermapbox"
           }
          ],
          "scatterpolar": [
           {
            "marker": {
             "colorbar": {
              "outlinewidth": 0,
              "ticks": ""
             }
            },
            "type": "scatterpolar"
           }
          ],
          "scatterpolargl": [
           {
            "marker": {
             "colorbar": {
              "outlinewidth": 0,
              "ticks": ""
             }
            },
            "type": "scatterpolargl"
           }
          ],
          "scatterternary": [
           {
            "marker": {
             "colorbar": {
              "outlinewidth": 0,
              "ticks": ""
             }
            },
            "type": "scatterternary"
           }
          ],
          "surface": [
           {
            "colorbar": {
             "outlinewidth": 0,
             "ticks": ""
            },
            "colorscale": [
             [
              0,
              "#0d0887"
             ],
             [
              0.1111111111111111,
              "#46039f"
             ],
             [
              0.2222222222222222,
              "#7201a8"
             ],
             [
              0.3333333333333333,
              "#9c179e"
             ],
             [
              0.4444444444444444,
              "#bd3786"
             ],
             [
              0.5555555555555556,
              "#d8576b"
             ],
             [
              0.6666666666666666,
              "#ed7953"
             ],
             [
              0.7777777777777778,
              "#fb9f3a"
             ],
             [
              0.8888888888888888,
              "#fdca26"
             ],
             [
              1,
              "#f0f921"
             ]
            ],
            "type": "surface"
           }
          ],
          "table": [
           {
            "cells": {
             "fill": {
              "color": "#EBF0F8"
             },
             "line": {
              "color": "white"
             }
            },
            "header": {
             "fill": {
              "color": "#C8D4E3"
             },
             "line": {
              "color": "white"
             }
            },
            "type": "table"
           }
          ]
         },
         "layout": {
          "annotationdefaults": {
           "arrowcolor": "#2a3f5f",
           "arrowhead": 0,
           "arrowwidth": 1
          },
          "autotypenumbers": "strict",
          "coloraxis": {
           "colorbar": {
            "outlinewidth": 0,
            "ticks": ""
           }
          },
          "colorscale": {
           "diverging": [
            [
             0,
             "#8e0152"
            ],
            [
             0.1,
             "#c51b7d"
            ],
            [
             0.2,
             "#de77ae"
            ],
            [
             0.3,
             "#f1b6da"
            ],
            [
             0.4,
             "#fde0ef"
            ],
            [
             0.5,
             "#f7f7f7"
            ],
            [
             0.6,
             "#e6f5d0"
            ],
            [
             0.7,
             "#b8e186"
            ],
            [
             0.8,
             "#7fbc41"
            ],
            [
             0.9,
             "#4d9221"
            ],
            [
             1,
             "#276419"
            ]
           ],
           "sequential": [
            [
             0,
             "#0d0887"
            ],
            [
             0.1111111111111111,
             "#46039f"
            ],
            [
             0.2222222222222222,
             "#7201a8"
            ],
            [
             0.3333333333333333,
             "#9c179e"
            ],
            [
             0.4444444444444444,
             "#bd3786"
            ],
            [
             0.5555555555555556,
             "#d8576b"
            ],
            [
             0.6666666666666666,
             "#ed7953"
            ],
            [
             0.7777777777777778,
             "#fb9f3a"
            ],
            [
             0.8888888888888888,
             "#fdca26"
            ],
            [
             1,
             "#f0f921"
            ]
           ],
           "sequentialminus": [
            [
             0,
             "#0d0887"
            ],
            [
             0.1111111111111111,
             "#46039f"
            ],
            [
             0.2222222222222222,
             "#7201a8"
            ],
            [
             0.3333333333333333,
             "#9c179e"
            ],
            [
             0.4444444444444444,
             "#bd3786"
            ],
            [
             0.5555555555555556,
             "#d8576b"
            ],
            [
             0.6666666666666666,
             "#ed7953"
            ],
            [
             0.7777777777777778,
             "#fb9f3a"
            ],
            [
             0.8888888888888888,
             "#fdca26"
            ],
            [
             1,
             "#f0f921"
            ]
           ]
          },
          "colorway": [
           "#636efa",
           "#EF553B",
           "#00cc96",
           "#ab63fa",
           "#FFA15A",
           "#19d3f3",
           "#FF6692",
           "#B6E880",
           "#FF97FF",
           "#FECB52"
          ],
          "font": {
           "color": "#2a3f5f"
          },
          "geo": {
           "bgcolor": "white",
           "lakecolor": "white",
           "landcolor": "#E5ECF6",
           "showlakes": true,
           "showland": true,
           "subunitcolor": "white"
          },
          "hoverlabel": {
           "align": "left"
          },
          "hovermode": "closest",
          "mapbox": {
           "style": "light"
          },
          "paper_bgcolor": "white",
          "plot_bgcolor": "#E5ECF6",
          "polar": {
           "angularaxis": {
            "gridcolor": "white",
            "linecolor": "white",
            "ticks": ""
           },
           "bgcolor": "#E5ECF6",
           "radialaxis": {
            "gridcolor": "white",
            "linecolor": "white",
            "ticks": ""
           }
          },
          "scene": {
           "xaxis": {
            "backgroundcolor": "#E5ECF6",
            "gridcolor": "white",
            "gridwidth": 2,
            "linecolor": "white",
            "showbackground": true,
            "ticks": "",
            "zerolinecolor": "white"
           },
           "yaxis": {
            "backgroundcolor": "#E5ECF6",
            "gridcolor": "white",
            "gridwidth": 2,
            "linecolor": "white",
            "showbackground": true,
            "ticks": "",
            "zerolinecolor": "white"
           },
           "zaxis": {
            "backgroundcolor": "#E5ECF6",
            "gridcolor": "white",
            "gridwidth": 2,
            "linecolor": "white",
            "showbackground": true,
            "ticks": "",
            "zerolinecolor": "white"
           }
          },
          "shapedefaults": {
           "line": {
            "color": "#2a3f5f"
           }
          },
          "ternary": {
           "aaxis": {
            "gridcolor": "white",
            "linecolor": "white",
            "ticks": ""
           },
           "baxis": {
            "gridcolor": "white",
            "linecolor": "white",
            "ticks": ""
           },
           "bgcolor": "#E5ECF6",
           "caxis": {
            "gridcolor": "white",
            "linecolor": "white",
            "ticks": ""
           }
          },
          "title": {
           "x": 0.05
          },
          "xaxis": {
           "automargin": true,
           "gridcolor": "white",
           "linecolor": "white",
           "ticks": "",
           "title": {
            "standoff": 15
           },
           "zerolinecolor": "white",
           "zerolinewidth": 2
          },
          "yaxis": {
           "automargin": true,
           "gridcolor": "white",
           "linecolor": "white",
           "ticks": "",
           "title": {
            "standoff": 15
           },
           "zerolinecolor": "white",
           "zerolinewidth": 2
          }
         }
        },
        "title": {
         "text": "Cluster Changes Over Years by Country",
         "x": 0.5,
         "xanchor": "center",
         "y": 0.95,
         "yanchor": "top"
        },
        "width": 1000,
        "xaxis": {
         "anchor": "y",
         "domain": [
          0,
          1
         ],
         "range": [
          2004.5,
          2020
         ]
        },
        "yaxis": {
         "anchor": "x",
         "domain": [
          0,
          1
         ],
         "gridcolor": "LightGrey",
         "range": [
          -0.25,
          4.25
         ],
         "showgrid": true,
         "tickvals": [
          0,
          1,
          2,
          3,
          4
         ],
         "zeroline": true,
         "zerolinecolor": "LightGrey",
         "zerolinewidth": 1
        }
       }
      }
     },
     "metadata": {},
     "output_type": "display_data"
    },
    {
     "data": {
      "application/vnd.jupyter.widget-view+json": {
       "model_id": "774f8d544ff749ccb60037d8caffcf49",
       "version_major": 2,
       "version_minor": 0
      },
      "text/plain": [
       "interactive(children=(SelectMultiple(description='Countries', options=('Afghanistan', 'Albania', 'Algeria', 'A…"
      ]
     },
     "metadata": {},
     "output_type": "display_data"
    },
    {
     "data": {
      "application/vnd.plotly.v1+json": {
       "config": {
        "plotlyServerURL": "https://plot.ly"
       },
       "data": [
        {
         "hovertemplate": "<extra></extra>",
         "legendgroup": "",
         "line": {
          "color": "#636efa",
          "dash": "solid"
         },
         "marker": {
          "symbol": "circle"
         },
         "mode": "lines",
         "name": "",
         "orientation": "v",
         "showlegend": false,
         "type": "scatter",
         "xaxis": "x",
         "yaxis": "y"
        },
        {
         "hovertemplate": "<b>%{hovertext}</b><br><br>year=%{x}<br>cluster=%{y}<extra></extra>",
         "hovertext": [
          "Hong Kong S.A.R. of China",
          "Hong Kong S.A.R. of China",
          "Hong Kong S.A.R. of China",
          "Hong Kong S.A.R. of China",
          "Hong Kong S.A.R. of China",
          "Hong Kong S.A.R. of China",
          "Hong Kong S.A.R. of China",
          "Hong Kong S.A.R. of China",
          "Hong Kong S.A.R. of China",
          "Hong Kong S.A.R. of China",
          "Hong Kong S.A.R. of China"
         ],
         "legendgroup": "",
         "line": {
          "color": "#636EFA",
          "dash": "solid"
         },
         "marker": {
          "symbol": "circle"
         },
         "mode": "lines",
         "name": "Hong Kong S.A.R. of China",
         "orientation": "v",
         "showlegend": true,
         "type": "scatter",
         "x": [
          2006,
          2008,
          2009,
          2010,
          2011,
          2012,
          2014,
          2016,
          2017,
          2019,
          2020
         ],
         "xaxis": "x",
         "y": [
          4,
          4,
          4,
          4,
          4,
          4,
          4,
          4,
          4,
          4,
          4
         ],
         "yaxis": "y"
        }
       ],
       "layout": {
        "height": 700,
        "legend": {
         "orientation": "h",
         "title": {
          "text": "Country"
         },
         "tracegroupgap": 0,
         "x": 0.5,
         "xanchor": "center",
         "y": -0.15,
         "yanchor": "bottom"
        },
        "margin": {
         "t": 60
        },
        "plot_bgcolor": "white",
        "showlegend": true,
        "template": {
         "data": {
          "bar": [
           {
            "error_x": {
             "color": "#2a3f5f"
            },
            "error_y": {
             "color": "#2a3f5f"
            },
            "marker": {
             "line": {
              "color": "#E5ECF6",
              "width": 0.5
             },
             "pattern": {
              "fillmode": "overlay",
              "size": 10,
              "solidity": 0.2
             }
            },
            "type": "bar"
           }
          ],
          "barpolar": [
           {
            "marker": {
             "line": {
              "color": "#E5ECF6",
              "width": 0.5
             },
             "pattern": {
              "fillmode": "overlay",
              "size": 10,
              "solidity": 0.2
             }
            },
            "type": "barpolar"
           }
          ],
          "carpet": [
           {
            "aaxis": {
             "endlinecolor": "#2a3f5f",
             "gridcolor": "white",
             "linecolor": "white",
             "minorgridcolor": "white",
             "startlinecolor": "#2a3f5f"
            },
            "baxis": {
             "endlinecolor": "#2a3f5f",
             "gridcolor": "white",
             "linecolor": "white",
             "minorgridcolor": "white",
             "startlinecolor": "#2a3f5f"
            },
            "type": "carpet"
           }
          ],
          "choropleth": [
           {
            "colorbar": {
             "outlinewidth": 0,
             "ticks": ""
            },
            "type": "choropleth"
           }
          ],
          "contour": [
           {
            "colorbar": {
             "outlinewidth": 0,
             "ticks": ""
            },
            "colorscale": [
             [
              0,
              "#0d0887"
             ],
             [
              0.1111111111111111,
              "#46039f"
             ],
             [
              0.2222222222222222,
              "#7201a8"
             ],
             [
              0.3333333333333333,
              "#9c179e"
             ],
             [
              0.4444444444444444,
              "#bd3786"
             ],
             [
              0.5555555555555556,
              "#d8576b"
             ],
             [
              0.6666666666666666,
              "#ed7953"
             ],
             [
              0.7777777777777778,
              "#fb9f3a"
             ],
             [
              0.8888888888888888,
              "#fdca26"
             ],
             [
              1,
              "#f0f921"
             ]
            ],
            "type": "contour"
           }
          ],
          "contourcarpet": [
           {
            "colorbar": {
             "outlinewidth": 0,
             "ticks": ""
            },
            "type": "contourcarpet"
           }
          ],
          "heatmap": [
           {
            "colorbar": {
             "outlinewidth": 0,
             "ticks": ""
            },
            "colorscale": [
             [
              0,
              "#0d0887"
             ],
             [
              0.1111111111111111,
              "#46039f"
             ],
             [
              0.2222222222222222,
              "#7201a8"
             ],
             [
              0.3333333333333333,
              "#9c179e"
             ],
             [
              0.4444444444444444,
              "#bd3786"
             ],
             [
              0.5555555555555556,
              "#d8576b"
             ],
             [
              0.6666666666666666,
              "#ed7953"
             ],
             [
              0.7777777777777778,
              "#fb9f3a"
             ],
             [
              0.8888888888888888,
              "#fdca26"
             ],
             [
              1,
              "#f0f921"
             ]
            ],
            "type": "heatmap"
           }
          ],
          "heatmapgl": [
           {
            "colorbar": {
             "outlinewidth": 0,
             "ticks": ""
            },
            "colorscale": [
             [
              0,
              "#0d0887"
             ],
             [
              0.1111111111111111,
              "#46039f"
             ],
             [
              0.2222222222222222,
              "#7201a8"
             ],
             [
              0.3333333333333333,
              "#9c179e"
             ],
             [
              0.4444444444444444,
              "#bd3786"
             ],
             [
              0.5555555555555556,
              "#d8576b"
             ],
             [
              0.6666666666666666,
              "#ed7953"
             ],
             [
              0.7777777777777778,
              "#fb9f3a"
             ],
             [
              0.8888888888888888,
              "#fdca26"
             ],
             [
              1,
              "#f0f921"
             ]
            ],
            "type": "heatmapgl"
           }
          ],
          "histogram": [
           {
            "marker": {
             "pattern": {
              "fillmode": "overlay",
              "size": 10,
              "solidity": 0.2
             }
            },
            "type": "histogram"
           }
          ],
          "histogram2d": [
           {
            "colorbar": {
             "outlinewidth": 0,
             "ticks": ""
            },
            "colorscale": [
             [
              0,
              "#0d0887"
             ],
             [
              0.1111111111111111,
              "#46039f"
             ],
             [
              0.2222222222222222,
              "#7201a8"
             ],
             [
              0.3333333333333333,
              "#9c179e"
             ],
             [
              0.4444444444444444,
              "#bd3786"
             ],
             [
              0.5555555555555556,
              "#d8576b"
             ],
             [
              0.6666666666666666,
              "#ed7953"
             ],
             [
              0.7777777777777778,
              "#fb9f3a"
             ],
             [
              0.8888888888888888,
              "#fdca26"
             ],
             [
              1,
              "#f0f921"
             ]
            ],
            "type": "histogram2d"
           }
          ],
          "histogram2dcontour": [
           {
            "colorbar": {
             "outlinewidth": 0,
             "ticks": ""
            },
            "colorscale": [
             [
              0,
              "#0d0887"
             ],
             [
              0.1111111111111111,
              "#46039f"
             ],
             [
              0.2222222222222222,
              "#7201a8"
             ],
             [
              0.3333333333333333,
              "#9c179e"
             ],
             [
              0.4444444444444444,
              "#bd3786"
             ],
             [
              0.5555555555555556,
              "#d8576b"
             ],
             [
              0.6666666666666666,
              "#ed7953"
             ],
             [
              0.7777777777777778,
              "#fb9f3a"
             ],
             [
              0.8888888888888888,
              "#fdca26"
             ],
             [
              1,
              "#f0f921"
             ]
            ],
            "type": "histogram2dcontour"
           }
          ],
          "mesh3d": [
           {
            "colorbar": {
             "outlinewidth": 0,
             "ticks": ""
            },
            "type": "mesh3d"
           }
          ],
          "parcoords": [
           {
            "line": {
             "colorbar": {
              "outlinewidth": 0,
              "ticks": ""
             }
            },
            "type": "parcoords"
           }
          ],
          "pie": [
           {
            "automargin": true,
            "type": "pie"
           }
          ],
          "scatter": [
           {
            "fillpattern": {
             "fillmode": "overlay",
             "size": 10,
             "solidity": 0.2
            },
            "type": "scatter"
           }
          ],
          "scatter3d": [
           {
            "line": {
             "colorbar": {
              "outlinewidth": 0,
              "ticks": ""
             }
            },
            "marker": {
             "colorbar": {
              "outlinewidth": 0,
              "ticks": ""
             }
            },
            "type": "scatter3d"
           }
          ],
          "scattercarpet": [
           {
            "marker": {
             "colorbar": {
              "outlinewidth": 0,
              "ticks": ""
             }
            },
            "type": "scattercarpet"
           }
          ],
          "scattergeo": [
           {
            "marker": {
             "colorbar": {
              "outlinewidth": 0,
              "ticks": ""
             }
            },
            "type": "scattergeo"
           }
          ],
          "scattergl": [
           {
            "marker": {
             "colorbar": {
              "outlinewidth": 0,
              "ticks": ""
             }
            },
            "type": "scattergl"
           }
          ],
          "scattermapbox": [
           {
            "marker": {
             "colorbar": {
              "outlinewidth": 0,
              "ticks": ""
             }
            },
            "type": "scattermapbox"
           }
          ],
          "scatterpolar": [
           {
            "marker": {
             "colorbar": {
              "outlinewidth": 0,
              "ticks": ""
             }
            },
            "type": "scatterpolar"
           }
          ],
          "scatterpolargl": [
           {
            "marker": {
             "colorbar": {
              "outlinewidth": 0,
              "ticks": ""
             }
            },
            "type": "scatterpolargl"
           }
          ],
          "scatterternary": [
           {
            "marker": {
             "colorbar": {
              "outlinewidth": 0,
              "ticks": ""
             }
            },
            "type": "scatterternary"
           }
          ],
          "surface": [
           {
            "colorbar": {
             "outlinewidth": 0,
             "ticks": ""
            },
            "colorscale": [
             [
              0,
              "#0d0887"
             ],
             [
              0.1111111111111111,
              "#46039f"
             ],
             [
              0.2222222222222222,
              "#7201a8"
             ],
             [
              0.3333333333333333,
              "#9c179e"
             ],
             [
              0.4444444444444444,
              "#bd3786"
             ],
             [
              0.5555555555555556,
              "#d8576b"
             ],
             [
              0.6666666666666666,
              "#ed7953"
             ],
             [
              0.7777777777777778,
              "#fb9f3a"
             ],
             [
              0.8888888888888888,
              "#fdca26"
             ],
             [
              1,
              "#f0f921"
             ]
            ],
            "type": "surface"
           }
          ],
          "table": [
           {
            "cells": {
             "fill": {
              "color": "#EBF0F8"
             },
             "line": {
              "color": "white"
             }
            },
            "header": {
             "fill": {
              "color": "#C8D4E3"
             },
             "line": {
              "color": "white"
             }
            },
            "type": "table"
           }
          ]
         },
         "layout": {
          "annotationdefaults": {
           "arrowcolor": "#2a3f5f",
           "arrowhead": 0,
           "arrowwidth": 1
          },
          "autotypenumbers": "strict",
          "coloraxis": {
           "colorbar": {
            "outlinewidth": 0,
            "ticks": ""
           }
          },
          "colorscale": {
           "diverging": [
            [
             0,
             "#8e0152"
            ],
            [
             0.1,
             "#c51b7d"
            ],
            [
             0.2,
             "#de77ae"
            ],
            [
             0.3,
             "#f1b6da"
            ],
            [
             0.4,
             "#fde0ef"
            ],
            [
             0.5,
             "#f7f7f7"
            ],
            [
             0.6,
             "#e6f5d0"
            ],
            [
             0.7,
             "#b8e186"
            ],
            [
             0.8,
             "#7fbc41"
            ],
            [
             0.9,
             "#4d9221"
            ],
            [
             1,
             "#276419"
            ]
           ],
           "sequential": [
            [
             0,
             "#0d0887"
            ],
            [
             0.1111111111111111,
             "#46039f"
            ],
            [
             0.2222222222222222,
             "#7201a8"
            ],
            [
             0.3333333333333333,
             "#9c179e"
            ],
            [
             0.4444444444444444,
             "#bd3786"
            ],
            [
             0.5555555555555556,
             "#d8576b"
            ],
            [
             0.6666666666666666,
             "#ed7953"
            ],
            [
             0.7777777777777778,
             "#fb9f3a"
            ],
            [
             0.8888888888888888,
             "#fdca26"
            ],
            [
             1,
             "#f0f921"
            ]
           ],
           "sequentialminus": [
            [
             0,
             "#0d0887"
            ],
            [
             0.1111111111111111,
             "#46039f"
            ],
            [
             0.2222222222222222,
             "#7201a8"
            ],
            [
             0.3333333333333333,
             "#9c179e"
            ],
            [
             0.4444444444444444,
             "#bd3786"
            ],
            [
             0.5555555555555556,
             "#d8576b"
            ],
            [
             0.6666666666666666,
             "#ed7953"
            ],
            [
             0.7777777777777778,
             "#fb9f3a"
            ],
            [
             0.8888888888888888,
             "#fdca26"
            ],
            [
             1,
             "#f0f921"
            ]
           ]
          },
          "colorway": [
           "#636efa",
           "#EF553B",
           "#00cc96",
           "#ab63fa",
           "#FFA15A",
           "#19d3f3",
           "#FF6692",
           "#B6E880",
           "#FF97FF",
           "#FECB52"
          ],
          "font": {
           "color": "#2a3f5f"
          },
          "geo": {
           "bgcolor": "white",
           "lakecolor": "white",
           "landcolor": "#E5ECF6",
           "showlakes": true,
           "showland": true,
           "subunitcolor": "white"
          },
          "hoverlabel": {
           "align": "left"
          },
          "hovermode": "closest",
          "mapbox": {
           "style": "light"
          },
          "paper_bgcolor": "white",
          "plot_bgcolor": "#E5ECF6",
          "polar": {
           "angularaxis": {
            "gridcolor": "white",
            "linecolor": "white",
            "ticks": ""
           },
           "bgcolor": "#E5ECF6",
           "radialaxis": {
            "gridcolor": "white",
            "linecolor": "white",
            "ticks": ""
           }
          },
          "scene": {
           "xaxis": {
            "backgroundcolor": "#E5ECF6",
            "gridcolor": "white",
            "gridwidth": 2,
            "linecolor": "white",
            "showbackground": true,
            "ticks": "",
            "zerolinecolor": "white"
           },
           "yaxis": {
            "backgroundcolor": "#E5ECF6",
            "gridcolor": "white",
            "gridwidth": 2,
            "linecolor": "white",
            "showbackground": true,
            "ticks": "",
            "zerolinecolor": "white"
           },
           "zaxis": {
            "backgroundcolor": "#E5ECF6",
            "gridcolor": "white",
            "gridwidth": 2,
            "linecolor": "white",
            "showbackground": true,
            "ticks": "",
            "zerolinecolor": "white"
           }
          },
          "shapedefaults": {
           "line": {
            "color": "#2a3f5f"
           }
          },
          "ternary": {
           "aaxis": {
            "gridcolor": "white",
            "linecolor": "white",
            "ticks": ""
           },
           "baxis": {
            "gridcolor": "white",
            "linecolor": "white",
            "ticks": ""
           },
           "bgcolor": "#E5ECF6",
           "caxis": {
            "gridcolor": "white",
            "linecolor": "white",
            "ticks": ""
           }
          },
          "title": {
           "x": 0.05
          },
          "xaxis": {
           "automargin": true,
           "gridcolor": "white",
           "linecolor": "white",
           "ticks": "",
           "title": {
            "standoff": 15
           },
           "zerolinecolor": "white",
           "zerolinewidth": 2
          },
          "yaxis": {
           "automargin": true,
           "gridcolor": "white",
           "linecolor": "white",
           "ticks": "",
           "title": {
            "standoff": 15
           },
           "zerolinecolor": "white",
           "zerolinewidth": 2
          }
         }
        },
        "title": {
         "text": "Cluster Changes Over Years by Country",
         "x": 0.5,
         "xanchor": "center",
         "y": 0.95,
         "yanchor": "top"
        },
        "width": 1000,
        "xaxis": {
         "anchor": "y",
         "domain": [
          0,
          1
         ],
         "range": [
          2004.5,
          2020
         ]
        },
        "yaxis": {
         "anchor": "x",
         "domain": [
          0,
          1
         ],
         "gridcolor": "LightGrey",
         "range": [
          -0.25,
          4.25
         ],
         "showgrid": true,
         "tickvals": [
          0,
          1,
          2,
          3,
          4
         ],
         "zeroline": true,
         "zerolinecolor": "LightGrey",
         "zerolinewidth": 1
        }
       }
      }
     },
     "metadata": {},
     "output_type": "display_data"
    },
    {
     "data": {
      "text/plain": [
       "<function __main__.interactive_plot_line(selected_countries)>"
      ]
     },
     "execution_count": 36,
     "metadata": {},
     "output_type": "execute_result"
    }
   ],
   "source": [
    "def interactive_plot_line(selected_countries):\n",
    "    #Define the default x-axis range\n",
    "    x_range = [np.min(cluster_data_lineplot['year'])-0.5, np.max(cluster_data_lineplot['year'])]\n",
    "\n",
    "    #Define default range for y-axis\n",
    "    y_range = [-0.25, 4.25]\n",
    "    if selected_countries:\n",
    "        filtered_data = cluster_data_lineplot[cluster_data_lineplot['country'].isin(selected_countries)]\n",
    "        y_range = [-0.25, 4.25]\n",
    "\n",
    "\n",
    "    fig = px.line()\n",
    "\n",
    "    if selected_countries:\n",
    "        \n",
    "        unique_colors = get_unique_colors(len(selected_countries))\n",
    "\n",
    "        #Add lines for each selected country\n",
    "        for i, country in enumerate(selected_countries):\n",
    "            country_data = filtered_data[filtered_data['country'] == country]\n",
    "            country_color = unique_colors[i % len(unique_colors)]\n",
    "\n",
    "            #Add line trace for each country\n",
    "            fig.add_trace(px.line(country_data, x=\"year\", y=\"cluster\",\n",
    "                                  color_discrete_sequence=[country_color],\n",
    "                                  hover_name=\"country\").data[0])\n",
    "\n",
    "            #Manually add legend entries\n",
    "            fig.data[-1].name = country  #Set the name of the last trace added\n",
    "            fig.data[-1].showlegend = True  #Ensure that the legend is shown for this trace\n",
    "\n",
    "    # Update layout of the plot\n",
    "    fig.update_layout(\n",
    "        plot_bgcolor='white', \n",
    "        width=1000,  \n",
    "        height=700,\n",
    "        showlegend=True,  \n",
    "        legend=dict(\n",
    "            title=\"Country\",  \n",
    "            orientation=\"h\", \n",
    "            yanchor=\"bottom\",\n",
    "            y=-0.15, \n",
    "            xanchor=\"center\",\n",
    "            x=0.5\n",
    "        ),\n",
    "        title={\n",
    "            'text': \"Cluster Changes Over Years by Country\",\n",
    "            'y':0.95,\n",
    "            'x':0.5,\n",
    "            'xanchor': 'center',\n",
    "            'yanchor': 'top'\n",
    "        },\n",
    "        yaxis=dict(\n",
    "            tickvals=[0, 1, 2, 3, 4],  #Set tick values for y-axis\n",
    "            range=y_range,  #Set range for y-axis\n",
    "            showgrid=True,\n",
    "            gridcolor='LightGrey',\n",
    "            zeroline=True,\n",
    "            zerolinecolor='LightGrey',\n",
    "            zerolinewidth=1\n",
    "        ),\n",
    "        xaxis=dict(\n",
    "            range=x_range  # Set range for x-axis\n",
    "        )\n",
    "    )\n",
    "    \n",
    "    fig.show()\n",
    "\n",
    "country_selection = widgets.SelectMultiple(options=cluster_data_lineplot['country'].unique(), \n",
    "                                           value=[], \n",
    "                                           description='Countries', \n",
    "                                           disabled=False)\n",
    "\n",
    "interact(interactive_plot_line, selected_countries=country_selection)"
   ]
  },
  {
   "cell_type": "code",
   "execution_count": 37,
   "id": "9c9213e2-bafd-43e9-8382-df48ce9aed95",
   "metadata": {},
   "outputs": [],
   "source": [
    "#Cluster averages\n",
    "\n",
    "index_life_ladder = cluster_data.columns.get_loc('life_ladder')\n",
    "index_suicide_rate = cluster_data.columns.get_loc('suicide_rate')\n",
    "index_cluster = cluster_data.columns.get_loc('cluster')\n",
    "\n",
    "variables = cluster_data.columns[index_life_ladder:index_suicide_rate+1].tolist() + cluster_data.columns[index_cluster:].tolist()\n",
    "\n",
    "averages = cluster_data.loc[:,variables].groupby(['cluster']).mean()"
   ]
  },
  {
   "cell_type": "code",
   "execution_count": 22,
   "id": "8bfd53c2-9dea-4f47-ad95-bc0a77f64c2f",
   "metadata": {
    "scrolled": true
   },
   "outputs": [
    {
     "data": {
      "text/html": [
       "<div>\n",
       "<style scoped>\n",
       "    .dataframe tbody tr th:only-of-type {\n",
       "        vertical-align: middle;\n",
       "    }\n",
       "\n",
       "    .dataframe tbody tr th {\n",
       "        vertical-align: top;\n",
       "    }\n",
       "\n",
       "    .dataframe thead th {\n",
       "        text-align: right;\n",
       "    }\n",
       "</style>\n",
       "<table border=\"1\" class=\"dataframe\">\n",
       "  <thead>\n",
       "    <tr style=\"text-align: right;\">\n",
       "      <th></th>\n",
       "      <th>life_ladder</th>\n",
       "      <th>log_gdp_per_capita</th>\n",
       "      <th>social_suppoprt</th>\n",
       "      <th>healthy_life_exp_at_birth</th>\n",
       "      <th>freedom_to_make_life_choices</th>\n",
       "      <th>generosity</th>\n",
       "      <th>perceptions_of_corruption</th>\n",
       "      <th>positive_affect</th>\n",
       "      <th>negative_affect</th>\n",
       "      <th>pop_density</th>\n",
       "      <th>suicide_rate</th>\n",
       "    </tr>\n",
       "    <tr>\n",
       "      <th>cluster</th>\n",
       "      <th></th>\n",
       "      <th></th>\n",
       "      <th></th>\n",
       "      <th></th>\n",
       "      <th></th>\n",
       "      <th></th>\n",
       "      <th></th>\n",
       "      <th></th>\n",
       "      <th></th>\n",
       "      <th></th>\n",
       "      <th></th>\n",
       "    </tr>\n",
       "  </thead>\n",
       "  <tbody>\n",
       "    <tr>\n",
       "      <th>0</th>\n",
       "      <td>4.356959</td>\n",
       "      <td>7.912637</td>\n",
       "      <td>0.690810</td>\n",
       "      <td>54.325539</td>\n",
       "      <td>0.695065</td>\n",
       "      <td>0.044776</td>\n",
       "      <td>0.783795</td>\n",
       "      <td>0.680886</td>\n",
       "      <td>0.289662</td>\n",
       "      <td>135.759848</td>\n",
       "      <td>6.906523</td>\n",
       "    </tr>\n",
       "    <tr>\n",
       "      <th>1</th>\n",
       "      <td>4.904805</td>\n",
       "      <td>9.366338</td>\n",
       "      <td>0.780517</td>\n",
       "      <td>63.495115</td>\n",
       "      <td>0.633498</td>\n",
       "      <td>-0.116300</td>\n",
       "      <td>0.830600</td>\n",
       "      <td>0.614119</td>\n",
       "      <td>0.311735</td>\n",
       "      <td>111.782855</td>\n",
       "      <td>9.743553</td>\n",
       "    </tr>\n",
       "    <tr>\n",
       "      <th>2</th>\n",
       "      <td>6.003703</td>\n",
       "      <td>9.608422</td>\n",
       "      <td>0.866013</td>\n",
       "      <td>66.178973</td>\n",
       "      <td>0.806623</td>\n",
       "      <td>0.011954</td>\n",
       "      <td>0.772902</td>\n",
       "      <td>0.794778</td>\n",
       "      <td>0.255961</td>\n",
       "      <td>134.292978</td>\n",
       "      <td>7.325918</td>\n",
       "    </tr>\n",
       "    <tr>\n",
       "      <th>3</th>\n",
       "      <td>5.965955</td>\n",
       "      <td>10.319293</td>\n",
       "      <td>0.897115</td>\n",
       "      <td>68.773686</td>\n",
       "      <td>0.738010</td>\n",
       "      <td>-0.115113</td>\n",
       "      <td>0.822663</td>\n",
       "      <td>0.688331</td>\n",
       "      <td>0.241456</td>\n",
       "      <td>128.646973</td>\n",
       "      <td>19.124592</td>\n",
       "    </tr>\n",
       "    <tr>\n",
       "      <th>4</th>\n",
       "      <td>7.042071</td>\n",
       "      <td>10.815915</td>\n",
       "      <td>0.925322</td>\n",
       "      <td>71.277289</td>\n",
       "      <td>0.904129</td>\n",
       "      <td>0.173627</td>\n",
       "      <td>0.426903</td>\n",
       "      <td>0.799038</td>\n",
       "      <td>0.217169</td>\n",
       "      <td>787.295287</td>\n",
       "      <td>11.809247</td>\n",
       "    </tr>\n",
       "  </tbody>\n",
       "</table>\n",
       "</div>"
      ],
      "text/plain": [
       "         life_ladder  log_gdp_per_capita  social_suppoprt  \\\n",
       "cluster                                                     \n",
       "0           4.356959            7.912637         0.690810   \n",
       "1           4.904805            9.366338         0.780517   \n",
       "2           6.003703            9.608422         0.866013   \n",
       "3           5.965955           10.319293         0.897115   \n",
       "4           7.042071           10.815915         0.925322   \n",
       "\n",
       "         healthy_life_exp_at_birth  freedom_to_make_life_choices  generosity  \\\n",
       "cluster                                                                        \n",
       "0                        54.325539                      0.695065    0.044776   \n",
       "1                        63.495115                      0.633498   -0.116300   \n",
       "2                        66.178973                      0.806623    0.011954   \n",
       "3                        68.773686                      0.738010   -0.115113   \n",
       "4                        71.277289                      0.904129    0.173627   \n",
       "\n",
       "         perceptions_of_corruption  positive_affect  negative_affect  \\\n",
       "cluster                                                                \n",
       "0                         0.783795         0.680886         0.289662   \n",
       "1                         0.830600         0.614119         0.311735   \n",
       "2                         0.772902         0.794778         0.255961   \n",
       "3                         0.822663         0.688331         0.241456   \n",
       "4                         0.426903         0.799038         0.217169   \n",
       "\n",
       "         pop_density  suicide_rate  \n",
       "cluster                             \n",
       "0         135.759848      6.906523  \n",
       "1         111.782855      9.743553  \n",
       "2         134.292978      7.325918  \n",
       "3         128.646973     19.124592  \n",
       "4         787.295287     11.809247  "
      ]
     },
     "execution_count": 22,
     "metadata": {},
     "output_type": "execute_result"
    }
   ],
   "source": [
    "averages.head()"
   ]
  },
  {
   "cell_type": "code",
   "execution_count": 23,
   "id": "f665edf4-4ece-474d-8faf-7616d791ac05",
   "metadata": {},
   "outputs": [],
   "source": [
    "cluster_data_filter = cluster_data[variables]"
   ]
  },
  {
   "cell_type": "code",
   "execution_count": 24,
   "id": "81909336-2689-4583-833f-2bb310fdb746",
   "metadata": {},
   "outputs": [
    {
     "data": {
      "image/png": "[encoded data removed]",
      "text/plain": [
       "<Figure size 2000x1500 with 11 Axes>"
      ]
     },
     "metadata": {},
     "output_type": "display_data"
    }
   ],
   "source": [
    "plt.figure(figsize=(20, 15))\n",
    "\n",
    "color_map = {\n",
    "        '0': '#228B22', \n",
    "        '1': '#00BFFF',    \n",
    "        '2': '#FFD700',  \n",
    "        '3': '#DC143C',\n",
    "        '4': '#7851A9'}\n",
    "\n",
    "#Iterate through each column except 'cluster' to create a boxplot\n",
    "for i, column in enumerate(cluster_data_filter.columns[:-1], 1):\n",
    "    plt.subplot(4, 3, i)\n",
    "    \n",
    "    #Create a list of data for each cluster for the current column\n",
    "    data_to_plot = [cluster_data_filter[cluster_data_filter['cluster'] == cluster][column] for cluster in ['0', '1', '2', '3', '4']]\n",
    "\n",
    "    bp = plt.boxplot(data_to_plot, patch_artist=True)\n",
    "\n",
    "    #Setting the colors for each boxplot\n",
    "    for patch, color in zip(bp['boxes'], color_map.values()):\n",
    "        patch.set_facecolor(color)\n",
    "\n",
    "    #Changing the color of the median line\n",
    "    for median in bp['medians']:\n",
    "        median.set_color('black')\n",
    "        median.set_linewidth(1)\n",
    "\n",
    "    plt.title(column)\n",
    "    plt.xticks(ticks=[1, 2, 3, 4, 5], labels=[str(x) for x in color_map.keys()])  \n",
    "    plt.xlim(0.5, 5.5) \n",
    "\n",
    "plt.tight_layout()\n",
    "plt.show()"
   ]
  },
  {
   "cell_type": "code",
   "execution_count": 25,
   "id": "fa9b2780-4dac-4474-8a40-a751345744d5",
   "metadata": {},
   "outputs": [],
   "source": [
    "index_year = cluster_data.columns.get_loc('year')\n",
    "index_country = cluster_data.columns.get_loc('country')\n",
    "index_cluster = cluster_data.columns.get_loc('cluster')\n",
    "\n",
    "variables_year = cluster_data.columns[index_year:index_country+1].tolist() + cluster_data.columns[index_cluster:].tolist()\n",
    "\n",
    "cluster_data_filter_year = cluster_data[variables_year]"
   ]
  },
  {
   "cell_type": "code",
   "execution_count": 26,
   "id": "759bf234-d696-40db-b533-de9e8abf040b",
   "metadata": {},
   "outputs": [
    {
     "data": {
      "text/html": [
       "<div>\n",
       "<style scoped>\n",
       "    .dataframe tbody tr th:only-of-type {\n",
       "        vertical-align: middle;\n",
       "    }\n",
       "\n",
       "    .dataframe tbody tr th {\n",
       "        vertical-align: top;\n",
       "    }\n",
       "\n",
       "    .dataframe thead th {\n",
       "        text-align: right;\n",
       "    }\n",
       "</style>\n",
       "<table border=\"1\" class=\"dataframe\">\n",
       "  <thead>\n",
       "    <tr style=\"text-align: right;\">\n",
       "      <th></th>\n",
       "      <th>year</th>\n",
       "      <th>life_ladder</th>\n",
       "      <th>log_gdp_per_capita</th>\n",
       "      <th>social_suppoprt</th>\n",
       "      <th>healthy_life_exp_at_birth</th>\n",
       "      <th>freedom_to_make_life_choices</th>\n",
       "      <th>generosity</th>\n",
       "      <th>perceptions_of_corruption</th>\n",
       "      <th>positive_affect</th>\n",
       "      <th>negative_affect</th>\n",
       "      <th>pop_density</th>\n",
       "      <th>suicide_rate</th>\n",
       "      <th>country</th>\n",
       "      <th>cluster</th>\n",
       "    </tr>\n",
       "  </thead>\n",
       "  <tbody>\n",
       "    <tr>\n",
       "      <th>0</th>\n",
       "      <td>2008.0</td>\n",
       "      <td>3.724</td>\n",
       "      <td>7.370</td>\n",
       "      <td>0.451</td>\n",
       "      <td>50.80</td>\n",
       "      <td>0.718</td>\n",
       "      <td>0.168</td>\n",
       "      <td>0.882</td>\n",
       "      <td>0.518</td>\n",
       "      <td>0.258</td>\n",
       "      <td>40.518221</td>\n",
       "      <td>4.6</td>\n",
       "      <td>Afghanistan</td>\n",
       "      <td>0</td>\n",
       "    </tr>\n",
       "    <tr>\n",
       "      <th>1</th>\n",
       "      <td>2009.0</td>\n",
       "      <td>4.402</td>\n",
       "      <td>7.540</td>\n",
       "      <td>0.552</td>\n",
       "      <td>51.20</td>\n",
       "      <td>0.679</td>\n",
       "      <td>0.190</td>\n",
       "      <td>0.850</td>\n",
       "      <td>0.584</td>\n",
       "      <td>0.237</td>\n",
       "      <td>41.987193</td>\n",
       "      <td>4.4</td>\n",
       "      <td>Afghanistan</td>\n",
       "      <td>0</td>\n",
       "    </tr>\n",
       "    <tr>\n",
       "      <th>2</th>\n",
       "      <td>2010.0</td>\n",
       "      <td>4.758</td>\n",
       "      <td>7.647</td>\n",
       "      <td>0.539</td>\n",
       "      <td>51.60</td>\n",
       "      <td>0.600</td>\n",
       "      <td>0.121</td>\n",
       "      <td>0.707</td>\n",
       "      <td>0.618</td>\n",
       "      <td>0.275</td>\n",
       "      <td>43.220447</td>\n",
       "      <td>4.3</td>\n",
       "      <td>Afghanistan</td>\n",
       "      <td>0</td>\n",
       "    </tr>\n",
       "    <tr>\n",
       "      <th>3</th>\n",
       "      <td>2011.0</td>\n",
       "      <td>3.832</td>\n",
       "      <td>7.620</td>\n",
       "      <td>0.521</td>\n",
       "      <td>51.92</td>\n",
       "      <td>0.496</td>\n",
       "      <td>0.162</td>\n",
       "      <td>0.731</td>\n",
       "      <td>0.611</td>\n",
       "      <td>0.267</td>\n",
       "      <td>44.844851</td>\n",
       "      <td>4.1</td>\n",
       "      <td>Afghanistan</td>\n",
       "      <td>0</td>\n",
       "    </tr>\n",
       "    <tr>\n",
       "      <th>4</th>\n",
       "      <td>2012.0</td>\n",
       "      <td>3.783</td>\n",
       "      <td>7.705</td>\n",
       "      <td>0.521</td>\n",
       "      <td>52.24</td>\n",
       "      <td>0.531</td>\n",
       "      <td>0.236</td>\n",
       "      <td>0.776</td>\n",
       "      <td>0.710</td>\n",
       "      <td>0.268</td>\n",
       "      <td>46.711251</td>\n",
       "      <td>4.0</td>\n",
       "      <td>Afghanistan</td>\n",
       "      <td>0</td>\n",
       "    </tr>\n",
       "  </tbody>\n",
       "</table>\n",
       "</div>"
      ],
      "text/plain": [
       "     year  life_ladder  log_gdp_per_capita  social_suppoprt  \\\n",
       "0  2008.0        3.724               7.370            0.451   \n",
       "1  2009.0        4.402               7.540            0.552   \n",
       "2  2010.0        4.758               7.647            0.539   \n",
       "3  2011.0        3.832               7.620            0.521   \n",
       "4  2012.0        3.783               7.705            0.521   \n",
       "\n",
       "   healthy_life_exp_at_birth  freedom_to_make_life_choices  generosity  \\\n",
       "0                      50.80                         0.718       0.168   \n",
       "1                      51.20                         0.679       0.190   \n",
       "2                      51.60                         0.600       0.121   \n",
       "3                      51.92                         0.496       0.162   \n",
       "4                      52.24                         0.531       0.236   \n",
       "\n",
       "   perceptions_of_corruption  positive_affect  negative_affect  pop_density  \\\n",
       "0                      0.882            0.518            0.258    40.518221   \n",
       "1                      0.850            0.584            0.237    41.987193   \n",
       "2                      0.707            0.618            0.275    43.220447   \n",
       "3                      0.731            0.611            0.267    44.844851   \n",
       "4                      0.776            0.710            0.268    46.711251   \n",
       "\n",
       "   suicide_rate      country cluster  \n",
       "0           4.6  Afghanistan       0  \n",
       "1           4.4  Afghanistan       0  \n",
       "2           4.3  Afghanistan       0  \n",
       "3           4.1  Afghanistan       0  \n",
       "4           4.0  Afghanistan       0  "
      ]
     },
     "execution_count": 26,
     "metadata": {},
     "output_type": "execute_result"
    }
   ],
   "source": [
    "cluster_data_filter_year.head()"
   ]
  },
  {
   "cell_type": "code",
   "execution_count": 27,
   "id": "fdc7dcb1-c833-4e94-a77b-7317da53c437",
   "metadata": {},
   "outputs": [
    {
     "data": {
      "application/vnd.jupyter.widget-view+json": {
       "model_id": "ceaf978a7fbe49e3856182ffd61d5e10",
       "version_major": 2,
       "version_minor": 0
      },
      "text/plain": [
       "Dropdown(description='Variable:', options=('life_ladder', 'log_gdp_per_capita', 'social_suppoprt', 'healthy_li…"
      ]
     },
     "metadata": {},
     "output_type": "display_data"
    },
    {
     "data": {
      "application/vnd.jupyter.widget-view+json": {
       "model_id": "e0d28aa4d17e4ce491be9df4aafe9157",
       "version_major": 2,
       "version_minor": 0
      },
      "text/plain": [
       "Checkbox(value=True, description='Ignore Year', indent=False)"
      ]
     },
     "metadata": {},
     "output_type": "display_data"
    },
    {
     "data": {
      "application/vnd.jupyter.widget-view+json": {
       "model_id": "853b792c12ba4b488bf13349a2f3927c",
       "version_major": 2,
       "version_minor": 0
      },
      "text/plain": [
       "IntSlider(value=2005, continuous_update=False, description='Year:', max=2020, min=2005)"
      ]
     },
     "metadata": {},
     "output_type": "display_data"
    },
    {
     "data": {
      "application/vnd.jupyter.widget-view+json": {
       "model_id": "7e4f482652d14e1a9993d5dab26caeda",
       "version_major": 2,
       "version_minor": 0
      },
      "text/plain": [
       "Output()"
      ]
     },
     "metadata": {},
     "output_type": "display_data"
    }
   ],
   "source": [
    "#Widget for variable selection\n",
    "variable_selector = widgets.Dropdown(\n",
    "    options=list(cluster_data_filter_year.columns[1:-2]),\n",
    "    description='Variable:',\n",
    "    disabled=False,\n",
    "    value='life_ladder'  \n",
    ")\n",
    "\n",
    "#Checkbox to ignore year\n",
    "ignore_year_checkbox = widgets.Checkbox(\n",
    "    value=True,\n",
    "    description='Ignore Year',\n",
    "    disabled=False,\n",
    "    indent=False\n",
    ")\n",
    "\n",
    "#Year slider\n",
    "year_slider = widgets.IntSlider(\n",
    "    value=cluster_data_filter_year['year'].min(),\n",
    "    min=cluster_data_filter_year['year'].min(),\n",
    "    max=cluster_data_filter_year['year'].max(),\n",
    "    step=1,\n",
    "    description='Year:',\n",
    "    disabled=False,\n",
    "    continuous_update=False,\n",
    "    orientation='horizontal',\n",
    "    readout=True,\n",
    "    readout_format='d',\n",
    ")\n",
    "\n",
    "output = widgets.Output()\n",
    "\n",
    "color_map = {\n",
    "    '0': '#228B22', \n",
    "    '1': '#00BFFF',    \n",
    "    '2': '#FFD700',  \n",
    "    '3': '#DC143C',\n",
    "    '4': '#7851A9'\n",
    "}\n",
    "\n",
    "#Function to update plot\n",
    "def update_plot(variable, ignore_year, selected_year):\n",
    "    with output:\n",
    "        clear_output(wait=True)  #Clear the existing plot\n",
    "        if ignore_year:\n",
    "            filtered_data = cluster_data_filter_year\n",
    "        else:\n",
    "            filtered_data = cluster_data_filter_year[cluster_data_filter_year['year'] == selected_year]\n",
    "\n",
    "        data_to_plot = [filtered_data[filtered_data['cluster'] == cluster][variable] for cluster in ['0', '1', '2', '3', '4']]\n",
    "        \n",
    "        fig = go.Figure()\n",
    "        \n",
    "        for i in ['0', '1', '2', '3', '4']:\n",
    "            cluster_data = filtered_data[filtered_data['cluster'] == i]\n",
    "            fig.add_trace(go.Box(\n",
    "                y=cluster_data[variable],\n",
    "                name=i,\n",
    "                marker_color=color_map[i],\n",
    "                boxpoints='outliers',  #Display outliers\n",
    "                text=cluster_data['country'], \n",
    "                hoverinfo='text'  \n",
    "            ))\n",
    "            \n",
    "        # Update layout\n",
    "        fig.update_layout(\n",
    "            title={\n",
    "                'text': f'{variable}',\n",
    "                'y':0.9,\n",
    "                'x':0.5,\n",
    "                'xanchor': 'center',\n",
    "                'yanchor': 'top'\n",
    "            },\n",
    "            showlegend=False,\n",
    "            plot_bgcolor='white',\n",
    "            height=600  \n",
    "        )\n",
    "        fig.show()\n",
    "\n",
    "#Interactivity\n",
    "def on_value_change(change):\n",
    "    with output:\n",
    "        update_plot(variable_selector.value, ignore_year_checkbox.value, year_slider.value)\n",
    "\n",
    "variable_selector.observe(on_value_change, names='value')\n",
    "ignore_year_checkbox.observe(on_value_change, names='value')\n",
    "year_slider.observe(on_value_change, names='value')\n",
    "\n",
    "display(variable_selector, ignore_year_checkbox, year_slider, output)\n",
    "\n",
    "update_plot(variable_selector.value, ignore_year_checkbox.value, year_slider.value)\n"
   ]
  },
  {
   "cell_type": "markdown",
   "id": "b37e47a2-0c83-4ee6-958c-0655c907130f",
   "metadata": {},
   "source": [
    "### Cluster map"
   ]
  },
  {
   "cell_type": "code",
   "execution_count": 28,
   "id": "c45ff14a-f8eb-4ab3-8cd9-b487598de614",
   "metadata": {},
   "outputs": [],
   "source": [
    "import geopandas as gpd\n",
    "\n",
    "updated_geodata = gpd.read_file('data/updated_geodata.shp')"
   ]
  },
  {
   "cell_type": "code",
   "execution_count": 29,
   "id": "b49ccc8b-d37b-4a5e-9303-2568d5517b22",
   "metadata": {},
   "outputs": [
    {
     "data": {
      "text/plain": [
       "country        object\n",
       "continent      object\n",
       "region         object\n",
       "geometry     geometry\n",
       "dtype: object"
      ]
     },
     "execution_count": 29,
     "metadata": {},
     "output_type": "execute_result"
    }
   ],
   "source": [
    "updated_geodata.dtypes"
   ]
  },
  {
   "cell_type": "code",
   "execution_count": 30,
   "id": "435e0308-4b80-4572-8dcd-c9b9d8bd4863",
   "metadata": {},
   "outputs": [
    {
     "data": {
      "text/plain": [
       "year                            float64\n",
       "life_ladder                     float64\n",
       "log_gdp_per_capita              float64\n",
       "social_suppoprt                 float64\n",
       "healthy_life_exp_at_birth       float64\n",
       "freedom_to_make_life_choices    float64\n",
       "generosity                      float64\n",
       "perceptions_of_corruption       float64\n",
       "positive_affect                 float64\n",
       "negative_affect                 float64\n",
       "pop_density                     float64\n",
       "suicide_rate                    float64\n",
       "country                          object\n",
       "cluster                          object\n",
       "dtype: object"
      ]
     },
     "execution_count": 30,
     "metadata": {},
     "output_type": "execute_result"
    }
   ],
   "source": [
    "cluster_data_filter_year.dtypes"
   ]
  },
  {
   "cell_type": "code",
   "execution_count": 31,
   "id": "c931f570-eebb-4205-9285-96aa8723ae01",
   "metadata": {},
   "outputs": [],
   "source": [
    "#Defining the interactive widget\n",
    "years = cluster_data_filter_year['year'].unique()\n",
    "\n",
    "year_slider = widgets.IntSlider(\n",
    "    value=max(years),\n",
    "    min=min(years),\n",
    "    max=max(years),\n",
    "    step=1,\n",
    "    description='Year:',\n",
    "    continuous_update=False\n",
    ")"
   ]
  },
  {
   "cell_type": "code",
   "execution_count": 36,
   "id": "931d5057-af8d-416d-bc0f-4ba8d503f945",
   "metadata": {},
   "outputs": [
    {
     "data": {
      "application/vnd.jupyter.widget-view+json": {
       "model_id": "1abf495d06ec4b678e8320b3e3d1ec16",
       "version_major": 2,
       "version_minor": 0
      },
      "text/plain": [
       "interactive(children=(IntSlider(value=2019, continuous_update=False, description='Year:', max=2020, min=2005),…"
      ]
     },
     "metadata": {},
     "output_type": "display_data"
    }
   ],
   "source": [
    "def create_map(year):\n",
    "    #Merge data with the GeoDataFrame\n",
    "    merged = updated_geodata.merge(cluster_data_filter_year[cluster_data_filter_year['year'] == year][['country', 'cluster']], \n",
    "                                   left_on='country', right_on='country', how='left')\n",
    "\n",
    "    merged['cluster'].fillna('NA', inplace=True)\n",
    "\n",
    "    merged = merged[merged.geometry.notnull()]\n",
    "\n",
    "    # Define a color map\n",
    "    color_map = {\n",
    "        '0': '#228B22', \n",
    "        '1': '#00BFFF',    \n",
    "        '2': '#FFD700',  \n",
    "        '3': '#DC143C',\n",
    "        '4': '#7851A9',\n",
    "        'NA': 'grey'  \n",
    "    }\n",
    "\n",
    "\n",
    "    m = folium.Map(location=[25, 0], zoom_start=1.5)\n",
    "\n",
    "    #Defining a function to style the features\n",
    "    def style_function(feature):\n",
    "        cluster = merged.loc[merged['country'] == feature['properties']['country'], 'cluster'].values[0]\n",
    "        return {\n",
    "            'fillColor': color_map.get(cluster, 'grey'),\n",
    "            'color': 'black',\n",
    "            'weight': 0.5,\n",
    "            'fillOpacity': 0.7\n",
    "        }\n",
    "\n",
    "    #Adding a GeoJson layer with the style function and tooltips\n",
    "    folium.GeoJson(\n",
    "        data=merged.__geo_interface__,\n",
    "        style_function=style_function,\n",
    "        tooltip=folium.GeoJsonTooltip(fields=['country', 'cluster'])\n",
    "    ).add_to(m)\n",
    "\n",
    "    folium.LayerControl().add_to(m)\n",
    "    \n",
    "    display(m)\n",
    "\n",
    "interactive_map = widgets.interactive(create_map, year=year_slider)\n",
    "\n",
    "display(interactive_map)"
   ]
  },
  {
   "cell_type": "code",
   "execution_count": null,
   "id": "b3518400-f97a-4e04-a1b8-f21725e941a6",
   "metadata": {},
   "outputs": [],
   "source": []
  }
 ],
 "metadata": {
  "kernelspec": {
   "display_name": "Python 3 (ipykernel)",
   "language": "python",
   "name": "python3"
  },
  "language_info": {
   "codemirror_mode": {
    "name": "ipython",
    "version": 3
   },
   "file_extension": ".py",
   "mimetype": "text/x-python",
   "name": "python",
   "nbconvert_exporter": "python",
   "pygments_lexer": "ipython3",
   "version": "3.10.12"
  }
 },
 "nbformat": 4,
 "nbformat_minor": 5
}
